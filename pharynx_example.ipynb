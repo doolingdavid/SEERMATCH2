{
 "cells": [
  {
   "cell_type": "code",
   "execution_count": 1,
   "metadata": {
    "collapsed": false,
    "slideshow": {
     "slide_type": "skip"
    }
   },
   "outputs": [
    {
     "data": {
      "text/html": [
       "<script>\n",
       "code_show=true; \n",
       "function code_toggle() {\n",
       " if (code_show){\n",
       " $('div.input').hide();\n",
       " } else {\n",
       " $('div.input').show();\n",
       " }\n",
       " code_show = !code_show\n",
       "} \n",
       "$( document ).ready(code_toggle);\n",
       "</script>\n",
       "<form action=\"javascript:code_toggle()\"><input type=\"submit\" value=\"Click here to toggle on/off the raw code.\"></form>"
      ],
      "text/plain": [
       "<IPython.core.display.HTML object>"
      ]
     },
     "execution_count": 1,
     "metadata": {},
     "output_type": "execute_result"
    }
   ],
   "source": [
    "from IPython.display import HTML\n",
    "\n",
    "HTML('''<script>\n",
    "code_show=true; \n",
    "function code_toggle() {\n",
    " if (code_show){\n",
    " $('div.input').hide();\n",
    " } else {\n",
    " $('div.input').show();\n",
    " }\n",
    " code_show = !code_show\n",
    "} \n",
    "$( document ).ready(code_toggle);\n",
    "</script>\n",
    "<form action=\"javascript:code_toggle()\"><input type=\"submit\" value=\"Click here to toggle on/off the raw code.\"></form>''')  "
   ]
  },
  {
   "cell_type": "code",
   "execution_count": 2,
   "metadata": {
    "collapsed": true,
    "slideshow": {
     "slide_type": "skip"
    }
   },
   "outputs": [],
   "source": [
    "import numpy as np\n",
    "import pandas as pd\n",
    "import matplotlib.pyplot as plt\n",
    "from pandas import Series, DataFrame\n",
    "import pytz\n",
    "from pytz import common_timezones, all_timezones\n",
    "import matplotlib\n",
    "matplotlib.style.use('ggplot')\n",
    "%matplotlib inline\n",
    "from datetime import datetime\n",
    "import scipy as sp\n",
    "import statsmodels.api as sm\n",
    "import statsmodels.formula.api as smf\n",
    "matplotlib.style.use('fivethirtyeight')\n",
    "matplotlib.style.use('seaborn-talk')"
   ]
  },
  {
   "cell_type": "markdown",
   "metadata": {
    "slideshow": {
     "slide_type": "slide"
    }
   },
   "source": [
    "This ipython notebook will illustrate the matching methodology we will use to match patients in the SEER-Medicare linked database. The comparison between patient outcomes between those patients who receive proton beam therapy vs traditional radiation therapy requires as a first step a matching of the two different groups. One method to perform this matching is to use Propensity Score Matching. Here we are going to illustrate a more direct method of matching using KDTrees, a data structure that allows for efficient finding of nearest neighbors in high-dimenional space."
   ]
  },
  {
   "cell_type": "markdown",
   "metadata": {
    "slideshow": {
     "slide_type": "slide"
    }
   },
   "source": [
    "We will first identify all patients that have been diagonised with some type of head and neck cancer as defined by the following primary site codes:\n",
    "Nasopharunx: (C110, C111, C112, C113, C118, C119)\n",
    "Oropharynx: (C091, C098, C099, C100, C101, C102, C103, C104, C108, C109)\n",
    "Salivary gland: (C079-C081, C088-C089)\n",
    "Pituitary gland: (C751)\n",
    "We will illustrate the methodology by using it on the latest release of the SEER data. We will identify all the patients with the above primary site codes. Then we will split the above patient population into two groups as follows:\n",
    "The treatment group, defined as the patients receiving any form of radiation\n",
    "the control group, defined as the patients who did not receive any form of radiation\n",
    "Operationally, these groups are defined by looking at the column RADIATN, which has values:"
   ]
  },
  {
   "cell_type": "markdown",
   "metadata": {
    "slideshow": {
     "slide_type": "slide"
    }
   },
   "source": [
    "| Code  |  Description |\n",
    "|:------------:|:----------------:|\n",
    "| 0 |   None; diagnosed at autopsy |\n",
    "| 1 |   Beam radiatiion |\n",
    "| 2 |   Radioacative implants |\n",
    "| 3 |   Radioisotopes |\n",
    "| 4  |  Combination of 1 with 2 or 3 |\n",
    "| 5  |  Radiation, NOS - method or source not specified |\n",
    "| 6 |   Other radiation (1973-1987 cases only) |\n",
    "| 7 |   Patient or patient's guardian refused radiation therapy |\n",
    "| 8 |   Radiation recommened, unknown if administered |\n",
    "| 9  |  Unknown if radiation administered |"
   ]
  },
  {
   "cell_type": "markdown",
   "metadata": {
    "slideshow": {
     "slide_type": "slide"
    }
   },
   "source": [
    "So that a value of 0 defines the control group, and the values (1,2,3,4,5,6) define the treatment group.\n",
    "We will then perform matching between the resulting treatment and control groups.\n",
    "We will then use the pooled group consiting of all the treament and control matched pairs to train two machine learning models that predict survival curves with censored data, as in http://arxiv.org/abs/1606.07369.\n",
    "Once the models have been trained and evaluted (splitting into training and test sets), we will then apply the model to each of the treamtent-control matched pairs and evaluate the model's prediction for the probabliity of surviving 60 months. The difference between treatment patients predicted probability and the control patient's predicted probablity will then be used as the (signed) measurement for performing paired t-tests, so that any observed differences can be classed as statistically significant (or not)."
   ]
  },
  {
   "cell_type": "code",
   "execution_count": 3,
   "metadata": {
    "collapsed": false,
    "slideshow": {
     "slide_type": "skip"
    }
   },
   "outputs": [
    {
     "name": "stdout",
     "output_type": "stream",
     "text": [
      "(1581838, 141)\n"
     ]
    }
   ],
   "source": [
    "import seerhelp\n",
    "otherfiles = seerhelp.get_otherfiles()\n",
    "otherfiles\n",
    "\n",
    "dfother0 = seerhelp.make_clean_dataframe(otherfiles[0])\n",
    "dfother1 = seerhelp.make_clean_dataframe(otherfiles[1])\n",
    "dfother2 = seerhelp.make_clean_dataframe(otherfiles[2])\n",
    "dfother3 = seerhelp.make_clean_dataframe(otherfiles[3])\n",
    "\n",
    "dfother = pd.concat([dfother0, dfother1, dfother2,\n",
    "                     dfother3], ignore_index=True)\n",
    "\n",
    "#dfother = pd.concat([dfother0, dfother1,dfother3], ignore_index=True)\n",
    "\n",
    "print(dfother.shape)\n",
    "\n",
    "del dfother0\n",
    "del dfother1\n",
    "del dfother2\n",
    "del dfother3"
   ]
  },
  {
   "cell_type": "code",
   "execution_count": 4,
   "metadata": {
    "collapsed": true,
    "slideshow": {
     "slide_type": "skip"
    }
   },
   "outputs": [],
   "source": [
    "pharynxfilter = dfother.PRIMSITE.str.contains('pharynx',case=False,na=False)\n",
    "pituitaryfilter = dfother.PRIMSITE.str.contains('pituitary',na=False,case=False)\n",
    "salivaryfilter = dfother.PRIMSITE.str.contains('salivary',na=False,case=False)\n",
    "\n",
    "dfheadandneck = dfother[pharynxfilter | pituitaryfilter | salivaryfilter].copy()\n",
    "\n",
    "mask = (dfheadandneck['CSTUMSIZ'] != \"Unknown; size not stated; not stated in patient record\") & \\\n",
    "(dfheadandneck['CSTUMSIZ'] != \"Microscopic focus or foci only; no size of focus is given\") & \\\n",
    "(dfheadandneck['CSTUMSIZ'] != \"989 millimeters or larger\") & \\\n",
    "(dfheadandneck['CSTUMSIZ'] != \"Not applicable\") & \\\n",
    "(dfheadandneck['AGE_DX'] != \"Unknown age\") & \\\n",
    "(dfheadandneck['srv_time_mon_flag'] == \"Complete dates are available and there are more than 0 days of survival\") & \\\n",
    "(dfheadandneck['YEAR_DX'] >= 2004) & \\\n",
    "(dfheadandneck['CSTUMSIZ'] != \"Described as less than 1 cm\") & \\\n",
    "(dfheadandneck['CSTUMSIZ'] != \"Described as less than 2 cm\") & \\\n",
    "(dfheadandneck['CSTUMSIZ'] != \"Described as less than 3 cm\") & \\\n",
    "(dfheadandneck['CSTUMSIZ'] != 'Indicates no msas or no tumor found; for example, when a tumor of a stated primary site is not found, but the tumor has metastasized') & \\\n",
    "(dfheadandneck['CSTUMSIZ'] != \"Described as less than 4 cm\") & \\\n",
    "(dfheadandneck['CSTUMSIZ'] != \"Described as less than 5 cm\") & \\\n",
    "(dfheadandneck['CSTUMSIZ'] != \"Not applicable\") & \\\n",
    "(dfheadandneck['YR_BRTH'] != 'Unknown year of birth') & \\\n",
    "(dfheadandneck['CSTUMSIZ'] != 'Not applicable') & \\\n",
    "(dfheadandneck['CSTUMSIZ'] != 996) & \\\n",
    "(dfheadandneck['CSTUMSIZ'] != 997) & \\\n",
    "(dfheadandneck['CSTUMSIZ'] != 998) & \\\n",
    "(dfheadandneck['REC_NO'] == 1)\n",
    "\n",
    "dfheadandneck = dfheadandneck[mask]\n",
    "\n",
    "non_rad = dfheadandneck.RADIATN.str.contains('None',case=False,na=False)\n",
    "refused_rad = dfheadandneck.RADIATN.str.contains('refused',case=False,na=False)\n",
    "unknown_rad = dfheadandneck.RADIATN.str.contains('Unknown',case=False,na=False)\n"
   ]
  },
  {
   "cell_type": "code",
   "execution_count": 5,
   "metadata": {
    "collapsed": true,
    "slideshow": {
     "slide_type": "skip"
    }
   },
   "outputs": [],
   "source": [
    "dfcontrol = dfheadandneck[non_rad | refused_rad]\n",
    "dftreatment = dfheadandneck[~(non_rad) & ~(refused_rad) & ~(unknown_rad)]\n",
    "\n",
    "nasopharynxfiltercontrol = dfcontrol.PRIMSITE.str.contains('nasopharynx',na=False,case=False)\n",
    "\n",
    "nasopharynxfiltertreatment = dftreatment.PRIMSITE.str.contains('nasopharynx',na=False,case=False)\n",
    "\n",
    "dfnasocontrol = dfcontrol[nasopharynxfiltercontrol].copy()\n",
    "dfnasotreatment = dftreatment[nasopharynxfiltertreatment].copy()"
   ]
  },
  {
   "cell_type": "markdown",
   "metadata": {
    "slideshow": {
     "slide_type": "slide"
    }
   },
   "source": [
    "## <font color='steelblue'>Let's look at just the nasopharynx cases</font>"
   ]
  },
  {
   "cell_type": "code",
   "execution_count": 6,
   "metadata": {
    "collapsed": false,
    "slideshow": {
     "slide_type": "slide"
    }
   },
   "outputs": [
    {
     "name": "stdout",
     "output_type": "stream",
     "text": [
      "(317, 141) (2133, 141)\n"
     ]
    }
   ],
   "source": [
    "print(dfnasocontrol.shape, dfnasotreatment.shape)"
   ]
  },
  {
   "cell_type": "markdown",
   "metadata": {
    "slideshow": {
     "slide_type": "slide"
    }
   },
   "source": [
    "## <font color='steelblue'>So we are going to match patients in the control group with their nearest neighbors in the treatment group</font>\n",
    "\n",
    "In order to find the nearest neighbors in the high-dimensional feature space, we need to first do some preprocessing of the data. The first step is to \"one-hot-encode\" the categorical features."
   ]
  },
  {
   "cell_type": "code",
   "execution_count": 7,
   "metadata": {
    "collapsed": true,
    "slideshow": {
     "slide_type": "skip"
    }
   },
   "outputs": [],
   "source": [
    "dfnasocontrol.set_index('PUBCSNUM', inplace=True)\n",
    "dfnasotreatment.set_index('PUBCSNUM', inplace=True)\n",
    "\n",
    "controlindices = dfnasocontrol.index\n",
    "treatmentindices = dfnasotreatment.index\n",
    "\n",
    "catcols = ['SEX','MAR_STAT','RACEIV','NHIADE','GRADE','PRIMSITE',\n",
    "          'LATERAL','HST_STGA','HISTREC','MDXRECMP','STAT_REC']\n",
    "\n",
    "goodcols = ['SEX','MAR_STAT','RACEIV','NHIADE','GRADE','PRIMSITE',\n",
    "          'LATERAL','HST_STGA','HISTREC','MDXRECMP','STAT_REC',\n",
    "           'YR_BRTH','AGE_DX','YEAR_DX','CSTUMSIZ',\n",
    "           'lat','lng']\n",
    "\n",
    "\n",
    "dfpop = pd.concat([dfnasocontrol, dfnasotreatment],verify_integrity=True)\n",
    "\n"
   ]
  },
  {
   "cell_type": "markdown",
   "metadata": {
    "slideshow": {
     "slide_type": "slide"
    }
   },
   "source": [
    "## <font color='steelblue'>Before matching, let's look at the Kaplan-Meier curves"
   ]
  },
  {
   "cell_type": "code",
   "execution_count": 8,
   "metadata": {
    "collapsed": true,
    "slideshow": {
     "slide_type": "skip"
    }
   },
   "outputs": [],
   "source": [
    "resgoodcontrol = pd.concat([pd.get_dummies(dfnasocontrol[col],prefix=col) for col in catcols], axis=1)\n",
    "\n",
    "resgoodtreatment = pd.concat([pd.get_dummies(dfnasotreatment[col],prefix=col) for col in catcols], axis=1)\n",
    "\n",
    "resgoodpop = pd.concat([pd.get_dummies(dfpop[col],prefix=col) for col in catcols], axis=1)\n",
    "\n",
    "resgoodcontrol['YR_BRTH'] = dfnasocontrol['YR_BRTH']\n",
    "resgoodcontrol['AGE_DX'] = dfnasocontrol['AGE_DX']#resgood['sequence_number_central'] = dfsmall['sequence_number_central']\n",
    "resgoodcontrol['YEAR_DX'] = dfnasocontrol['YEAR_DX']\n",
    "resgoodcontrol['CSTUMSIZ'] = dfnasocontrol['CSTUMSIZ']\n",
    "resgoodcontrol['lat'] = dfnasocontrol['lat']\n",
    "resgoodcontrol['lng'] = dfnasocontrol['lng']\n",
    "resgoodcontrol['srv_time_mon'] = dfnasocontrol['srv_time_mon']\n",
    "\n",
    "\n",
    "resgoodtreatment['YR_BRTH'] = dfnasotreatment['YR_BRTH']\n",
    "resgoodtreatment['AGE_DX'] = dfnasotreatment['AGE_DX']#resgood['sequence_number_central'] = dfsmall['sequence_number_central']\n",
    "resgoodtreatment['YEAR_DX'] = dfnasotreatment['YEAR_DX']\n",
    "resgoodtreatment['CSTUMSIZ'] = dfnasotreatment['CSTUMSIZ']\n",
    "resgoodtreatment['lat'] = dfnasotreatment['lat']\n",
    "resgoodtreatment['lng'] = dfnasotreatment['lng']\n",
    "resgoodtreatment['srv_time_mon'] = dfnasotreatment['srv_time_mon']\n",
    "\n",
    "\n",
    "resgoodpop['YR_BRTH'] = dfpop['YR_BRTH']\n",
    "resgoodpop['AGE_DX'] = dfpop['AGE_DX']#resgood['sequence_number_central'] = dfsmall['sequence_number_central']\n",
    "resgoodpop['YEAR_DX'] = dfpop['YEAR_DX']\n",
    "resgoodpop['CSTUMSIZ'] = dfpop['CSTUMSIZ']\n",
    "resgoodpop['lat'] = dfpop['lat']\n",
    "resgoodpop['lng'] = dfpop['lng']\n",
    "resgoodpop['srv_time_mon'] = dfpop['srv_time_mon']\n",
    "\n",
    "\n"
   ]
  },
  {
   "cell_type": "markdown",
   "metadata": {
    "slideshow": {
     "slide_type": "slide"
    }
   },
   "source": [
    "## <font color='steelblue'>After performing the matching between the control and treatment groups, we can see how the kaplan-meier curves differ</font>\n",
    "\n",
    "Below is how it looks **before** matching patients in the control and treament groups together in pairs."
   ]
  },
  {
   "cell_type": "code",
   "execution_count": 28,
   "metadata": {
    "collapsed": false,
    "slideshow": {
     "slide_type": "skip"
    }
   },
   "outputs": [
    {
     "data": {
      "text/plain": [
       "<lifelines.KaplanMeierFitter: fitted with 2133 observations, 1508 censored>"
      ]
     },
     "execution_count": 28,
     "metadata": {},
     "output_type": "execute_result"
    }
   ],
   "source": [
    "from lifelines import KaplanMeierFitter\n",
    "\n",
    "kmfpop = KaplanMeierFitter()\n",
    "kmfcontrol = KaplanMeierFitter()\n",
    "kmftreatment = KaplanMeierFitter()\n",
    "\n",
    "Tcontrol = resgoodpop.loc[controlindices][\"srv_time_mon\"]\n",
    "Econtrol = resgoodpop.loc[controlindices][\"STAT_REC_Dead\"]\n",
    "\n",
    "Ttreatment = resgoodpop.loc[treatmentindices][\"srv_time_mon\"]\n",
    "Etreatment = resgoodpop.loc[treatmentindices][\"STAT_REC_Dead\"]\n",
    "\n",
    "Tpop = resgoodpop[\"srv_time_mon\"]\n",
    "Epop = resgoodpop[\"STAT_REC_Dead\"]\n",
    "\n",
    "kmfpop.fit(Tpop, event_observed=Epop,label='All Nasopharynx');\n",
    "kmfcontrol.fit(Tcontrol, event_observed=Econtrol,label='No Radiation Group (control group)')\n",
    "kmftreatment.fit(Ttreatment, event_observed=Etreatment, label='Radiation Group (treatment group)')\n",
    "#ax = kmfpop.plot()\n",
    "#ax = kmfcontrol.plot()\n",
    "#kmftreatment.plot(ax=ax)\n",
    "#plt.title(\"Nasopharynx Kaplan-Meier Curve (95% CI) \\n Pre-Matching\");\n"
   ]
  },
  {
   "cell_type": "code",
   "execution_count": 27,
   "metadata": {
    "collapsed": false,
    "slideshow": {
     "slide_type": "slide"
    }
   },
   "outputs": [
    {
     "data": {
      "image/png": "[encoded data removed]",
      "text/plain": [
       "<matplotlib.figure.Figure at 0x1623484e0>"
      ]
     },
     "metadata": {},
     "output_type": "display_data"
    }
   ],
   "source": [
    "ax = kmfcontrol.plot()\n",
    "kmftreatment.plot(ax=ax)\n",
    "plt.title(\"Nasopharynx Kaplan-Meier Curve (95% CI) \\n Pre-Matching\");"
   ]
  },
  {
   "cell_type": "markdown",
   "metadata": {
    "slideshow": {
     "slide_type": "slide"
    }
   },
   "source": [
    "## <font color='steelblue'>Clearly, it looks like there is a huge benefit to receiving radiation</font>\n",
    "\n",
    "However, one could logically argue that it is not radiation treatment that is leading to the better survival prognosis, but rather some other feature that leads to better prognosis is also leading to a greater likelihood of receiving radiation therapy. So that we are not really comparing apples to apples when we calculate these two survival curves. To answer this objection, we need to perform patient matching, so that we are really comparing apples to apples and that any marked difference in the survival curves can be confidently attributed to the posistive effects of radiation"
   ]
  },
  {
   "cell_type": "code",
   "execution_count": 10,
   "metadata": {
    "collapsed": true,
    "slideshow": {
     "slide_type": "skip"
    }
   },
   "outputs": [],
   "source": [
    "resgoodpop['YR_BRTH'] = resgoodpop['YR_BRTH'].astype('int')\n",
    "resgoodpop['AGE_DX'] = resgoodpop['AGE_DX'].astype('int')\n",
    "resgoodpop['CSTUMSIZ'] = resgoodpop['CSTUMSIZ'].astype('float')\n",
    "resgoodpop['lat'] = resgoodpop['lat'].astype('float')\n",
    "resgoodpop['lng'] = resgoodpop['lng'].astype('float')\n",
    "resgoodpop['srv_time_mon'] = resgoodpop['srv_time_mon'].astype('float')\n",
    "\n",
    "newcolumns = list(resgoodpop.columns)\n",
    "\n",
    "\n",
    "newcolumns.remove('srv_time_mon')\n",
    "newcolumns.remove('STAT_REC_Alive')\n",
    "newcolumns.remove('STAT_REC_Dead')\n",
    "newcolumns.remove('SEX_Female')\n",
    "\n",
    "resgreatpop = resgoodpop[newcolumns].copy()"
   ]
  },
  {
   "cell_type": "code",
   "execution_count": 11,
   "metadata": {
    "collapsed": true,
    "slideshow": {
     "slide_type": "skip"
    }
   },
   "outputs": [],
   "source": [
    "resgreatpop['PUBCSNUM'] = resgreatpop.index\n",
    "leaguefilter = (resgreatpop['PUBCSNUM'].loc[treatmentindices])\n",
    "resgreatpop['League'] = resgreatpop['PUBCSNUM'].isin(treatmentindices).astype('int')\n",
    "del resgreatpop['PUBCSNUM']\n",
    "dftree = resgreatpop.copy()\n",
    "\n",
    "y = dftree['League'].copy()\n",
    "del dftree['League']"
   ]
  },
  {
   "cell_type": "code",
   "execution_count": 12,
   "metadata": {
    "collapsed": true,
    "slideshow": {
     "slide_type": "skip"
    }
   },
   "outputs": [],
   "source": [
    "from sklearn.metrics import roc_curve, auc\n",
    "from sklearn.preprocessing import label_binarize, StandardScaler\n",
    "from sklearn.multiclass import OneVsRestClassifier\n",
    "\n",
    "import numpy as np\n",
    "import pandas as pd\n",
    "import datetime\n",
    "import matplotlib.pyplot as plot\n",
    "#import psycopg2\n",
    "import random\n",
    "from sklearn import ensemble\n",
    "from sklearn.metrics import mean_squared_error, mean_absolute_error\n",
    "from sklearn.cross_validation import StratifiedShuffleSplit\n",
    "import pylab as plot\n",
    "from pandas import DataFrame, Series\n",
    "from sklearn import metrics\n",
    "from sklearn.neighbors import KNeighborsClassifier\n",
    "from sklearn.cross_validation import KFold\n",
    "from sklearn.feature_extraction import DictVectorizer\n",
    "from sklearn import feature_extraction\n",
    "from sklearn.cross_validation import train_test_split\n",
    "from sklearn.feature_extraction import DictVectorizer as DV\n",
    "from sklearn.linear_model import LinearRegression\n",
    "from sklearn.cross_validation import cross_val_score\n",
    "from sklearn.preprocessing import StandardScaler\n",
    "from sklearn.linear_model import SGDRegressor\n",
    "from sklearn.linear_model.logistic import LogisticRegression\n",
    "from sklearn.metrics import confusion_matrix\n",
    "from sklearn.metrics import accuracy_score\n",
    "from sklearn.metrics import roc_curve, auc\n",
    "from sklearn.tree import DecisionTreeClassifier\n",
    "from sklearn.metrics import classification_report\n",
    "from sklearn.pipeline import Pipeline\n",
    "from sklearn.grid_search import GridSearchCV\n",
    "from sklearn.grid_search import ParameterGrid\n",
    "from sklearn.decomposition import PCA\n",
    "from mpl_toolkits.mplot3d import Axes3D\n",
    "#from sklearn.neural_network import MultilayerPerceptronClassifier\n",
    "from sklearn.neural_network import BernoulliRBM\n",
    "from sklearn.svm import SVC\n",
    "import pylab as pl\n",
    "from sklearn.decomposition import RandomizedPCA\n",
    "from itertools import cycle\n",
    "from sklearn.cross_validation import ShuffleSplit\n",
    "from scipy.stats import sem\n",
    "from pprint import pprint\n",
    "from math import sqrt, fabs, exp\n",
    "import matplotlib.pyplot as plot\n",
    "from sklearn.cross_validation import train_test_split\n",
    "from sklearn import ensemble\n",
    "from sklearn.metrics import roc_auc_score, roc_curve\n",
    "import numpy\n",
    "from sklearn.preprocessing import OneHotEncoder\n",
    "from sklearn.preprocessing import LabelEncoder\n",
    "from pandas.tools.plotting import lag_plot"
   ]
  },
  {
   "cell_type": "markdown",
   "metadata": {
    "slideshow": {
     "slide_type": "slide"
    }
   },
   "source": [
    "This brute force method of finding similar patients characterized by points in a high-dimesional space is possible for this data set as wellas for Big Data sized data sets thanks to a data structure called a KDTree. In order to construct the KDTree, we first need to transform the numeric data so that all of the different features contribute equally to the euclidean distance between patients/records. For example, **AGE_DX** is on the order of 60 or so, while **YR_BRTH** is around 1960. Without standardization, **YR_BRTH** would contribute much more heavily to the distance between patients than **AGE_DX**. The result of standardization (or Z-score normalization) is that features will be rescaed so that they will have the properties of a standard normal distribution with\n",
    "\n",
    "$\n",
    "\\mu = 0$ and $\\sigma = 1$,\n",
    "\n",
    "where $\\mu$ is the mean (average) and $\\sigma$ is the standard deviation from the mean; standard deviation scores (also called z-scores) are then calculated as follows:\n",
    "\n",
    "$\n",
    "z = \\frac{x - \\mu}{\\sigma}\n",
    "$"
   ]
  },
  {
   "cell_type": "code",
   "execution_count": 13,
   "metadata": {
    "collapsed": false,
    "slideshow": {
     "slide_type": "slide"
    }
   },
   "outputs": [
    {
     "name": "stdout",
     "output_type": "stream",
     "text": [
      "[[ 0.66357307 -0.30057059  0.87326395 ...,  0.13370121  1.009353\n",
      "   1.70358659]\n",
      " [-1.50699304 -0.30057059 -1.14512914 ..., -0.22015854  0.99492038\n",
      "   1.67584176]\n",
      " [-1.50699304 -0.30057059 -1.14512914 ..., -0.39708841  1.10439477\n",
      "   1.70358659]\n",
      " ..., \n",
      " [ 0.66357307 -0.30057059  0.87326395 ..., -0.30862348 -1.26335224\n",
      "   0.76227089]\n",
      " [ 0.66357307 -0.30057059  0.87326395 ..., -0.5563253  -1.26335224\n",
      "   0.76227089]\n",
      " [ 0.66357307 -0.30057059  0.87326395 ..., -0.1316936  -1.07102393\n",
      "   0.7059259 ]]\n"
     ]
    }
   ],
   "source": [
    "xTrain = dftree.values\n",
    "xTrain = StandardScaler().fit_transform(xTrain)\n",
    "from sklearn.neighbors import KDTree\n",
    "print(xTrain)"
   ]
  },
  {
   "cell_type": "code",
   "execution_count": 14,
   "metadata": {
    "collapsed": true,
    "slideshow": {
     "slide_type": "skip"
    }
   },
   "outputs": [],
   "source": [
    "from sklearn.neighbors import KDTree\n",
    "kdt = KDTree(xTrain, leaf_size=30)"
   ]
  },
  {
   "cell_type": "markdown",
   "metadata": {
    "slideshow": {
     "slide_type": "slide"
    }
   },
   "source": [
    "### <font color='purple'>Here is a video explaining the construction of a KDTree</font>"
   ]
  },
  {
   "cell_type": "code",
   "execution_count": 15,
   "metadata": {
    "collapsed": false,
    "slideshow": {
     "slide_type": "fragment"
    }
   },
   "outputs": [
    {
     "data": {
      "image/jpeg": "[encoded data removed]",
      "text/html": [
       "\n",
       "        <iframe\n",
       "            width=\"400\"\n",
       "            height=\"300\"\n",
       "            src=\"https://www.youtube.com/embed/LdaL-l2S76c\"\n",
       "            frameborder=\"0\"\n",
       "            allowfullscreen\n",
       "        ></iframe>\n",
       "        "
      ],
      "text/plain": [
       "<IPython.lib.display.YouTubeVideo at 0xbe58ab38>"
      ]
     },
     "execution_count": 15,
     "metadata": {},
     "output_type": "execute_result"
    }
   ],
   "source": [
    "from IPython.display import YouTubeVideo\n",
    "YouTubeVideo('LdaL-l2S76c')"
   ]
  },
  {
   "cell_type": "code",
   "execution_count": 16,
   "metadata": {
    "collapsed": true,
    "slideshow": {
     "slide_type": "skip"
    }
   },
   "outputs": [],
   "source": [
    "dftreeleague = dftree.copy()\n",
    "dftreeleague['League'] = y\n",
    "\n",
    "def get_league(x):\n",
    "    return dftreeleague['League'].loc[x]\n",
    "\n",
    "dist4, ind4 = kdt.query(xTrain, k=4, return_distance=True)"
   ]
  },
  {
   "cell_type": "code",
   "execution_count": 17,
   "metadata": {
    "collapsed": true,
    "slideshow": {
     "slide_type": "skip"
    }
   },
   "outputs": [],
   "source": [
    "dftreeleague['nearest'] = pd.Series(ind4[:,0],index=dftreeleague.index)\n",
    "dftreeleague['neighbor_1'] = pd.Series(ind4[:,1],index=dftreeleague.index)\n",
    "dftreeleague['neighbor_2'] = pd.Series(ind4[:,2],index=dftreeleague.index)\n",
    "dftreeleague['neighbor_3'] = pd.Series(ind4[:,3],index=dftreeleague.index)\n",
    "dftreeleague['distance_1'] = pd.Series(dist4[:,1],index=dftreeleague.index)\n",
    "dftreeleague['distance_2'] = pd.Series(dist4[:,2],index=dftreeleague.index)\n",
    "dftreeleague['distance_3'] = pd.Series(dist4[:,3],index=dftreeleague.index)\n",
    "\n",
    "dfmap = {v: dftreeleague.index[v] for v in range(dftreeleague.shape[0])}"
   ]
  },
  {
   "cell_type": "code",
   "execution_count": 29,
   "metadata": {
    "collapsed": false,
    "slideshow": {
     "slide_type": "skip"
    }
   },
   "outputs": [
    {
     "data": {
      "text/html": [
       "<div>\n",
       "<table border=\"1\" class=\"dataframe\">\n",
       "  <thead>\n",
       "    <tr style=\"text-align: right;\">\n",
       "      <th></th>\n",
       "      <th>neighbor_1</th>\n",
       "      <th>distance_1</th>\n",
       "      <th>neighbor_1_League</th>\n",
       "    </tr>\n",
       "    <tr>\n",
       "      <th>PUBCSNUM</th>\n",
       "      <th></th>\n",
       "      <th></th>\n",
       "      <th></th>\n",
       "    </tr>\n",
       "  </thead>\n",
       "  <tbody>\n",
       "    <tr>\n",
       "      <th>11702947</th>\n",
       "      <td>68780743</td>\n",
       "      <td>3.585872</td>\n",
       "      <td>1</td>\n",
       "    </tr>\n",
       "    <tr>\n",
       "      <th>11737849</th>\n",
       "      <td>77120745</td>\n",
       "      <td>3.422162</td>\n",
       "      <td>1</td>\n",
       "    </tr>\n",
       "    <tr>\n",
       "      <th>11771871</th>\n",
       "      <td>44150082</td>\n",
       "      <td>6.887282</td>\n",
       "      <td>1</td>\n",
       "    </tr>\n",
       "    <tr>\n",
       "      <th>11837525</th>\n",
       "      <td>41768404</td>\n",
       "      <td>3.331109</td>\n",
       "      <td>1</td>\n",
       "    </tr>\n",
       "    <tr>\n",
       "      <th>11854744</th>\n",
       "      <td>93264857</td>\n",
       "      <td>5.936608</td>\n",
       "      <td>1</td>\n",
       "    </tr>\n",
       "    <tr>\n",
       "      <th>12924947</th>\n",
       "      <td>95765830</td>\n",
       "      <td>14.333182</td>\n",
       "      <td>1</td>\n",
       "    </tr>\n",
       "    <tr>\n",
       "      <th>13033018</th>\n",
       "      <td>94740972</td>\n",
       "      <td>0.901067</td>\n",
       "      <td>1</td>\n",
       "    </tr>\n",
       "    <tr>\n",
       "      <th>13040349</th>\n",
       "      <td>5404633</td>\n",
       "      <td>3.092223</td>\n",
       "      <td>1</td>\n",
       "    </tr>\n",
       "    <tr>\n",
       "      <th>13052218</th>\n",
       "      <td>94706220</td>\n",
       "      <td>5.108143</td>\n",
       "      <td>1</td>\n",
       "    </tr>\n",
       "    <tr>\n",
       "      <th>18857309</th>\n",
       "      <td>38231397</td>\n",
       "      <td>5.361609</td>\n",
       "      <td>1</td>\n",
       "    </tr>\n",
       "    <tr>\n",
       "      <th>18868206</th>\n",
       "      <td>41786417</td>\n",
       "      <td>2.126776</td>\n",
       "      <td>1</td>\n",
       "    </tr>\n",
       "    <tr>\n",
       "      <th>18895665</th>\n",
       "      <td>77153934</td>\n",
       "      <td>3.946743</td>\n",
       "      <td>1</td>\n",
       "    </tr>\n",
       "    <tr>\n",
       "      <th>18897710</th>\n",
       "      <td>94705026</td>\n",
       "      <td>4.014939</td>\n",
       "      <td>1</td>\n",
       "    </tr>\n",
       "    <tr>\n",
       "      <th>18906399</th>\n",
       "      <td>99361855</td>\n",
       "      <td>5.541656</td>\n",
       "      <td>1</td>\n",
       "    </tr>\n",
       "    <tr>\n",
       "      <th>19915172</th>\n",
       "      <td>68770421</td>\n",
       "      <td>4.512884</td>\n",
       "      <td>1</td>\n",
       "    </tr>\n",
       "    <tr>\n",
       "      <th>20019530</th>\n",
       "      <td>27868648</td>\n",
       "      <td>3.554629</td>\n",
       "      <td>1</td>\n",
       "    </tr>\n",
       "    <tr>\n",
       "      <th>20021444</th>\n",
       "      <td>97871139</td>\n",
       "      <td>2.964291</td>\n",
       "      <td>1</td>\n",
       "    </tr>\n",
       "    <tr>\n",
       "      <th>20027017</th>\n",
       "      <td>76117437</td>\n",
       "      <td>3.806195</td>\n",
       "      <td>1</td>\n",
       "    </tr>\n",
       "    <tr>\n",
       "      <th>20084487</th>\n",
       "      <td>36899263</td>\n",
       "      <td>3.102330</td>\n",
       "      <td>1</td>\n",
       "    </tr>\n",
       "    <tr>\n",
       "      <th>22081866</th>\n",
       "      <td>98532951</td>\n",
       "      <td>5.571167</td>\n",
       "      <td>1</td>\n",
       "    </tr>\n",
       "    <tr>\n",
       "      <th>22094256</th>\n",
       "      <td>22166706</td>\n",
       "      <td>3.808058</td>\n",
       "      <td>1</td>\n",
       "    </tr>\n",
       "    <tr>\n",
       "      <th>22116734</th>\n",
       "      <td>22098412</td>\n",
       "      <td>4.231525</td>\n",
       "      <td>1</td>\n",
       "    </tr>\n",
       "    <tr>\n",
       "      <th>22125147</th>\n",
       "      <td>22171155</td>\n",
       "      <td>6.705026</td>\n",
       "      <td>1</td>\n",
       "    </tr>\n",
       "    <tr>\n",
       "      <th>22128627</th>\n",
       "      <td>52060273</td>\n",
       "      <td>4.123022</td>\n",
       "      <td>1</td>\n",
       "    </tr>\n",
       "    <tr>\n",
       "      <th>22142981</th>\n",
       "      <td>22135792</td>\n",
       "      <td>6.045404</td>\n",
       "      <td>1</td>\n",
       "    </tr>\n",
       "    <tr>\n",
       "      <th>27816457</th>\n",
       "      <td>94606051</td>\n",
       "      <td>1.051467</td>\n",
       "      <td>1</td>\n",
       "    </tr>\n",
       "    <tr>\n",
       "      <th>27843088</th>\n",
       "      <td>95925790</td>\n",
       "      <td>6.842258</td>\n",
       "      <td>1</td>\n",
       "    </tr>\n",
       "    <tr>\n",
       "      <th>27980255</th>\n",
       "      <td>18885487</td>\n",
       "      <td>2.003769</td>\n",
       "      <td>1</td>\n",
       "    </tr>\n",
       "    <tr>\n",
       "      <th>30077192</th>\n",
       "      <td>41038393</td>\n",
       "      <td>4.849347</td>\n",
       "      <td>1</td>\n",
       "    </tr>\n",
       "    <tr>\n",
       "      <th>30082099</th>\n",
       "      <td>75169577</td>\n",
       "      <td>7.763432</td>\n",
       "      <td>1</td>\n",
       "    </tr>\n",
       "    <tr>\n",
       "      <th>...</th>\n",
       "      <td>...</td>\n",
       "      <td>...</td>\n",
       "      <td>...</td>\n",
       "    </tr>\n",
       "    <tr>\n",
       "      <th>80070131</th>\n",
       "      <td>78134253</td>\n",
       "      <td>6.403099</td>\n",
       "      <td>1</td>\n",
       "    </tr>\n",
       "    <tr>\n",
       "      <th>80076402</th>\n",
       "      <td>39125001</td>\n",
       "      <td>1.437014</td>\n",
       "      <td>1</td>\n",
       "    </tr>\n",
       "    <tr>\n",
       "      <th>80112610</th>\n",
       "      <td>39142168</td>\n",
       "      <td>2.168128</td>\n",
       "      <td>1</td>\n",
       "    </tr>\n",
       "    <tr>\n",
       "      <th>80161354</th>\n",
       "      <td>44155293</td>\n",
       "      <td>2.965569</td>\n",
       "      <td>1</td>\n",
       "    </tr>\n",
       "    <tr>\n",
       "      <th>80187500</th>\n",
       "      <td>44222140</td>\n",
       "      <td>6.923102</td>\n",
       "      <td>1</td>\n",
       "    </tr>\n",
       "    <tr>\n",
       "      <th>80206700</th>\n",
       "      <td>99390695</td>\n",
       "      <td>1.955941</td>\n",
       "      <td>1</td>\n",
       "    </tr>\n",
       "    <tr>\n",
       "      <th>81021089</th>\n",
       "      <td>81143971</td>\n",
       "      <td>6.515524</td>\n",
       "      <td>1</td>\n",
       "    </tr>\n",
       "    <tr>\n",
       "      <th>81057784</th>\n",
       "      <td>27947928</td>\n",
       "      <td>4.532173</td>\n",
       "      <td>1</td>\n",
       "    </tr>\n",
       "    <tr>\n",
       "      <th>81084102</th>\n",
       "      <td>81124046</td>\n",
       "      <td>3.981394</td>\n",
       "      <td>1</td>\n",
       "    </tr>\n",
       "    <tr>\n",
       "      <th>81103261</th>\n",
       "      <td>94551395</td>\n",
       "      <td>3.505070</td>\n",
       "      <td>1</td>\n",
       "    </tr>\n",
       "    <tr>\n",
       "      <th>81118349</th>\n",
       "      <td>98682123</td>\n",
       "      <td>3.225934</td>\n",
       "      <td>1</td>\n",
       "    </tr>\n",
       "    <tr>\n",
       "      <th>81141577</th>\n",
       "      <td>70206036</td>\n",
       "      <td>3.580670</td>\n",
       "      <td>1</td>\n",
       "    </tr>\n",
       "    <tr>\n",
       "      <th>81212885</th>\n",
       "      <td>53007700</td>\n",
       "      <td>2.876290</td>\n",
       "      <td>1</td>\n",
       "    </tr>\n",
       "    <tr>\n",
       "      <th>97788827</th>\n",
       "      <td>97846739</td>\n",
       "      <td>1.826927</td>\n",
       "      <td>1</td>\n",
       "    </tr>\n",
       "    <tr>\n",
       "      <th>97836906</th>\n",
       "      <td>41822352</td>\n",
       "      <td>7.019916</td>\n",
       "      <td>1</td>\n",
       "    </tr>\n",
       "    <tr>\n",
       "      <th>97857969</th>\n",
       "      <td>41667828</td>\n",
       "      <td>0.811640</td>\n",
       "      <td>1</td>\n",
       "    </tr>\n",
       "    <tr>\n",
       "      <th>98510014</th>\n",
       "      <td>18888128</td>\n",
       "      <td>3.739824</td>\n",
       "      <td>1</td>\n",
       "    </tr>\n",
       "    <tr>\n",
       "      <th>98517650</th>\n",
       "      <td>11804399</td>\n",
       "      <td>4.277854</td>\n",
       "      <td>1</td>\n",
       "    </tr>\n",
       "    <tr>\n",
       "      <th>98527726</th>\n",
       "      <td>81037817</td>\n",
       "      <td>5.855410</td>\n",
       "      <td>1</td>\n",
       "    </tr>\n",
       "    <tr>\n",
       "      <th>98540928</th>\n",
       "      <td>99294588</td>\n",
       "      <td>10.005262</td>\n",
       "      <td>1</td>\n",
       "    </tr>\n",
       "    <tr>\n",
       "      <th>98596808</th>\n",
       "      <td>65891429</td>\n",
       "      <td>2.743013</td>\n",
       "      <td>1</td>\n",
       "    </tr>\n",
       "    <tr>\n",
       "      <th>98623755</th>\n",
       "      <td>78167072</td>\n",
       "      <td>5.091402</td>\n",
       "      <td>1</td>\n",
       "    </tr>\n",
       "    <tr>\n",
       "      <th>98648224</th>\n",
       "      <td>93436361</td>\n",
       "      <td>6.335690</td>\n",
       "      <td>1</td>\n",
       "    </tr>\n",
       "    <tr>\n",
       "      <th>98660670</th>\n",
       "      <td>95900462</td>\n",
       "      <td>5.075435</td>\n",
       "      <td>1</td>\n",
       "    </tr>\n",
       "    <tr>\n",
       "      <th>98666428</th>\n",
       "      <td>92015437</td>\n",
       "      <td>3.218155</td>\n",
       "      <td>1</td>\n",
       "    </tr>\n",
       "    <tr>\n",
       "      <th>99306177</th>\n",
       "      <td>72678074</td>\n",
       "      <td>1.979461</td>\n",
       "      <td>1</td>\n",
       "    </tr>\n",
       "    <tr>\n",
       "      <th>99318526</th>\n",
       "      <td>76038798</td>\n",
       "      <td>4.016676</td>\n",
       "      <td>1</td>\n",
       "    </tr>\n",
       "    <tr>\n",
       "      <th>99331365</th>\n",
       "      <td>52052153</td>\n",
       "      <td>5.582966</td>\n",
       "      <td>1</td>\n",
       "    </tr>\n",
       "    <tr>\n",
       "      <th>99354197</th>\n",
       "      <td>27914409</td>\n",
       "      <td>1.884781</td>\n",
       "      <td>1</td>\n",
       "    </tr>\n",
       "    <tr>\n",
       "      <th>99355995</th>\n",
       "      <td>77042907</td>\n",
       "      <td>1.335049</td>\n",
       "      <td>1</td>\n",
       "    </tr>\n",
       "  </tbody>\n",
       "</table>\n",
       "<p>270 rows × 3 columns</p>\n",
       "</div>"
      ],
      "text/plain": [
       "          neighbor_1  distance_1  neighbor_1_League\n",
       "PUBCSNUM                                           \n",
       "11702947    68780743    3.585872                  1\n",
       "11737849    77120745    3.422162                  1\n",
       "11771871    44150082    6.887282                  1\n",
       "11837525    41768404    3.331109                  1\n",
       "11854744    93264857    5.936608                  1\n",
       "12924947    95765830   14.333182                  1\n",
       "13033018    94740972    0.901067                  1\n",
       "13040349     5404633    3.092223                  1\n",
       "13052218    94706220    5.108143                  1\n",
       "18857309    38231397    5.361609                  1\n",
       "18868206    41786417    2.126776                  1\n",
       "18895665    77153934    3.946743                  1\n",
       "18897710    94705026    4.014939                  1\n",
       "18906399    99361855    5.541656                  1\n",
       "19915172    68770421    4.512884                  1\n",
       "20019530    27868648    3.554629                  1\n",
       "20021444    97871139    2.964291                  1\n",
       "20027017    76117437    3.806195                  1\n",
       "20084487    36899263    3.102330                  1\n",
       "22081866    98532951    5.571167                  1\n",
       "22094256    22166706    3.808058                  1\n",
       "22116734    22098412    4.231525                  1\n",
       "22125147    22171155    6.705026                  1\n",
       "22128627    52060273    4.123022                  1\n",
       "22142981    22135792    6.045404                  1\n",
       "27816457    94606051    1.051467                  1\n",
       "27843088    95925790    6.842258                  1\n",
       "27980255    18885487    2.003769                  1\n",
       "30077192    41038393    4.849347                  1\n",
       "30082099    75169577    7.763432                  1\n",
       "...              ...         ...                ...\n",
       "80070131    78134253    6.403099                  1\n",
       "80076402    39125001    1.437014                  1\n",
       "80112610    39142168    2.168128                  1\n",
       "80161354    44155293    2.965569                  1\n",
       "80187500    44222140    6.923102                  1\n",
       "80206700    99390695    1.955941                  1\n",
       "81021089    81143971    6.515524                  1\n",
       "81057784    27947928    4.532173                  1\n",
       "81084102    81124046    3.981394                  1\n",
       "81103261    94551395    3.505070                  1\n",
       "81118349    98682123    3.225934                  1\n",
       "81141577    70206036    3.580670                  1\n",
       "81212885    53007700    2.876290                  1\n",
       "97788827    97846739    1.826927                  1\n",
       "97836906    41822352    7.019916                  1\n",
       "97857969    41667828    0.811640                  1\n",
       "98510014    18888128    3.739824                  1\n",
       "98517650    11804399    4.277854                  1\n",
       "98527726    81037817    5.855410                  1\n",
       "98540928    99294588   10.005262                  1\n",
       "98596808    65891429    2.743013                  1\n",
       "98623755    78167072    5.091402                  1\n",
       "98648224    93436361    6.335690                  1\n",
       "98660670    95900462    5.075435                  1\n",
       "98666428    92015437    3.218155                  1\n",
       "99306177    72678074    1.979461                  1\n",
       "99318526    76038798    4.016676                  1\n",
       "99331365    52052153    5.582966                  1\n",
       "99354197    27914409    1.884781                  1\n",
       "99355995    77042907    1.335049                  1\n",
       "\n",
       "[270 rows x 3 columns]"
      ]
     },
     "execution_count": 29,
     "metadata": {},
     "output_type": "execute_result"
    }
   ],
   "source": [
    "\n",
    "def get_pubcsnum(x,transformationdict = dfmap):\n",
    "    return dfmap[x]\n",
    "\n",
    "\n",
    "dftreeleague['neighbor_1'] = dftreeleague['neighbor_1'].apply(get_pubcsnum)\n",
    "dftreeleague['neighbor_2'] = dftreeleague['neighbor_2'].apply(get_pubcsnum)\n",
    "dftreeleague['neighbor_3'] = dftreeleague['neighbor_3'].apply(get_pubcsnum)\n",
    "\n",
    "def get_league(x):\n",
    "    return dftreeleague['League'].loc[x]\n",
    "\n",
    "dftreeleague['neighbor_1_League'] = dftreeleague['neighbor_1'].apply(get_league)\n",
    "dftreeleague['neighbor_2_League'] = dftreeleague['neighbor_2'].apply(get_league)\n",
    "dftreeleague['neighbor_3_League'] = dftreeleague['neighbor_3'].apply(get_league)\n",
    "\n",
    "neighbor_1_match = (dftreeleague['neighbor_1_League'] == 1)\n",
    "\n",
    "one = dftreeleague[['neighbor_1','distance_1',\n",
    "                  'neighbor_1_League'\n",
    "        ]][(dftreeleague['neighbor_1_League'] != dftreeleague['League']) & (neighbor_1_match) ].copy()\n",
    "\n",
    "\n",
    "neighbor_2_match = (dftreeleague['neighbor_2_League'] == 1)\n",
    "\n",
    "two = dftreeleague[['neighbor_2','distance_2',\n",
    "                  'neighbor_2_League'\n",
    "        ]][(dftreeleague['neighbor_2_League'] != dftreeleague['League']) & (neighbor_2_match) ].copy()\n",
    "\n",
    "\n",
    "neighbor_3_match = (dftreeleague['neighbor_3_League'] == 1)\n",
    "\n",
    "three = dftreeleague[['neighbor_3','distance_3',\n",
    "                  'neighbor_3_League'\n",
    "        ]][(dftreeleague['neighbor_3_League'] != dftreeleague['League']) & (neighbor_3_match) ].copy()\n",
    "\n",
    "one"
   ]
  },
  {
   "cell_type": "code",
   "execution_count": 30,
   "metadata": {
    "collapsed": false,
    "slideshow": {
     "slide_type": "skip"
    }
   },
   "outputs": [
    {
     "name": "stdout",
     "output_type": "stream",
     "text": [
      "453\n",
      "299\n"
     ]
    }
   ],
   "source": [
    "onedict = one['neighbor_1'].to_dict()\n",
    "twodict = two['neighbor_2'].to_dict()\n",
    "threedict = three['neighbor_3'].to_dict()\n",
    "\n",
    "from collections import defaultdict\n",
    "\n",
    "dd = defaultdict(list)\n",
    "\n",
    "for d in (onedict, twodict):\n",
    "    for key, value in d.items():\n",
    "        dd[key].append(value)\n",
    "        \n",
    "        \n",
    "\n",
    "goodcontrolteams = list(dd.keys())\n",
    "\n",
    "goodtreatmentteams = list(dd.values())\n",
    "matches = list(set([item for sublist in goodtreatmentteams for item in sublist]))\n",
    "\n",
    "treatmentindices = matches\n",
    "controlindices = goodcontrolteams\n",
    "print(len(treatmentindices))\n",
    "print(len(controlindices))"
   ]
  },
  {
   "cell_type": "markdown",
   "metadata": {
    "slideshow": {
     "slide_type": "slide"
    }
   },
   "source": [
    "## <font color='steelblue'>Need to do a one-to-one matching (where each member of the control group is matched to one and only one member of the treatment group, and vice-versa</font>"
   ]
  },
  {
   "cell_type": "code",
   "execution_count": 31,
   "metadata": {
    "collapsed": true,
    "slideshow": {
     "slide_type": "skip"
    }
   },
   "outputs": [],
   "source": [
    "d_one_to_one = {k: dd[k][0] for k in dd}\n",
    "d_c_t = {}\n",
    "\n",
    "for key, value in d_one_to_one.items():\n",
    "    if value not in d_c_t.values():\n",
    "        d_c_t[key] = value\n",
    "        \n",
    "controlindices = list(d_c_t.keys())\n",
    "treatmentindices = list(d_c_t.values())     "
   ]
  },
  {
   "cell_type": "code",
   "execution_count": 32,
   "metadata": {
    "collapsed": false,
    "slideshow": {
     "slide_type": "slide"
    }
   },
   "outputs": [
    {
     "name": "stdout",
     "output_type": "stream",
     "text": [
      "267 267\n"
     ]
    }
   ],
   "source": [
    "controlindices = list(d_c_t.keys())\n",
    "treatmentindices = list(d_c_t.values())\n",
    "\n",
    "print(len(controlindices), len(treatmentindices))"
   ]
  },
  {
   "cell_type": "code",
   "execution_count": null,
   "metadata": {
    "collapsed": true
   },
   "outputs": [],
   "source": []
  }
 ],
 "metadata": {
  "celltoolbar": "Slideshow",
  "kernelspec": {
   "display_name": "Python 3",
   "language": "python",
   "name": "python3"
  },
  "language_info": {
   "codemirror_mode": {
    "name": "ipython",
    "version": 3
   },
   "file_extension": ".py",
   "mimetype": "text/x-python",
   "name": "python",
   "nbconvert_exporter": "python",
   "pygments_lexer": "ipython3",
   "version": "3.5.1"
  },
  "widgets": {
   "state": {},
   "version": "1.1.2"
  }
 },
 "nbformat": 4,
 "nbformat_minor": 0
}
