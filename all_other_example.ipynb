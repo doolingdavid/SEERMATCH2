{
 "cells": [
  {
   "cell_type": "code",
   "execution_count": 1,
   "metadata": {
    "collapsed": false,
    "slideshow": {
     "slide_type": "skip"
    }
   },
   "outputs": [
    {
     "data": {
      "text/html": [
       "<script>\n",
       "code_show=true; \n",
       "function code_toggle() {\n",
       " if (code_show){\n",
       " $('div.input').hide();\n",
       " } else {\n",
       " $('div.input').show();\n",
       " }\n",
       " code_show = !code_show\n",
       "} \n",
       "$( document ).ready(code_toggle);\n",
       "</script>\n",
       "<form action=\"javascript:code_toggle()\"><input type=\"submit\" value=\"Click here to toggle on/off the raw code.\"></form>"
      ],
      "text/plain": [
       "<IPython.core.display.HTML object>"
      ]
     },
     "execution_count": 1,
     "metadata": {},
     "output_type": "execute_result"
    }
   ],
   "source": [
    "from IPython.display import HTML\n",
    "\n",
    "HTML('''<script>\n",
    "code_show=true; \n",
    "function code_toggle() {\n",
    " if (code_show){\n",
    " $('div.input').hide();\n",
    " } else {\n",
    " $('div.input').show();\n",
    " }\n",
    " code_show = !code_show\n",
    "} \n",
    "$( document ).ready(code_toggle);\n",
    "</script>\n",
    "<form action=\"javascript:code_toggle()\"><input type=\"submit\" value=\"Click here to toggle on/off the raw code.\"></form>''')  "
   ]
  },
  {
   "cell_type": "code",
   "execution_count": 2,
   "metadata": {
    "collapsed": true,
    "slideshow": {
     "slide_type": "skip"
    }
   },
   "outputs": [],
   "source": [
    "import numpy as np\n",
    "import pandas as pd\n",
    "import matplotlib.pyplot as plt\n",
    "from pandas import Series, DataFrame\n",
    "import pytz\n",
    "from pytz import common_timezones, all_timezones\n",
    "import matplotlib\n",
    "matplotlib.style.use('ggplot')\n",
    "%matplotlib inline\n",
    "from datetime import datetime\n",
    "import scipy as sp\n",
    "import statsmodels.api as sm\n",
    "import statsmodels.formula.api as smf\n",
    "matplotlib.style.use('fivethirtyeight')\n",
    "matplotlib.style.use('seaborn-talk')"
   ]
  },
  {
   "cell_type": "code",
   "execution_count": 3,
   "metadata": {
    "collapsed": false,
    "slideshow": {
     "slide_type": "skip"
    }
   },
   "outputs": [
    {
     "name": "stdout",
     "output_type": "stream",
     "text": [
      "(1581838, 141)\n"
     ]
    }
   ],
   "source": [
    "import seerhelp\n",
    "otherfiles = seerhelp.get_otherfiles()\n",
    "otherfiles\n",
    "\n",
    "dfother0 = seerhelp.make_clean_dataframe(otherfiles[0])\n",
    "dfother1 = seerhelp.make_clean_dataframe(otherfiles[1])\n",
    "dfother2 = seerhelp.make_clean_dataframe(otherfiles[2])\n",
    "dfother3 = seerhelp.make_clean_dataframe(otherfiles[3])\n",
    "\n",
    "dfother = pd.concat([dfother0, dfother1, dfother2,\n",
    "                     dfother3], ignore_index=True)\n",
    "\n",
    "#dfother = pd.concat([dfother0, dfother1,dfother3], ignore_index=True)\n",
    "\n",
    "print(dfother.shape)\n",
    "\n",
    "del dfother0\n",
    "del dfother1\n",
    "del dfother2\n",
    "del dfother3"
   ]
  },
  {
   "cell_type": "markdown",
   "metadata": {
    "slideshow": {
     "slide_type": "slide"
    }
   },
   "source": [
    "This ipython notebook will illustrate the matching methodology we will use to match patients in the SEER-Medicare linked database. The comparison between patient outcomes for those patients who receive proton beam therapy vs traditional radiation therapy requires as a first step a matching of the two different groups. One method to perform this matching is to use Propensity Score Matching. Here we are going to illustrate a more direct method of matching using KDTrees, a data structure that allows for efficient finding of nearest neighbors in high-dimenional space."
   ]
  },
  {
   "cell_type": "markdown",
   "metadata": {
    "slideshow": {
     "slide_type": "slide"
    }
   },
   "source": [
    "We will first identify the following Head and Neck cancer patients using the following primary site codes:\n",
    "\n",
    "* Nasopharynx: (C110, C111, C12, C13, C118, C19)\n",
    "* Oropharynx: (C091, C098, C099, C100, C101, C102, C103, C104, C108, C109)\n",
    "* Salivary gland: (C079-C081, C088-C089)\n",
    "* Pituitary gland: (C751)\n",
    "\n",
    "Then we will split the above patient population into two groups as follows: The treatment group, defined as the patients receiving any form of radiation; and the control group, defined as the patients who did not receive any form of radiation. Operationally, these groups are defined by looking at the column RADIATN, which has values:"
   ]
  },
  {
   "cell_type": "markdown",
   "metadata": {
    "slideshow": {
     "slide_type": "slide"
    }
   },
   "source": [
    "| Code | Description |\n",
    "|:--------:|:--------------:|\n",
    "|0\t|None; diagnosed at autopsy|\n",
    "|1|\tBeam radiation|\n",
    "|2|\tRadioacative implants|\n",
    "|3|\tRadioisotopes|\n",
    "|4\t|Combination of 1 with 2 or 3|\n",
    "|5\t|Radiation, NOS - method or source not specified|\n",
    "|6\t|Other radiation (1973-1987 cases only)|\n",
    "|7\t|Patient or patient's guardian refused radiation therapy|\n",
    "|8|\tRadiation recommened, unknown if administered|\n",
    "|9\t|Unknown if radiation administered|\n",
    "\n",
    "So that a value of 0 defines the control group, and the values (1,2,3,4,5,6) define the treatment group. We will then perform matching between the resulting treatment and control groups."
   ]
  },
  {
   "cell_type": "code",
   "execution_count": 6,
   "metadata": {
    "collapsed": false,
    "slideshow": {
     "slide_type": "skip"
    }
   },
   "outputs": [
    {
     "name": "stdout",
     "output_type": "stream",
     "text": [
      "11963\n"
     ]
    }
   ],
   "source": [
    "nasopharynxfilter = dfother.PRIMSITE.str.contains('nasopharynx',case=False,na=False)\n",
    "print(nasopharynxfilter.sum())"
   ]
  },
  {
   "cell_type": "code",
   "execution_count": 7,
   "metadata": {
    "collapsed": false,
    "slideshow": {
     "slide_type": "skip"
    }
   },
   "outputs": [
    {
     "name": "stdout",
     "output_type": "stream",
     "text": [
      "5168\n"
     ]
    }
   ],
   "source": [
    "oropharynxfilter = dfother.PRIMSITE.str.contains('oropharynx',case=False,na=False)\n",
    "print(oropharynxfilter.sum())"
   ]
  },
  {
   "cell_type": "code",
   "execution_count": 8,
   "metadata": {
    "collapsed": false,
    "slideshow": {
     "slide_type": "skip"
    }
   },
   "outputs": [
    {
     "name": "stdout",
     "output_type": "stream",
     "text": [
      "1027\n"
     ]
    }
   ],
   "source": [
    "salivaryfilter = dfother.PRIMSITE.str.contains('salivary',case=False,na=False)\n",
    "print(salivaryfilter.sum())"
   ]
  },
  {
   "cell_type": "code",
   "execution_count": 9,
   "metadata": {
    "collapsed": false,
    "slideshow": {
     "slide_type": "skip"
    }
   },
   "outputs": [
    {
     "name": "stdout",
     "output_type": "stream",
     "text": [
      "32340\n"
     ]
    }
   ],
   "source": [
    "pituitaryfilter = dfother.PRIMSITE.str.contains('pituitary',case=False,na=False)\n",
    "print(pituitaryfilter.sum())"
   ]
  },
  {
   "cell_type": "code",
   "execution_count": 12,
   "metadata": {
    "collapsed": false,
    "slideshow": {
     "slide_type": "slide"
    }
   },
   "outputs": [
    {
     "data": {
      "text/plain": [
       "Pituitary gland                                32340\n",
       "Nasopharynx, NOS                                8670\n",
       "Oropharynx, NOS                                 3215\n",
       "Posterior wall of nasopharynx                   1230\n",
       "Lateral wall of nasopharynx                     1049\n",
       "Major salivary gland, NOS                       1002\n",
       "Overlapping lesions of oropharynx                764\n",
       "Posterior wall of oropharynx                     659\n",
       "Overlapping lesion of nasopharynx                604\n",
       "Lateral wall of oropharynx                       530\n",
       "Superior wall of nasopharynx                     212\n",
       "Anterior wall of nasopharynx                     198\n",
       "Overlapping lesion of major salivary glands       25\n",
       "Name: PRIMSITE, dtype: int64"
      ]
     },
     "execution_count": 12,
     "metadata": {},
     "output_type": "execute_result"
    }
   ],
   "source": [
    "headandneckfilter = nasopharynxfilter | oropharynxfilter | salivaryfilter | pituitaryfilter\n",
    "dfotherorig = dfother[headandneckfilter].copy()\n",
    "dfotherorig.PRIMSITE.value_counts()"
   ]
  },
  {
   "cell_type": "code",
   "execution_count": 13,
   "metadata": {
    "collapsed": true,
    "slideshow": {
     "slide_type": "skip"
    }
   },
   "outputs": [],
   "source": [
    "mask = (dfotherorig['CSTUMSIZ'] != \"Unknown; size not stated; not stated in patient record\") & \\\n",
    "(dfotherorig['CSTUMSIZ'] != \"Microscopic focus or foci only; no size of focus is given\") & \\\n",
    "(dfotherorig['CSTUMSIZ'] != \"989 millimeters or larger\") & \\\n",
    "(dfotherorig['CSTUMSIZ'] != \"Not applicable\") & \\\n",
    "(dfotherorig['AGE_DX'] != \"Unknown age\") & \\\n",
    "(dfotherorig['srv_time_mon_flag'] == \"Complete dates are available and there are more than 0 days of survival\") & \\\n",
    "(dfotherorig['YEAR_DX'] >= 2004) & \\\n",
    "(dfotherorig['CSTUMSIZ'] != \"Described as less than 1 cm\") & \\\n",
    "(dfotherorig['CSTUMSIZ'] != \"Described as less than 2 cm\") & \\\n",
    "(dfotherorig['CSTUMSIZ'] != \"Described as less than 3 cm\") & \\\n",
    "(dfotherorig['CSTUMSIZ'] != 'Indicates no msas or no tumor found; for example, when a tumor of a stated primary site is not found, but the tumor has metastasized') & \\\n",
    "(dfotherorig['CSTUMSIZ'] != \"Described as less than 4 cm\") & \\\n",
    "(dfotherorig['CSTUMSIZ'] != \"Described as less than 5 cm\") & \\\n",
    "(dfotherorig['CSTUMSIZ'] != \"Not applicable\") & \\\n",
    "(dfotherorig['YR_BRTH'] != 'Unknown year of birth') & \\\n",
    "(dfotherorig['CSTUMSIZ'] != 'Not applicable') & \\\n",
    "(dfotherorig['CSTUMSIZ'] != 996) & \\\n",
    "(dfotherorig['CSTUMSIZ'] != 997) & \\\n",
    "(dfotherorig['CSTUMSIZ'] != 998) & \\\n",
    "(dfotherorig['REC_NO'] == 1) \n",
    "\n",
    "dfheadandneck = dfotherorig[mask]"
   ]
  },
  {
   "cell_type": "code",
   "execution_count": 14,
   "metadata": {
    "collapsed": false,
    "slideshow": {
     "slide_type": "skip"
    }
   },
   "outputs": [
    {
     "data": {
      "text/plain": [
       "None; diagnosed at autopsy                                                  18953\n",
       "Beam radiation                                                               3980\n",
       "Radiation recommended, unknown if administered                                113\n",
       "Unknown if radiation administered                                              80\n",
       "Patient or patient's guardian refused radiation therapy                        76\n",
       "Radiation, NOS - method or source not provided                                 49\n",
       "Combination of beam radiation with radioactive implants or radioisotopes       12\n",
       "Radioactive implants                                                            3\n",
       "Radioisotopes                                                                   1\n",
       "Name: RADIATN, dtype: int64"
      ]
     },
     "execution_count": 14,
     "metadata": {},
     "output_type": "execute_result"
    }
   ],
   "source": [
    "dfheadandneck.RADIATN.value_counts()"
   ]
  },
  {
   "cell_type": "code",
   "execution_count": 15,
   "metadata": {
    "collapsed": false,
    "slideshow": {
     "slide_type": "skip"
    }
   },
   "outputs": [
    {
     "data": {
      "text/plain": [
       "Female    12030\n",
       "Male      11237\n",
       "Name: SEX, dtype: int64"
      ]
     },
     "execution_count": 15,
     "metadata": {},
     "output_type": "execute_result"
    }
   ],
   "source": [
    "dfheadandneck.SEX.value_counts()"
   ]
  },
  {
   "cell_type": "code",
   "execution_count": 16,
   "metadata": {
    "collapsed": true,
    "slideshow": {
     "slide_type": "skip"
    }
   },
   "outputs": [],
   "source": [
    "non_rad = dfheadandneck.RADIATN.str.contains('None',case=False,na=False)\n",
    "refused_rad = dfheadandneck.RADIATN.str.contains('refused',case=False,na=False)\n",
    "unknown_rad = dfheadandneck.RADIATN.str.contains('Unknown',case=False,na=False)"
   ]
  },
  {
   "cell_type": "code",
   "execution_count": 17,
   "metadata": {
    "collapsed": true,
    "slideshow": {
     "slide_type": "skip"
    }
   },
   "outputs": [],
   "source": [
    "dfheadandneckcontrol = dfheadandneck[non_rad | refused_rad].copy()\n",
    "dfheadandnecktreatment = dfheadandneck[~(non_rad) & ~(refused_rad) & ~(unknown_rad)].copy()"
   ]
  },
  {
   "cell_type": "code",
   "execution_count": 18,
   "metadata": {
    "collapsed": false,
    "slideshow": {
     "slide_type": "slide"
    }
   },
   "outputs": [
    {
     "name": "stdout",
     "output_type": "stream",
     "text": [
      "(19029, 141) (4045, 141)\n"
     ]
    }
   ],
   "source": [
    "print(dfheadandneckcontrol.shape, dfheadandnecktreatment.shape)\n"
   ]
  },
  {
   "cell_type": "markdown",
   "metadata": {
    "slideshow": {
     "slide_type": "slide"
    }
   },
   "source": [
    "## <font color='steelblue'>So we are going to match patients in the treatment group with their nearest neighbors in the control group</font>\n",
    "\n",
    "In order to find the nearest neighbors in the high-dimensional feature space, we need to first do some preprocessing of the data. The first step is to \"one-hot-encode\" the categorical features."
   ]
  },
  {
   "cell_type": "code",
   "execution_count": 19,
   "metadata": {
    "collapsed": true,
    "slideshow": {
     "slide_type": "skip"
    }
   },
   "outputs": [],
   "source": [
    "dfheadandneckcontrol.set_index('PUBCSNUM', inplace=True)\n",
    "dfheadandnecktreatment.set_index('PUBCSNUM', inplace=True)\n",
    "\n",
    "controlindices = dfheadandneckcontrol.index\n",
    "treatmentindices = dfheadandnecktreatment.index\n",
    "\n",
    "catcols = ['SEX','MAR_STAT','RACEIV','NHIADE','GRADE','PRIMSITE',\n",
    "          'LATERAL','HST_STGA','HISTREC','MDXRECMP','STAT_REC']\n",
    "\n",
    "goodcols = ['SEX','MAR_STAT','RACEIV','NHIADE','GRADE','PRIMSITE',\n",
    "          'LATERAL','HST_STGA','HISTREC','MDXRECMP','STAT_REC',\n",
    "           'YR_BRTH','AGE_DX','YEAR_DX','CSTUMSIZ',\n",
    "           'lat','lng']\n",
    "\n",
    "\n",
    "dfpop = pd.concat([dfheadandneckcontrol, dfheadandnecktreatment],verify_integrity=True)"
   ]
  },
  {
   "cell_type": "markdown",
   "metadata": {
    "slideshow": {
     "slide_type": "slide"
    }
   },
   "source": [
    "## <font color='steelblue'>Before matching, let's look at the Kaplan-Meier curves"
   ]
  },
  {
   "cell_type": "code",
   "execution_count": 20,
   "metadata": {
    "collapsed": true,
    "slideshow": {
     "slide_type": "skip"
    }
   },
   "outputs": [],
   "source": [
    "resgoodcontrol = pd.concat([pd.get_dummies(dfheadandneckcontrol[col],prefix=col) for col in catcols], axis=1)\n",
    "\n",
    "resgoodtreatment = pd.concat([pd.get_dummies(dfheadandnecktreatment[col],prefix=col) for col in catcols], axis=1)\n",
    "\n",
    "resgoodpop = pd.concat([pd.get_dummies(dfpop[col],prefix=col) for col in catcols], axis=1)\n",
    "\n",
    "resgoodcontrol['YR_BRTH'] = dfheadandneckcontrol['YR_BRTH']\n",
    "resgoodcontrol['AGE_DX'] = dfheadandneckcontrol['AGE_DX']#resgood['sequence_number_central'] = dfsmall['sequence_number_central']\n",
    "resgoodcontrol['YEAR_DX'] = dfheadandneckcontrol['YEAR_DX']\n",
    "resgoodcontrol['CSTUMSIZ'] = dfheadandneckcontrol['CSTUMSIZ']\n",
    "resgoodcontrol['lat'] = dfheadandneckcontrol['lat']\n",
    "resgoodcontrol['lng'] = dfheadandneckcontrol['lng']\n",
    "resgoodcontrol['srv_time_mon'] = dfheadandneckcontrol['srv_time_mon']\n",
    "\n",
    "\n",
    "resgoodtreatment['YR_BRTH'] = dfheadandnecktreatment['YR_BRTH']\n",
    "resgoodtreatment['AGE_DX'] = dfheadandnecktreatment['AGE_DX']#resgood['sequence_number_central'] = dfsmall['sequence_number_central']\n",
    "resgoodtreatment['YEAR_DX'] = dfheadandnecktreatment['YEAR_DX']\n",
    "resgoodtreatment['CSTUMSIZ'] = dfheadandnecktreatment['CSTUMSIZ']\n",
    "resgoodtreatment['lat'] = dfheadandnecktreatment['lat']\n",
    "resgoodtreatment['lng'] = dfheadandnecktreatment['lng']\n",
    "resgoodtreatment['srv_time_mon'] = dfheadandnecktreatment['srv_time_mon']\n",
    "\n",
    "\n",
    "resgoodpop['YR_BRTH'] = dfpop['YR_BRTH']\n",
    "resgoodpop['AGE_DX'] = dfpop['AGE_DX']#resgood['sequence_number_central'] = dfsmall['sequence_number_central']\n",
    "resgoodpop['YEAR_DX'] = dfpop['YEAR_DX']\n",
    "resgoodpop['CSTUMSIZ'] = dfpop['CSTUMSIZ']\n",
    "resgoodpop['lat'] = dfpop['lat']\n",
    "resgoodpop['lng'] = dfpop['lng']\n",
    "resgoodpop['srv_time_mon'] = dfpop['srv_time_mon']"
   ]
  },
  {
   "cell_type": "markdown",
   "metadata": {
    "slideshow": {
     "slide_type": "slide"
    }
   },
   "source": [
    "## <font color='steelblue'>After performing the matching between the control and treatment groups, we can see how the Kaplan-Meier curves differ</font>\n",
    "\n",
    "Below is how it looks **before** matching patients in the control and treatment groups together in pairs."
   ]
  },
  {
   "cell_type": "code",
   "execution_count": 21,
   "metadata": {
    "collapsed": false,
    "slideshow": {
     "slide_type": "skip"
    }
   },
   "outputs": [
    {
     "data": {
      "text/plain": [
       "<lifelines.KaplanMeierFitter: fitted with 4045 observations, 2837 censored>"
      ]
     },
     "execution_count": 21,
     "metadata": {},
     "output_type": "execute_result"
    }
   ],
   "source": [
    "from lifelines import KaplanMeierFitter\n",
    "\n",
    "kmfpop = KaplanMeierFitter()\n",
    "kmfcontrol = KaplanMeierFitter()\n",
    "kmftreatment = KaplanMeierFitter()\n",
    "\n",
    "Tcontrol = resgoodpop.loc[controlindices][\"srv_time_mon\"]\n",
    "Econtrol = resgoodpop.loc[controlindices][\"STAT_REC_Dead\"]\n",
    "\n",
    "Ttreatment = resgoodpop.loc[treatmentindices][\"srv_time_mon\"]\n",
    "Etreatment = resgoodpop.loc[treatmentindices][\"STAT_REC_Dead\"]\n",
    "\n",
    "Tpop = resgoodpop[\"srv_time_mon\"]\n",
    "Epop = resgoodpop[\"STAT_REC_Dead\"]\n",
    "\n",
    "kmfpop.fit(Tpop, event_observed=Epop,label='All head and neck');\n",
    "kmfcontrol.fit(Tcontrol, event_observed=Econtrol,label='No Radiation Group (control group)')\n",
    "kmftreatment.fit(Ttreatment, event_observed=Etreatment, label='Radiation Group (treatment group)')\n",
    "#ax = kmfpop.plot()\n",
    "#ax = kmfcontrol.plot()\n",
    "#kmftreatment.plot(ax=ax)\n",
    "#plt.title(\"Left-sided breast cancer patients Kaplan-Meier Curve (95% CI) \\n Pre-Matching\");"
   ]
  },
  {
   "cell_type": "code",
   "execution_count": 22,
   "metadata": {
    "collapsed": false,
    "slideshow": {
     "slide_type": "slide"
    }
   },
   "outputs": [
    {
     "data": {
      "image/png": "[encoded data removed]",
      "text/plain": [
       "<matplotlib.figure.Figure at 0x1517415c0>"
      ]
     },
     "metadata": {},
     "output_type": "display_data"
    }
   ],
   "source": [
    "ax = kmfcontrol.plot()\n",
    "kmftreatment.plot(ax=ax)\n",
    "plt.title(\"Head and Neck\\n(Nasopharynx, Oropharynx, Salivary gland, Pituitary gland) cancer\\n Kaplan-Meier Curve (95% CI) \\n Pre-Matching\");"
   ]
  },
  {
   "cell_type": "code",
   "execution_count": null,
   "metadata": {
    "collapsed": true
   },
   "outputs": [],
   "source": []
  }
 ],
 "metadata": {
  "celltoolbar": "Slideshow",
  "kernelspec": {
   "display_name": "Python 3",
   "language": "python",
   "name": "python3"
  },
  "language_info": {
   "codemirror_mode": {
    "name": "ipython",
    "version": 3
   },
   "file_extension": ".py",
   "mimetype": "text/x-python",
   "name": "python",
   "nbconvert_exporter": "python",
   "pygments_lexer": "ipython3",
   "version": "3.5.1"
  },
  "widgets": {
   "state": {},
   "version": "1.1.2"
  }
 },
 "nbformat": 4,
 "nbformat_minor": 0
}
