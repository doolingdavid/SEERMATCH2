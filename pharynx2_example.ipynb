{
 "cells": [
  {
   "cell_type": "code",
   "execution_count": 1,
   "metadata": {
    "collapsed": false,
    "slideshow": {
     "slide_type": "skip"
    }
   },
   "outputs": [
    {
     "data": {
      "text/html": [
       "<script>\n",
       "code_show=true; \n",
       "function code_toggle() {\n",
       " if (code_show){\n",
       " $('div.input').hide();\n",
       " } else {\n",
       " $('div.input').show();\n",
       " }\n",
       " code_show = !code_show\n",
       "} \n",
       "$( document ).ready(code_toggle);\n",
       "</script>\n",
       "<form action=\"javascript:code_toggle()\"><input type=\"submit\" value=\"Click here to toggle on/off the raw code.\"></form>"
      ],
      "text/plain": [
       "<IPython.core.display.HTML object>"
      ]
     },
     "execution_count": 1,
     "metadata": {},
     "output_type": "execute_result"
    }
   ],
   "source": [
    "from IPython.display import HTML\n",
    "\n",
    "HTML('''<script>\n",
    "code_show=true; \n",
    "function code_toggle() {\n",
    " if (code_show){\n",
    " $('div.input').hide();\n",
    " } else {\n",
    " $('div.input').show();\n",
    " }\n",
    " code_show = !code_show\n",
    "} \n",
    "$( document ).ready(code_toggle);\n",
    "</script>\n",
    "<form action=\"javascript:code_toggle()\"><input type=\"submit\" value=\"Click here to toggle on/off the raw code.\"></form>''')  "
   ]
  },
  {
   "cell_type": "code",
   "execution_count": 2,
   "metadata": {
    "collapsed": true,
    "slideshow": {
     "slide_type": "skip"
    }
   },
   "outputs": [],
   "source": [
    "import numpy as np\n",
    "import pandas as pd\n",
    "import matplotlib.pyplot as plt\n",
    "from pandas import Series, DataFrame\n",
    "import pytz\n",
    "from pytz import common_timezones, all_timezones\n",
    "import matplotlib\n",
    "matplotlib.style.use('ggplot')\n",
    "%matplotlib inline\n",
    "from datetime import datetime\n",
    "import scipy as sp\n",
    "import statsmodels.api as sm\n",
    "import statsmodels.formula.api as smf\n",
    "matplotlib.style.use('fivethirtyeight')\n",
    "matplotlib.style.use('seaborn-talk')"
   ]
  },
  {
   "cell_type": "markdown",
   "metadata": {
    "slideshow": {
     "slide_type": "slide"
    }
   },
   "source": [
    "This ipython notebook will illustrate the matching methodology we will use to match patients in the SEER-Medicare linked database. The comparison between patient outcomes between those patients who receive proton beam therapy vs traditional radiation therapy requires as a first step a matching of the two different groups. One method to perform this matching is to use Propensity Score Matching. Here we are going to illustrate a more direct method of matching using KDTrees, a data structure that allows for efficient finding of nearest neighbors in high-dimenional space."
   ]
  },
  {
   "cell_type": "markdown",
   "metadata": {
    "slideshow": {
     "slide_type": "slide"
    }
   },
   "source": [
    "We will first identify all patients that have been diagonised with some type of head and neck cancer as defined by the following primary site codes: Nasopharynx: (C110, C111, C112, C113, C118, C119).\n",
    "Then we will split the above patient population into two groups as follows: The treatment group, defined as the patients receiving any form of radiation the control group, defined as the patients who did not receive any form of radiation Operationally, these groups are defined by looking at the column RADIATN, which has values:"
   ]
  },
  {
   "cell_type": "markdown",
   "metadata": {
    "slideshow": {
     "slide_type": "slide"
    }
   },
   "source": [
    "\n",
    "| Code\t| Description |\n",
    "|:---------:|:-------------:|\n",
    "|0\t|None; diagnosed at autopsy|\n",
    "|1\t|Beam radiation |\n",
    "| 2 |\tRadioacative implants |\n",
    "|3\t|Radioisotopes|\n",
    "|4\t|Combination of 1 with 2 or 3 |\n",
    "|5\t|Radiation, NOS - method or source not specified |\n",
    "|6\t|Other radiation (1973-1987 cases only)|\n",
    "|7\t|Patient or patient's guardian refused radiation therapy |\n",
    "|8\t|Radiation recommended, unknown if administered |\n",
    "|9\t|Unknown if radiation administered |"
   ]
  },
  {
   "cell_type": "markdown",
   "metadata": {
    "slideshow": {
     "slide_type": "fragment"
    }
   },
   "source": [
    "So that a value of 0 defines the control group, and the values (1,2,3,4,5,6) define the treatment group. We will then perform matching between the resulting treatment and control groups."
   ]
  },
  {
   "cell_type": "code",
   "execution_count": 3,
   "metadata": {
    "collapsed": false,
    "slideshow": {
     "slide_type": "skip"
    }
   },
   "outputs": [
    {
     "name": "stdout",
     "output_type": "stream",
     "text": [
      "(1581838, 141)\n"
     ]
    }
   ],
   "source": [
    "import seerhelp\n",
    "otherfiles = seerhelp.get_otherfiles()\n",
    "otherfiles\n",
    "\n",
    "dfother0 = seerhelp.make_clean_dataframe(otherfiles[0])\n",
    "dfother1 = seerhelp.make_clean_dataframe(otherfiles[1])\n",
    "dfother2 = seerhelp.make_clean_dataframe(otherfiles[2])\n",
    "dfother3 = seerhelp.make_clean_dataframe(otherfiles[3])\n",
    "\n",
    "dfother = pd.concat([dfother0, dfother1, dfother2,\n",
    "                     dfother3], ignore_index=True)\n",
    "\n",
    "#dfother = pd.concat([dfother0, dfother1,dfother3], ignore_index=True)\n",
    "\n",
    "print(dfother.shape)\n",
    "\n",
    "del dfother0\n",
    "del dfother1\n",
    "del dfother2\n",
    "del dfother3"
   ]
  },
  {
   "cell_type": "code",
   "execution_count": 5,
   "metadata": {
    "collapsed": false,
    "slideshow": {
     "slide_type": "slide"
    }
   },
   "outputs": [
    {
     "data": {
      "text/plain": [
       "Unknown primary site                                                     170561\n",
       "Thyroid gland                                                            167854\n",
       "Skin of trunk                                                            164671\n",
       "Skin of upper limb and shoulder                                          131779\n",
       "Skin of lower limb and hip                                                94148\n",
       "Skin of other and unspecified parts of face                               84382\n",
       "Bone marrow                                                               82123\n",
       "Cerebral meninges                                                         58481\n",
       "Skin of scalp and neck                                                    44256\n",
       "Pituitary gland                                                           32340\n",
       "Frontal lobe                                                              27753\n",
       "Skin, NOS                                                                 26011\n",
       "Base of tongue, NOS                                                       25176\n",
       "Temporal lobe                                                             21291\n",
       "Tonsil, NOS                                                               20044\n",
       "External ear                                                              18939\n",
       "Connective, Subcutaneous and other soft tissues of lower limb and hip     18539\n",
       "Parotid gland                                                             17345\n",
       "Overlapping lesion of brain                                               16310\n",
       "Pleura, NOS                                                               14670\n",
       "Parietal lobe                                                             14487\n",
       "Brain, NOS                                                                14471\n",
       "External lower lip                                                        13573\n",
       "Acoustic nerve                                                            11572\n",
       "Floor of mouth, NOS                                                        8880\n",
       "Pyriform sinus                                                             8719\n",
       "Nasopharynx, NOS                                                           8670\n",
       "Tongue, NOS                                                                8488\n",
       "Meninges, NOS                                                              8170\n",
       "Cerebellum, NOS                                                            8150\n",
       "                                                                          ...  \n",
       "Breast, NOS                                                                   2\n",
       "Uterus, NOS                                                                   2\n",
       "Uterine adnexa                                                                2\n",
       "Middle third of esophagus                                                     2\n",
       "Body of penis                                                                 2\n",
       "Overlapping lesion of respiratory system and intrathoracic organs             2\n",
       "Head of pancreas                                                              2\n",
       "Round ligament                                                                2\n",
       "Ampulla of Vater                                                              2\n",
       "Cervix uteri                                                                  2\n",
       "Pancreas, NOS                                                                 2\n",
       "Parametrium                                                                   1\n",
       "Female genital tract, NOS                                                     1\n",
       "Upper-outer quadrant of breast                                                1\n",
       "Upper respiratory tract, NOS                                                  1\n",
       "Myometrium                                                                    1\n",
       "Splenic flexure of colon                                                      1\n",
       "Subglottis                                                                    1\n",
       "Undescended testis                                                            1\n",
       "Overlapping lesion of accessory sinuses                                       1\n",
       "Vagina, NOS                                                                   1\n",
       "Overlapping lesion of endocrine glands and related structures                 1\n",
       "Tail of pancreas                                                              1\n",
       "Accessory sinus, NOS                                                          1\n",
       "Pylorus                                                                       1\n",
       "Bladder, NOS                                                                  1\n",
       "Ethmoid sinus                                                                 1\n",
       "Body of pancreas                                                              1\n",
       "Overlapping lesion of small intestine                                         1\n",
       "Corpus uteri                                                                  1\n",
       "Name: PRIMSITE, dtype: int64"
      ]
     },
     "execution_count": 5,
     "metadata": {},
     "output_type": "execute_result"
    }
   ],
   "source": [
    "dfother.PRIMSITE.value_counts()"
   ]
  },
  {
   "cell_type": "code",
   "execution_count": 6,
   "metadata": {
    "collapsed": false,
    "slideshow": {
     "slide_type": "slide"
    }
   },
   "outputs": [
    {
     "data": {
      "text/plain": [
       "Nasopharynx, NOS                     8670\n",
       "Posterior wall of nasopharynx        1230\n",
       "Lateral wall of nasopharynx          1049\n",
       "Overlapping lesion of nasopharynx     604\n",
       "Superior wall of nasopharynx          212\n",
       "Anterior wall of nasopharynx          198\n",
       "Name: PRIMSITE, dtype: int64"
      ]
     },
     "execution_count": 6,
     "metadata": {},
     "output_type": "execute_result"
    }
   ],
   "source": [
    "dfnasoorig = dfother[dfother.PRIMSITE.str.contains('nasopharynx',case=False,na=False)]\n",
    "\n",
    "dfnasoorig.PRIMSITE.value_counts()\n"
   ]
  },
  {
   "cell_type": "code",
   "execution_count": 7,
   "metadata": {
    "collapsed": true,
    "slideshow": {
     "slide_type": "skip"
    }
   },
   "outputs": [],
   "source": [
    "mask = (dfnasoorig['CSTUMSIZ'] != \"Unknown; size not stated; not stated in patient record\") & \\\n",
    "(dfnasoorig['CSTUMSIZ'] != \"Microscopic focus or foci only; no size of focus is given\") & \\\n",
    "(dfnasoorig['CSTUMSIZ'] != \"989 millimeters or larger\") & \\\n",
    "(dfnasoorig['CSTUMSIZ'] != \"Not applicable\") & \\\n",
    "(dfnasoorig['AGE_DX'] != \"Unknown age\") & \\\n",
    "(dfnasoorig['srv_time_mon_flag'] == \"Complete dates are available and there are more than 0 days of survival\") & \\\n",
    "(dfnasoorig['YEAR_DX'] >= 2004) & \\\n",
    "(dfnasoorig['CSTUMSIZ'] != \"Described as less than 1 cm\") & \\\n",
    "(dfnasoorig['CSTUMSIZ'] != \"Described as less than 2 cm\") & \\\n",
    "(dfnasoorig['CSTUMSIZ'] != \"Described as less than 3 cm\") & \\\n",
    "(dfnasoorig['CSTUMSIZ'] != 'Indicates no msas or no tumor found; for example, when a tumor of a stated primary site is not found, but the tumor has metastasized') & \\\n",
    "(dfnasoorig['CSTUMSIZ'] != \"Described as less than 4 cm\") & \\\n",
    "(dfnasoorig['CSTUMSIZ'] != \"Described as less than 5 cm\") & \\\n",
    "(dfnasoorig['CSTUMSIZ'] != \"Not applicable\") & \\\n",
    "(dfnasoorig['YR_BRTH'] != 'Unknown year of birth') & \\\n",
    "(dfnasoorig['CSTUMSIZ'] != 'Not applicable') & \\\n",
    "(dfnasoorig['CSTUMSIZ'] != 996) & \\\n",
    "(dfnasoorig['CSTUMSIZ'] != 997) & \\\n",
    "(dfnasoorig['CSTUMSIZ'] != 998) & \\\n",
    "(dfnasoorig['REC_NO'] == 1) \n",
    "\n",
    "dfnaso = dfnasoorig[mask]\n",
    "\n"
   ]
  },
  {
   "cell_type": "code",
   "execution_count": 8,
   "metadata": {
    "collapsed": true,
    "slideshow": {
     "slide_type": "skip"
    }
   },
   "outputs": [],
   "source": [
    "non_rad = dfnaso.RADIATN.str.contains('None',case=False,na=False)\n",
    "refused_rad = dfnaso.RADIATN.str.contains('refused',case=False,na=False)\n",
    "unknown_rad = dfnaso.RADIATN.str.contains('Unknown',case=False,na=False)"
   ]
  },
  {
   "cell_type": "code",
   "execution_count": 9,
   "metadata": {
    "collapsed": true,
    "slideshow": {
     "slide_type": "skip"
    }
   },
   "outputs": [],
   "source": [
    "dfnasocontrol = dfnaso[non_rad | refused_rad].copy()\n",
    "dfnasotreatment = dfnaso[~(non_rad) & ~(refused_rad) & ~(unknown_rad)].copy()"
   ]
  },
  {
   "cell_type": "markdown",
   "metadata": {
    "slideshow": {
     "slide_type": "slide"
    }
   },
   "source": [
    "## <font color='steelblue'>Only 317 Nasopharynx cancer patients did **not** receive radiation</font>"
   ]
  },
  {
   "cell_type": "code",
   "execution_count": 11,
   "metadata": {
    "collapsed": false,
    "slideshow": {
     "slide_type": "fragment"
    }
   },
   "outputs": [
    {
     "name": "stdout",
     "output_type": "stream",
     "text": [
      "(317, 141) (2133, 141)\n"
     ]
    }
   ],
   "source": [
    "print(dfnasocontrol.shape, dfnasotreatment.shape)"
   ]
  },
  {
   "cell_type": "markdown",
   "metadata": {
    "slideshow": {
     "slide_type": "slide"
    }
   },
   "source": [
    "## <font color='steelblue'>So we are going to match patients in the control group with their nearest neighbors in the treatment group</font>\n",
    "\n",
    "In order to find the nearest neighbors in the high-dimensional feature space, we need to first do some preprocessing of the data. The first step is to \"one-hot-encode\" the categorical features."
   ]
  },
  {
   "cell_type": "code",
   "execution_count": 12,
   "metadata": {
    "collapsed": true,
    "slideshow": {
     "slide_type": "skip"
    }
   },
   "outputs": [],
   "source": [
    "dfnasocontrol.set_index('PUBCSNUM', inplace=True)\n",
    "dfnasotreatment.set_index('PUBCSNUM', inplace=True)\n",
    "\n",
    "controlindices = dfnasocontrol.index\n",
    "treatmentindices = dfnasotreatment.index\n",
    "\n",
    "catcols = ['SEX','MAR_STAT','RACEIV','NHIADE','GRADE','PRIMSITE',\n",
    "          'LATERAL','HST_STGA','HISTREC','MDXRECMP','STAT_REC']\n",
    "\n",
    "goodcols = ['SEX','MAR_STAT','RACEIV','NHIADE','GRADE','PRIMSITE',\n",
    "          'LATERAL','HST_STGA','HISTREC','MDXRECMP','STAT_REC',\n",
    "           'YR_BRTH','AGE_DX','YEAR_DX','CSTUMSIZ',\n",
    "           'lat','lng']\n",
    "\n",
    "\n",
    "dfpop = pd.concat([dfnasocontrol, dfnasotreatment],verify_integrity=True)"
   ]
  },
  {
   "cell_type": "markdown",
   "metadata": {
    "slideshow": {
     "slide_type": "slide"
    }
   },
   "source": [
    "## <font color='steelblue'>Before matching, let's look at the Kaplan-Meier curves"
   ]
  },
  {
   "cell_type": "code",
   "execution_count": 13,
   "metadata": {
    "collapsed": true,
    "slideshow": {
     "slide_type": "skip"
    }
   },
   "outputs": [],
   "source": [
    "resgoodcontrol = pd.concat([pd.get_dummies(dfnasocontrol[col],prefix=col) for col in catcols], axis=1)\n",
    "\n",
    "resgoodtreatment = pd.concat([pd.get_dummies(dfnasotreatment[col],prefix=col) for col in catcols], axis=1)\n",
    "\n",
    "resgoodpop = pd.concat([pd.get_dummies(dfpop[col],prefix=col) for col in catcols], axis=1)\n",
    "\n",
    "resgoodcontrol['YR_BRTH'] = dfnasocontrol['YR_BRTH']\n",
    "resgoodcontrol['AGE_DX'] = dfnasocontrol['AGE_DX']#resgood['sequence_number_central'] = dfsmall['sequence_number_central']\n",
    "resgoodcontrol['YEAR_DX'] = dfnasocontrol['YEAR_DX']\n",
    "resgoodcontrol['CSTUMSIZ'] = dfnasocontrol['CSTUMSIZ']\n",
    "resgoodcontrol['lat'] = dfnasocontrol['lat']\n",
    "resgoodcontrol['lng'] = dfnasocontrol['lng']\n",
    "resgoodcontrol['srv_time_mon'] = dfnasocontrol['srv_time_mon']\n",
    "\n",
    "\n",
    "resgoodtreatment['YR_BRTH'] = dfnasotreatment['YR_BRTH']\n",
    "resgoodtreatment['AGE_DX'] = dfnasotreatment['AGE_DX']#resgood['sequence_number_central'] = dfsmall['sequence_number_central']\n",
    "resgoodtreatment['YEAR_DX'] = dfnasotreatment['YEAR_DX']\n",
    "resgoodtreatment['CSTUMSIZ'] = dfnasotreatment['CSTUMSIZ']\n",
    "resgoodtreatment['lat'] = dfnasotreatment['lat']\n",
    "resgoodtreatment['lng'] = dfnasotreatment['lng']\n",
    "resgoodtreatment['srv_time_mon'] = dfnasotreatment['srv_time_mon']\n",
    "\n",
    "\n",
    "resgoodpop['YR_BRTH'] = dfpop['YR_BRTH']\n",
    "resgoodpop['AGE_DX'] = dfpop['AGE_DX']#resgood['sequence_number_central'] = dfsmall['sequence_number_central']\n",
    "resgoodpop['YEAR_DX'] = dfpop['YEAR_DX']\n",
    "resgoodpop['CSTUMSIZ'] = dfpop['CSTUMSIZ']\n",
    "resgoodpop['lat'] = dfpop['lat']\n",
    "resgoodpop['lng'] = dfpop['lng']\n",
    "resgoodpop['srv_time_mon'] = dfpop['srv_time_mon']"
   ]
  },
  {
   "cell_type": "markdown",
   "metadata": {
    "slideshow": {
     "slide_type": "slide"
    }
   },
   "source": [
    "## <font color='steelblue'>After performing the matching between the control and treatment groups, we can see how the Kaplan-Meier curves differ</font>\n",
    "\n",
    "Below is how it looks **before** matching patients in the control and treatment groups together in pairs."
   ]
  },
  {
   "cell_type": "code",
   "execution_count": 14,
   "metadata": {
    "collapsed": false,
    "slideshow": {
     "slide_type": "skip"
    }
   },
   "outputs": [
    {
     "data": {
      "text/plain": [
       "<lifelines.KaplanMeierFitter: fitted with 2133 observations, 1508 censored>"
      ]
     },
     "execution_count": 14,
     "metadata": {},
     "output_type": "execute_result"
    }
   ],
   "source": [
    "from lifelines import KaplanMeierFitter\n",
    "\n",
    "kmfpop = KaplanMeierFitter()\n",
    "kmfcontrol = KaplanMeierFitter()\n",
    "kmftreatment = KaplanMeierFitter()\n",
    "\n",
    "Tcontrol = resgoodpop.loc[controlindices][\"srv_time_mon\"]\n",
    "Econtrol = resgoodpop.loc[controlindices][\"STAT_REC_Dead\"]\n",
    "\n",
    "Ttreatment = resgoodpop.loc[treatmentindices][\"srv_time_mon\"]\n",
    "Etreatment = resgoodpop.loc[treatmentindices][\"STAT_REC_Dead\"]\n",
    "\n",
    "Tpop = resgoodpop[\"srv_time_mon\"]\n",
    "Epop = resgoodpop[\"STAT_REC_Dead\"]\n",
    "\n",
    "kmfpop.fit(Tpop, event_observed=Epop,label='All nasopharynx');\n",
    "kmfcontrol.fit(Tcontrol, event_observed=Econtrol,label='No Radiation Group (control group)')\n",
    "kmftreatment.fit(Ttreatment, event_observed=Etreatment, label='Radiation Group (treatment group)')\n",
    "#ax = kmfpop.plot()\n",
    "#ax = kmfcontrol.plot()\n",
    "#kmftreatment.plot(ax=ax)\n",
    "#plt.title(\"Left-sided breast cancer patients Kaplan-Meier Curve (95% CI) \\n Pre-Matching\");"
   ]
  },
  {
   "cell_type": "code",
   "execution_count": 15,
   "metadata": {
    "collapsed": false,
    "slideshow": {
     "slide_type": "slide"
    }
   },
   "outputs": [
    {
     "data": {
      "image/png": "[encoded data removed]",
      "text/plain": [
       "<matplotlib.figure.Figure at 0x41391d0>"
      ]
     },
     "metadata": {},
     "output_type": "display_data"
    }
   ],
   "source": [
    "ax = kmfcontrol.plot()\n",
    "kmftreatment.plot(ax=ax)\n",
    "plt.title(\"Nasopharynx cancer Kaplan-Meier Curve (95% CI) \\n Pre-Matching\");"
   ]
  },
  {
   "cell_type": "markdown",
   "metadata": {
    "slideshow": {
     "slide_type": "slide"
    }
   },
   "source": [
    "## <font color='steelblue'>Clearly, there is a huge benefit to receiving radiation</font>\n",
    "\n",
    "However, one could logically argue that it is not radiation treatment that is leading to the better survival prognosis, but rather some other feature that leads to better prognosis is also leading to a greater likelihood of receiving radiation therapy. So that we are not really comparing apples to apples when we calculate these two survival curves. To answer this objection, we need to perform patient matching, so that we are really comparing apples to apples and that any marked difference in the survival curves can be confidently attributed to the posistive effects of radiation."
   ]
  },
  {
   "cell_type": "code",
   "execution_count": 16,
   "metadata": {
    "collapsed": true,
    "slideshow": {
     "slide_type": "skip"
    }
   },
   "outputs": [],
   "source": [
    "resgoodpop['YR_BRTH'] = resgoodpop['YR_BRTH'].astype('int')\n",
    "resgoodpop['AGE_DX'] = resgoodpop['AGE_DX'].astype('int')\n",
    "resgoodpop['CSTUMSIZ'] = resgoodpop['CSTUMSIZ'].astype('float')\n",
    "resgoodpop['lat'] = resgoodpop['lat'].astype('float')\n",
    "resgoodpop['lng'] = resgoodpop['lng'].astype('float')\n",
    "resgoodpop['srv_time_mon'] = resgoodpop['srv_time_mon'].astype('float')\n",
    "\n",
    "newcolumns = list(resgoodpop.columns)\n",
    "\n",
    "\n",
    "newcolumns.remove('srv_time_mon')\n",
    "newcolumns.remove('STAT_REC_Alive')\n",
    "newcolumns.remove('STAT_REC_Dead')\n",
    "newcolumns.remove('SEX_Female')\n",
    "\n",
    "resgreatpop = resgoodpop[newcolumns].copy()"
   ]
  },
  {
   "cell_type": "code",
   "execution_count": 17,
   "metadata": {
    "collapsed": true,
    "slideshow": {
     "slide_type": "skip"
    }
   },
   "outputs": [],
   "source": [
    "resgreatpop['PUBCSNUM'] = resgreatpop.index\n",
    "leaguefilter = (resgreatpop['PUBCSNUM'].loc[treatmentindices])\n",
    "resgreatpop['League'] = resgreatpop['PUBCSNUM'].isin(treatmentindices).astype('int')\n",
    "del resgreatpop['PUBCSNUM']\n",
    "dftree = resgreatpop.copy()\n",
    "\n",
    "y = dftree['League'].copy()\n",
    "del dftree['League']"
   ]
  },
  {
   "cell_type": "code",
   "execution_count": 18,
   "metadata": {
    "collapsed": true,
    "slideshow": {
     "slide_type": "skip"
    }
   },
   "outputs": [],
   "source": [
    "from sklearn.metrics import roc_curve, auc\n",
    "from sklearn.preprocessing import label_binarize, StandardScaler\n",
    "from sklearn.multiclass import OneVsRestClassifier\n",
    "\n",
    "import numpy as np\n",
    "import pandas as pd\n",
    "import datetime\n",
    "import matplotlib.pyplot as plot\n",
    "#import psycopg2\n",
    "import random\n",
    "from sklearn import ensemble\n",
    "from sklearn.metrics import mean_squared_error, mean_absolute_error\n",
    "from sklearn.cross_validation import StratifiedShuffleSplit\n",
    "import pylab as plot\n",
    "from pandas import DataFrame, Series\n",
    "from sklearn import metrics\n",
    "from sklearn.neighbors import KNeighborsClassifier\n",
    "from sklearn.cross_validation import KFold\n",
    "from sklearn.feature_extraction import DictVectorizer\n",
    "from sklearn import feature_extraction\n",
    "from sklearn.cross_validation import train_test_split\n",
    "from sklearn.feature_extraction import DictVectorizer as DV\n",
    "from sklearn.linear_model import LinearRegression\n",
    "from sklearn.cross_validation import cross_val_score\n",
    "from sklearn.preprocessing import StandardScaler\n",
    "from sklearn.linear_model import SGDRegressor\n",
    "from sklearn.linear_model.logistic import LogisticRegression\n",
    "from sklearn.metrics import confusion_matrix\n",
    "from sklearn.metrics import accuracy_score\n",
    "from sklearn.metrics import roc_curve, auc\n",
    "from sklearn.tree import DecisionTreeClassifier\n",
    "from sklearn.metrics import classification_report\n",
    "from sklearn.pipeline import Pipeline\n",
    "from sklearn.grid_search import GridSearchCV\n",
    "from sklearn.grid_search import ParameterGrid\n",
    "from sklearn.decomposition import PCA\n",
    "from mpl_toolkits.mplot3d import Axes3D\n",
    "#from sklearn.neural_network import MultilayerPerceptronClassifier\n",
    "from sklearn.neural_network import BernoulliRBM\n",
    "from sklearn.svm import SVC\n",
    "import pylab as pl\n",
    "from sklearn.decomposition import RandomizedPCA\n",
    "from itertools import cycle\n",
    "from sklearn.cross_validation import ShuffleSplit\n",
    "from scipy.stats import sem\n",
    "from pprint import pprint\n",
    "from math import sqrt, fabs, exp\n",
    "import matplotlib.pyplot as plot\n",
    "from sklearn.cross_validation import train_test_split\n",
    "from sklearn import ensemble\n",
    "from sklearn.metrics import roc_auc_score, roc_curve\n",
    "import numpy\n",
    "from sklearn.preprocessing import OneHotEncoder\n",
    "from sklearn.preprocessing import LabelEncoder\n",
    "from pandas.tools.plotting import lag_plot"
   ]
  },
  {
   "cell_type": "markdown",
   "metadata": {
    "slideshow": {
     "slide_type": "slide"
    }
   },
   "source": [
    "This direct force method of finding similar patients characterized by points in a high-dimensional space is possible for this data set as well as for Big Data sized data sets thanks to a data structure called a KDTree. In order to construct the KDTree, we first need to transform the numeric data so that all of the different features contribute equally to the euclidean distance between patients/records. For example, **AGE_DX** is on the order of 60 or so, while **YR_BRTH** is around 1960. Without standardization, **YR_BRTH** would contribute much more to the distance between patients than **AGE_DX**. The result of standardization (or z-score normalization) is that features will be rescaled so that they will have the properties of a standard normal distribution with\n",
    "\n",
    "$\\mu = 0$ and $\\sigma = 1$\n",
    "\n",
    "where $\\mu$ is the mean (average) and $\\sigma$ is the standard deviation from the mean; standard deviation scores (also called z-scores) are then calculated as follows:\n",
    "\n",
    "$\n",
    "z_{i} = \\frac{x_{i} - \\mu}{\\sigma}\n",
    "$"
   ]
  },
  {
   "cell_type": "code",
   "execution_count": 19,
   "metadata": {
    "collapsed": false,
    "slideshow": {
     "slide_type": "slide"
    }
   },
   "outputs": [
    {
     "name": "stdout",
     "output_type": "stream",
     "text": [
      "[[ 0.66357307 -0.30057059  0.87326395 ...,  0.13370121  1.009353\n",
      "   1.70358659]\n",
      " [-1.50699304 -0.30057059 -1.14512914 ..., -0.22015854  0.99492038\n",
      "   1.67584176]\n",
      " [-1.50699304 -0.30057059 -1.14512914 ..., -0.39708841  1.10439477\n",
      "   1.70358659]\n",
      " ..., \n",
      " [ 0.66357307 -0.30057059  0.87326395 ..., -0.30862348 -1.26335224\n",
      "   0.76227089]\n",
      " [ 0.66357307 -0.30057059  0.87326395 ..., -0.5563253  -1.26335224\n",
      "   0.76227089]\n",
      " [ 0.66357307 -0.30057059  0.87326395 ..., -0.1316936  -1.07102393\n",
      "   0.7059259 ]]\n"
     ]
    }
   ],
   "source": [
    "xTrain = dftree.values\n",
    "xTrain = StandardScaler().fit_transform(xTrain)\n",
    "from sklearn.neighbors import KDTree\n",
    "print(xTrain)"
   ]
  },
  {
   "cell_type": "code",
   "execution_count": 20,
   "metadata": {
    "collapsed": true,
    "slideshow": {
     "slide_type": "skip"
    }
   },
   "outputs": [],
   "source": [
    "from sklearn.neighbors import KDTree\n",
    "kdt = KDTree(xTrain, leaf_size=30)"
   ]
  },
  {
   "cell_type": "markdown",
   "metadata": {
    "slideshow": {
     "slide_type": "slide"
    }
   },
   "source": [
    "## <font color='steelblue'>Here is a video explaining the construction of a KDTree</font>"
   ]
  },
  {
   "cell_type": "code",
   "execution_count": 21,
   "metadata": {
    "collapsed": false,
    "slideshow": {
     "slide_type": "fragment"
    }
   },
   "outputs": [
    {
     "data": {
      "image/jpeg": "[encoded data removed]",
      "text/html": [
       "\n",
       "        <iframe\n",
       "            width=\"400\"\n",
       "            height=\"300\"\n",
       "            src=\"https://www.youtube.com/embed/LdaL-l2S76c\"\n",
       "            frameborder=\"0\"\n",
       "            allowfullscreen\n",
       "        ></iframe>\n",
       "        "
      ],
      "text/plain": [
       "<IPython.lib.display.YouTubeVideo at 0x162385cc0>"
      ]
     },
     "execution_count": 21,
     "metadata": {},
     "output_type": "execute_result"
    }
   ],
   "source": [
    "from IPython.display import YouTubeVideo\n",
    "YouTubeVideo('LdaL-l2S76c')"
   ]
  },
  {
   "cell_type": "code",
   "execution_count": 69,
   "metadata": {
    "collapsed": true,
    "slideshow": {
     "slide_type": "skip"
    }
   },
   "outputs": [],
   "source": [
    "dftreeleague = dftree.copy()\n",
    "dftreeleague['League'] = y\n",
    "\n",
    "def get_league(x):\n",
    "    return dftreeleague['League'].loc[x]\n",
    "\n",
    "dist4, ind4 = kdt.query(xTrain, k=4, return_distance=True)"
   ]
  },
  {
   "cell_type": "markdown",
   "metadata": {
    "slideshow": {
     "slide_type": "slide"
    }
   },
   "source": [
    "## <font color='steelblue'>Finding the distances to all of the 4 nearest neighbors took about one second</font>"
   ]
  },
  {
   "cell_type": "code",
   "execution_count": 70,
   "metadata": {
    "collapsed": true,
    "slideshow": {
     "slide_type": "skip"
    }
   },
   "outputs": [],
   "source": [
    "dftreeleague['nearest'] = pd.Series(ind4[:,0],index=dftreeleague.index)\n",
    "dftreeleague['neighbor_1'] = pd.Series(ind4[:,1],index=dftreeleague.index)\n",
    "dftreeleague['neighbor_2'] = pd.Series(ind4[:,2],index=dftreeleague.index)\n",
    "dftreeleague['neighbor_3'] = pd.Series(ind4[:,3],index=dftreeleague.index)\n",
    "dftreeleague['distance_1'] = pd.Series(dist4[:,1],index=dftreeleague.index)\n",
    "dftreeleague['distance_2'] = pd.Series(dist4[:,2],index=dftreeleague.index)\n",
    "dftreeleague['distance_3'] = pd.Series(dist4[:,3],index=dftreeleague.index)\n",
    "\n",
    "dfmap = {v: dftreeleague.index[v] for v in range(dftreeleague.shape[0])}"
   ]
  },
  {
   "cell_type": "code",
   "execution_count": 71,
   "metadata": {
    "collapsed": false,
    "slideshow": {
     "slide_type": "skip"
    }
   },
   "outputs": [
    {
     "data": {
      "text/html": [
       "<div>\n",
       "<table border=\"1\" class=\"dataframe\">\n",
       "  <thead>\n",
       "    <tr style=\"text-align: right;\">\n",
       "      <th></th>\n",
       "      <th>neighbor_1</th>\n",
       "      <th>distance_1</th>\n",
       "      <th>neighbor_1_League</th>\n",
       "    </tr>\n",
       "    <tr>\n",
       "      <th>PUBCSNUM</th>\n",
       "      <th></th>\n",
       "      <th></th>\n",
       "      <th></th>\n",
       "    </tr>\n",
       "  </thead>\n",
       "  <tbody>\n",
       "    <tr>\n",
       "      <th>11826145</th>\n",
       "      <td>41795937</td>\n",
       "      <td>2.281708</td>\n",
       "      <td>0</td>\n",
       "    </tr>\n",
       "    <tr>\n",
       "      <th>11868950</th>\n",
       "      <td>95774412</td>\n",
       "      <td>1.868152</td>\n",
       "      <td>0</td>\n",
       "    </tr>\n",
       "    <tr>\n",
       "      <th>18758076</th>\n",
       "      <td>80206700</td>\n",
       "      <td>2.843321</td>\n",
       "      <td>0</td>\n",
       "    </tr>\n",
       "    <tr>\n",
       "      <th>18788712</th>\n",
       "      <td>94522658</td>\n",
       "      <td>2.941392</td>\n",
       "      <td>0</td>\n",
       "    </tr>\n",
       "    <tr>\n",
       "      <th>18885487</th>\n",
       "      <td>27980255</td>\n",
       "      <td>2.003769</td>\n",
       "      <td>0</td>\n",
       "    </tr>\n",
       "    <tr>\n",
       "      <th>20043618</th>\n",
       "      <td>95781171</td>\n",
       "      <td>2.544515</td>\n",
       "      <td>0</td>\n",
       "    </tr>\n",
       "    <tr>\n",
       "      <th>27845202</th>\n",
       "      <td>94522658</td>\n",
       "      <td>1.213309</td>\n",
       "      <td>0</td>\n",
       "    </tr>\n",
       "    <tr>\n",
       "      <th>27858484</th>\n",
       "      <td>76049225</td>\n",
       "      <td>1.421872</td>\n",
       "      <td>0</td>\n",
       "    </tr>\n",
       "    <tr>\n",
       "      <th>27914409</th>\n",
       "      <td>99354197</td>\n",
       "      <td>1.884781</td>\n",
       "      <td>0</td>\n",
       "    </tr>\n",
       "    <tr>\n",
       "      <th>30104225</th>\n",
       "      <td>30088485</td>\n",
       "      <td>1.586342</td>\n",
       "      <td>0</td>\n",
       "    </tr>\n",
       "  </tbody>\n",
       "</table>\n",
       "</div>"
      ],
      "text/plain": [
       "          neighbor_1  distance_1  neighbor_1_League\n",
       "PUBCSNUM                                           \n",
       "11826145    41795937    2.281708                  0\n",
       "11868950    95774412    1.868152                  0\n",
       "18758076    80206700    2.843321                  0\n",
       "18788712    94522658    2.941392                  0\n",
       "18885487    27980255    2.003769                  0\n",
       "20043618    95781171    2.544515                  0\n",
       "27845202    94522658    1.213309                  0\n",
       "27858484    76049225    1.421872                  0\n",
       "27914409    99354197    1.884781                  0\n",
       "30104225    30088485    1.586342                  0"
      ]
     },
     "execution_count": 71,
     "metadata": {},
     "output_type": "execute_result"
    }
   ],
   "source": [
    "def get_pubcsnum(x,transformationdict = dfmap):\n",
    "    return dfmap[x]\n",
    "\n",
    "\n",
    "dftreeleague['neighbor_1'] = dftreeleague['neighbor_1'].apply(get_pubcsnum)\n",
    "dftreeleague['neighbor_2'] = dftreeleague['neighbor_2'].apply(get_pubcsnum)\n",
    "dftreeleague['neighbor_3'] = dftreeleague['neighbor_3'].apply(get_pubcsnum)\n",
    "\n",
    "def get_league(x):\n",
    "    return dftreeleague['League'].loc[x]\n",
    "\n",
    "dftreeleague['neighbor_1_League'] = dftreeleague['neighbor_1'].apply(get_league)\n",
    "dftreeleague['neighbor_2_League'] = dftreeleague['neighbor_2'].apply(get_league)\n",
    "dftreeleague['neighbor_3_League'] = dftreeleague['neighbor_3'].apply(get_league)\n",
    "\n",
    "neighbor_1_match = (dftreeleague['neighbor_1_League'] == 0)\n",
    "\n",
    "dist1filter = (dftreeleague['distance_1'] <=  3)\n",
    "dist2filter = (dftreeleague['distance_2'] <= 3)\n",
    "dist3filter = (dftreeleague['distance_3'] <= 8)\n",
    "\n",
    "one = dftreeleague[['neighbor_1','distance_1',\n",
    "                  'neighbor_1_League'\n",
    "]][(dftreeleague['neighbor_1_League'] != dftreeleague['League']) & (neighbor_1_match) & (dist1filter)].copy()\n",
    "\n",
    "\n",
    "neighbor_2_match = (dftreeleague['neighbor_2_League'] == 0)\n",
    "\n",
    "two = dftreeleague[['neighbor_2','distance_2',\n",
    "                  'neighbor_2_League'\n",
    "]][(dftreeleague['neighbor_2_League'] != dftreeleague['League']) & (neighbor_2_match) & (dist2filter)].copy()\n",
    "\n",
    "\n",
    "neighbor_3_match = (dftreeleague['neighbor_3_League'] == 0)\n",
    "\n",
    "three = dftreeleague[['neighbor_3','distance_3',\n",
    "                  'neighbor_3_League'\n",
    "]][(dftreeleague['neighbor_3_League'] != dftreeleague['League']) & (neighbor_3_match) & (dist3filter) ].copy()\n",
    "\n",
    "one.head(10)"
   ]
  },
  {
   "cell_type": "code",
   "execution_count": 72,
   "metadata": {
    "collapsed": false,
    "slideshow": {
     "slide_type": "skip"
    }
   },
   "outputs": [
    {
     "name": "stdout",
     "output_type": "stream",
     "text": [
      "80\n",
      "60\n"
     ]
    }
   ],
   "source": [
    "onedict = one['neighbor_1'].to_dict()\n",
    "twodict = two['neighbor_2'].to_dict()\n",
    "threedict = three['neighbor_3'].to_dict()\n",
    "\n",
    "from collections import defaultdict\n",
    "\n",
    "dd = defaultdict(list)\n",
    "\n",
    "for d in (onedict, twodict):\n",
    "    for key, value in d.items():\n",
    "        dd[key].append(value)\n",
    "        \n",
    "        \n",
    "\n",
    "goodtreatmentteams = list(dd.keys())\n",
    "\n",
    "goodcontrolteams = list(dd.values())\n",
    "matches = list(set([item for sublist in goodcontrolteams for item in sublist]))\n",
    "\n",
    "controlindices = matches\n",
    "treatmentindices = goodtreatmentteams\n",
    "print(len(treatmentindices))\n",
    "print(len(controlindices))"
   ]
  },
  {
   "cell_type": "markdown",
   "metadata": {
    "slideshow": {
     "slide_type": "slide"
    }
   },
   "source": [
    "## <font color='steelblue'>Need to do a one-to-one matching (where each member of the treatment group is matched to one and only one member of the control group, and vice-versa)</font>"
   ]
  },
  {
   "cell_type": "code",
   "execution_count": 73,
   "metadata": {
    "collapsed": true,
    "slideshow": {
     "slide_type": "skip"
    }
   },
   "outputs": [],
   "source": [
    "d_one_to_one = {k: dd[k][0] for k in dd}\n",
    "d_t_c = {}\n",
    "\n",
    "for key, value in d_one_to_one.items():\n",
    "    if value not in d_t_c.values():\n",
    "        d_t_c[key] = value\n",
    "        \n",
    "treatmentindices = list(d_t_c.keys())\n",
    "controlindices = list(d_t_c.values())     "
   ]
  },
  {
   "cell_type": "code",
   "execution_count": 74,
   "metadata": {
    "collapsed": false,
    "slideshow": {
     "slide_type": "slide"
    }
   },
   "outputs": [
    {
     "name": "stdout",
     "output_type": "stream",
     "text": [
      "58 58\n"
     ]
    }
   ],
   "source": [
    "treatmentindices = list(d_t_c.keys())\n",
    "controlindices = list(d_t_c.values())\n",
    "\n",
    "print(len(controlindices), len(treatmentindices))"
   ]
  },
  {
   "cell_type": "markdown",
   "metadata": {
    "slideshow": {
     "slide_type": "fragment"
    }
   },
   "source": [
    "So we only have 58 treatment patients matched within a distance of 3 standaradized distance units in the high dimensional space to 58 control patients. This is a result of the very few number of nasopharynx that do not receive radiation. The numbers will be different for our real problem."
   ]
  },
  {
   "cell_type": "markdown",
   "metadata": {
    "slideshow": {
     "slide_type": "slide"
    }
   },
   "source": [
    "## <font color='steelblue'>Now here is the Kaplan-Meier plot for the post-matching treatment and control groups</font>"
   ]
  },
  {
   "cell_type": "code",
   "execution_count": 75,
   "metadata": {
    "collapsed": false,
    "slideshow": {
     "slide_type": "skip"
    }
   },
   "outputs": [
    {
     "data": {
      "text/plain": [
       "<lifelines.KaplanMeierFitter: fitted with 58 observations, 35 censored>"
      ]
     },
     "execution_count": 75,
     "metadata": {},
     "output_type": "execute_result"
    }
   ],
   "source": [
    "from lifelines import KaplanMeierFitter\n",
    "\n",
    "#kmfpop = KaplanMeierFitter()\n",
    "kmfcontrolpost = KaplanMeierFitter()\n",
    "kmftreatmentpost = KaplanMeierFitter()\n",
    "\n",
    "Tcontrol = resgoodpop.loc[controlindices][\"srv_time_mon\"]\n",
    "Econtrol = resgoodpop.loc[controlindices][\"STAT_REC_Dead\"]\n",
    "\n",
    "Ttreatment = resgoodpop.loc[treatmentindices][\"srv_time_mon\"]\n",
    "Etreatment = resgoodpop.loc[treatmentindices][\"STAT_REC_Dead\"]\n",
    "\n",
    "Tpop = resgoodpop[\"srv_time_mon\"]\n",
    "Epop = resgoodpop[\"STAT_REC_Dead\"]\n",
    "\n",
    "#kmfpop.fit(Tpop, event_observed=Epop,label='All Nasopharynx');\n",
    "kmfcontrolpost.fit(Tcontrol, event_observed=Econtrol,label='No Radiation Group (control group; post-matching)')\n",
    "kmftreatmentpost.fit(Ttreatment, event_observed=Etreatment, label='Radiation Group (treatment group; post-matching)')\n",
    "#ax = kmfpop.plot()\n",
    "###ax = kmfcontrol.plot()\n",
    "###kmftreatment.plot(ax=ax)\n",
    "###plt.title(\"Nasopharynx Kaplan-Meier Curve (95% CI) \\n Post-Matching\");"
   ]
  },
  {
   "cell_type": "code",
   "execution_count": 76,
   "metadata": {
    "collapsed": false,
    "slideshow": {
     "slide_type": "slide"
    }
   },
   "outputs": [
    {
     "data": {
      "image/png": "[encoded data removed]",
      "text/plain": [
       "<matplotlib.figure.Figure at 0x14cdea5c0>"
      ]
     },
     "metadata": {},
     "output_type": "display_data"
    }
   ],
   "source": [
    "ax = kmfcontrolpost.plot()\n",
    "kmftreatmentpost.plot(ax=ax)\n",
    "#kmfcontrol.plot(ax=ax)\n",
    "#kmftreatment.plot(ax=ax)\n",
    "plt.title(\"Nasopharynx cancer Kaplan-Meier Curve (95% CI) \\n Post-Matching\");"
   ]
  },
  {
   "cell_type": "markdown",
   "metadata": {
    "slideshow": {
     "slide_type": "slide"
    }
   },
   "source": [
    "## <font color='steelblue'>We can perform a rigorous test to see if the two survival curves abpve truly have different \"death generation processes.\"</font>\n",
    "\n",
    "No need to; its viisually obvious."
   ]
  },
  {
   "cell_type": "code",
   "execution_count": 77,
   "metadata": {
    "collapsed": false,
    "slideshow": {
     "slide_type": "slide"
    }
   },
   "outputs": [
    {
     "name": "stdout",
     "output_type": "stream",
     "text": [
      "Results\n",
      "   df: 1\n",
      "   null distribution: chi squared\n",
      "   test: logrank\n",
      "   alpha: 0.95\n",
      "   t 0: -1\n",
      "\n",
      "   __ p-value ___|__ test statistic __|____ test result ____|__ is significant __\n",
      "         0.00011 |             14.962 |      Reject Null    |        True       \n"
     ]
    }
   ],
   "source": [
    "from lifelines.statistics import logrank_test\n",
    "results = logrank_test(Ttreatment, Tcontrol, Etreatment, Econtrol)\n",
    "results.print_summary()"
   ]
  },
  {
   "cell_type": "markdown",
   "metadata": {
    "slideshow": {
     "slide_type": "slide"
    }
   },
   "source": [
    "## <font color='steelblue'>Becuase of the matching, the observed differences in the Kaplan-Meier estimates of the survival curves for the control and treatment groups clearly show that there is a statistically significant benefit to opting for radiation for nasopharynx cancer patients.</font>\n",
    "\n",
    "### <font color='steelblue'>Now let's perform some paired t-tests to see if there is any demonstrable difference for some characteristics of interst.</font>\n",
    "\n",
    "You may suspect that some of the observed differences above are due to differences in the age distributions of the traetment and control groups (but our matching procedure should have taken care of and accounted for this possibility; let's see if a t-test based on **AGE_DX** can show that this is not the case)."
   ]
  },
  {
   "cell_type": "code",
   "execution_count": 78,
   "metadata": {
    "collapsed": true,
    "slideshow": {
     "slide_type": "skip"
    }
   },
   "outputs": [],
   "source": [
    "control_age_dx = resgoodpop['AGE_DX'].loc[controlindices]\n",
    "treatment_age_dx = resgoodpop['AGE_DX'].loc[treatmentindices]\n",
    "dfage_comp = pd.DataFrame({'control_id': control_age_dx.index,\n",
    "                          'control_age_dx': control_age_dx.values,\n",
    "                          'treatment_id': treatment_age_dx.index,\n",
    "                          'treatment_age_dx':treatment_age_dx.values })\n",
    "dfage_comp['c_minus_t_age'] = dfage_comp.control_age_dx - dfage_comp.treatment_age_dx"
   ]
  },
  {
   "cell_type": "markdown",
   "metadata": {
    "slideshow": {
     "slide_type": "slide"
    }
   },
   "source": [
    "## <font color='steelblue'>Two-sample T-test</font>\n",
    "\n",
    "A two-sample t-test investigates whether the means of two independent data samples differ from one another. In a two-sample test, the null hypothesis is that the means of the corresponding populations are the same."
   ]
  },
  {
   "cell_type": "code",
   "execution_count": 79,
   "metadata": {
    "collapsed": false,
    "slideshow": {
     "slide_type": "fragment"
    }
   },
   "outputs": [
    {
     "data": {
      "text/plain": [
       "Ttest_indResult(statistic=0.98033623585270691, pvalue=0.32900235264926647)"
      ]
     },
     "execution_count": 79,
     "metadata": {},
     "output_type": "execute_result"
    }
   ],
   "source": [
    "import scipy.stats as stats\n",
    "stats.ttest_ind(a=dfage_comp.control_age_dx.as_matrix(), \n",
    "               b=dfage_comp.treatment_age_dx.as_matrix(),\n",
    "               equal_var=False)   # assume samples have equal variance?"
   ]
  },
  {
   "cell_type": "markdown",
   "metadata": {
    "slideshow": {
     "slide_type": "fragment"
    }
   },
   "source": [
    "The test yields a p-value of 0.329, which means that there is a 32.9% chance we'd see sample data this far apart if the two groups actually have idential AGE_DX distributions. P-values between 0 and .10 are borderline."
   ]
  },
  {
   "cell_type": "markdown",
   "metadata": {
    "slideshow": {
     "slide_type": "slide"
    }
   },
   "source": [
    "## <font color='steelblue'>Paired T-Test</font>\n",
    "\n",
    "The basic two sample t-test is designed for testing differences between independent groups. In some cases, you might be interested in testing differences between samples of the same group at different points in time. In observational studies like those using the SEER data, the matched pairs in the control and treatment groups are considered for the purposes of paired t-tests to represent the same entity. Let's see now if there is any significant difference in **AGE_DX** between the treatment and control groups using a paired t-test."
   ]
  },
  {
   "cell_type": "code",
   "execution_count": 80,
   "metadata": {
    "collapsed": false,
    "slideshow": {
     "slide_type": "fragment"
    }
   },
   "outputs": [
    {
     "data": {
      "text/plain": [
       "Ttest_relResult(statistic=1.7690249083744751, pvalue=0.08223966347199517)"
      ]
     },
     "execution_count": 80,
     "metadata": {},
     "output_type": "execute_result"
    }
   ],
   "source": [
    "stats.ttest_rel(a = dfage_comp.control_age_dx.as_matrix(),\n",
    "                b = dfage_comp.treatment_age_dx.as_matrix())"
   ]
  },
  {
   "cell_type": "markdown",
   "metadata": {
    "slideshow": {
     "slide_type": "fragment"
    }
   },
   "source": [
    "The paired T-test also indicates that we actually do not have enough evidence to reject the null hypothesis."
   ]
  },
  {
   "cell_type": "code",
   "execution_count": null,
   "metadata": {
    "collapsed": true
   },
   "outputs": [],
   "source": []
  }
 ],
 "metadata": {
  "celltoolbar": "Slideshow",
  "kernelspec": {
   "display_name": "Python 3",
   "language": "python",
   "name": "python3"
  },
  "language_info": {
   "codemirror_mode": {
    "name": "ipython",
    "version": 3
   },
   "file_extension": ".py",
   "mimetype": "text/x-python",
   "name": "python",
   "nbconvert_exporter": "python",
   "pygments_lexer": "ipython3",
   "version": "3.5.1"
  },
  "widgets": {
   "state": {},
   "version": "1.1.2"
  }
 },
 "nbformat": 4,
 "nbformat_minor": 0
}
