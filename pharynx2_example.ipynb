{
 "cells": [
  {
   "cell_type": "code",
   "execution_count": 1,
   "metadata": {
    "collapsed": false,
    "slideshow": {
     "slide_type": "skip"
    }
   },
   "outputs": [
    {
     "data": {
      "text/html": [
       "<script>\n",
       "code_show=true; \n",
       "function code_toggle() {\n",
       " if (code_show){\n",
       " $('div.input').hide();\n",
       " } else {\n",
       " $('div.input').show();\n",
       " }\n",
       " code_show = !code_show\n",
       "} \n",
       "$( document ).ready(code_toggle);\n",
       "</script>\n",
       "<form action=\"javascript:code_toggle()\"><input type=\"submit\" value=\"Click here to toggle on/off the raw code.\"></form>"
      ],
      "text/plain": [
       "<IPython.core.display.HTML object>"
      ]
     },
     "execution_count": 1,
     "metadata": {},
     "output_type": "execute_result"
    }
   ],
   "source": [
    "from IPython.display import HTML\n",
    "\n",
    "HTML('''<script>\n",
    "code_show=true; \n",
    "function code_toggle() {\n",
    " if (code_show){\n",
    " $('div.input').hide();\n",
    " } else {\n",
    " $('div.input').show();\n",
    " }\n",
    " code_show = !code_show\n",
    "} \n",
    "$( document ).ready(code_toggle);\n",
    "</script>\n",
    "<form action=\"javascript:code_toggle()\"><input type=\"submit\" value=\"Click here to toggle on/off the raw code.\"></form>''')  "
   ]
  },
  {
   "cell_type": "code",
   "execution_count": 2,
   "metadata": {
    "collapsed": true,
    "slideshow": {
     "slide_type": "skip"
    }
   },
   "outputs": [],
   "source": [
    "import numpy as np\n",
    "import pandas as pd\n",
    "import matplotlib.pyplot as plt\n",
    "from pandas import Series, DataFrame\n",
    "import pytz\n",
    "from pytz import common_timezones, all_timezones\n",
    "import matplotlib\n",
    "matplotlib.style.use('ggplot')\n",
    "%matplotlib inline\n",
    "from datetime import datetime\n",
    "import scipy as sp\n",
    "import statsmodels.api as sm\n",
    "import statsmodels.formula.api as smf\n",
    "matplotlib.style.use('fivethirtyeight')\n",
    "matplotlib.style.use('seaborn-talk')"
   ]
  },
  {
   "cell_type": "markdown",
   "metadata": {
    "slideshow": {
     "slide_type": "slide"
    }
   },
   "source": [
    "This ipython notebook will illustrate the matching methodology we will use to match patients in the SEER-Medicare linked database. The comparison between patient outcomes between those patients who receive proton beam therapy vs traditional radiation therapy requires as a first step a matching of the two different groups. One method to perform this matching is to use Propensity Score Matching. Here we are going to illustrate a more direct method of matching using KDTrees, a data structure that allows for efficient finding of nearest neighbors in high-dimenional space."
   ]
  },
  {
   "cell_type": "markdown",
   "metadata": {
    "slideshow": {
     "slide_type": "slide"
    }
   },
   "source": [
    "We will first identify all patients that have been diagonised with some type of head and neck cancer as defined by the following primary site codes: Nasopharynx: (C110, C111, C112, C113, C118, C119).\n",
    "Then we will split the above patient population into two groups as follows: The treatment group, defined as the patients receiving any form of radiation the control group, defined as the patients who did not receive any form of radiation Operationally, these groups are defined by looking at the column RADIATN, which has values:"
   ]
  },
  {
   "cell_type": "markdown",
   "metadata": {
    "slideshow": {
     "slide_type": "slide"
    }
   },
   "source": [
    "\n",
    "| Code\t| Description |\n",
    "|:---------:|:-------------:|\n",
    "|0\t|None; diagnosed at autopsy|\n",
    "|1\t|Beam radiation |\n",
    "| 2 |\tRadioacative implants |\n",
    "|3\t|Radioisotopes|\n",
    "|4\t|Combination of 1 with 2 or 3 |\n",
    "|5\t|Radiation, NOS - method or source not specified |\n",
    "|6\t|Other radiation (1973-1987 cases only)|\n",
    "|7\t|Patient or patient's guardian refused radiation therapy |\n",
    "|8\t|Radiation recommended, unknown if administered |\n",
    "|9\t|Unknown if radiation administered |"
   ]
  },
  {
   "cell_type": "markdown",
   "metadata": {
    "slideshow": {
     "slide_type": "fragment"
    }
   },
   "source": [
    "So that a value of 0 defines the control group, and the values (1,2,3,4,5,6) define the treatment group. We will then perform matching between the resulting treatment and control groups."
   ]
  },
  {
   "cell_type": "code",
   "execution_count": 3,
   "metadata": {
    "collapsed": false,
    "slideshow": {
     "slide_type": "skip"
    }
   },
   "outputs": [
    {
     "name": "stdout",
     "output_type": "stream",
     "text": [
      "(1581838, 141)\n"
     ]
    }
   ],
   "source": [
    "import seerhelp\n",
    "otherfiles = seerhelp.get_otherfiles()\n",
    "otherfiles\n",
    "\n",
    "dfother0 = seerhelp.make_clean_dataframe(otherfiles[0])\n",
    "dfother1 = seerhelp.make_clean_dataframe(otherfiles[1])\n",
    "dfother2 = seerhelp.make_clean_dataframe(otherfiles[2])\n",
    "dfother3 = seerhelp.make_clean_dataframe(otherfiles[3])\n",
    "\n",
    "dfother = pd.concat([dfother0, dfother1, dfother2,\n",
    "                     dfother3], ignore_index=True)\n",
    "\n",
    "#dfother = pd.concat([dfother0, dfother1,dfother3], ignore_index=True)\n",
    "\n",
    "print(dfother.shape)\n",
    "\n",
    "del dfother0\n",
    "del dfother1\n",
    "del dfother2\n",
    "del dfother3"
   ]
  },
  {
   "cell_type": "code",
   "execution_count": 5,
   "metadata": {
    "collapsed": false,
    "slideshow": {
     "slide_type": "slide"
    }
   },
   "outputs": [
    {
     "data": {
      "text/plain": [
       "Unknown primary site                                                     170561\n",
       "Thyroid gland                                                            167854\n",
       "Skin of trunk                                                            164671\n",
       "Skin of upper limb and shoulder                                          131779\n",
       "Skin of lower limb and hip                                                94148\n",
       "Skin of other and unspecified parts of face                               84382\n",
       "Bone marrow                                                               82123\n",
       "Cerebral meninges                                                         58481\n",
       "Skin of scalp and neck                                                    44256\n",
       "Pituitary gland                                                           32340\n",
       "Frontal lobe                                                              27753\n",
       "Skin, NOS                                                                 26011\n",
       "Base of tongue, NOS                                                       25176\n",
       "Temporal lobe                                                             21291\n",
       "Tonsil, NOS                                                               20044\n",
       "External ear                                                              18939\n",
       "Connective, Subcutaneous and other soft tissues of lower limb and hip     18539\n",
       "Parotid gland                                                             17345\n",
       "Overlapping lesion of brain                                               16310\n",
       "Pleura, NOS                                                               14670\n",
       "Parietal lobe                                                             14487\n",
       "Brain, NOS                                                                14471\n",
       "External lower lip                                                        13573\n",
       "Acoustic nerve                                                            11572\n",
       "Floor of mouth, NOS                                                        8880\n",
       "Pyriform sinus                                                             8719\n",
       "Nasopharynx, NOS                                                           8670\n",
       "Tongue, NOS                                                                8488\n",
       "Meninges, NOS                                                              8170\n",
       "Cerebellum, NOS                                                            8150\n",
       "                                                                          ...  \n",
       "Breast, NOS                                                                   2\n",
       "Uterus, NOS                                                                   2\n",
       "Uterine adnexa                                                                2\n",
       "Middle third of esophagus                                                     2\n",
       "Body of penis                                                                 2\n",
       "Overlapping lesion of respiratory system and intrathoracic organs             2\n",
       "Head of pancreas                                                              2\n",
       "Round ligament                                                                2\n",
       "Ampulla of Vater                                                              2\n",
       "Cervix uteri                                                                  2\n",
       "Pancreas, NOS                                                                 2\n",
       "Parametrium                                                                   1\n",
       "Female genital tract, NOS                                                     1\n",
       "Upper-outer quadrant of breast                                                1\n",
       "Upper respiratory tract, NOS                                                  1\n",
       "Myometrium                                                                    1\n",
       "Splenic flexure of colon                                                      1\n",
       "Subglottis                                                                    1\n",
       "Undescended testis                                                            1\n",
       "Overlapping lesion of accessory sinuses                                       1\n",
       "Vagina, NOS                                                                   1\n",
       "Overlapping lesion of endocrine glands and related structures                 1\n",
       "Tail of pancreas                                                              1\n",
       "Accessory sinus, NOS                                                          1\n",
       "Pylorus                                                                       1\n",
       "Bladder, NOS                                                                  1\n",
       "Ethmoid sinus                                                                 1\n",
       "Body of pancreas                                                              1\n",
       "Overlapping lesion of small intestine                                         1\n",
       "Corpus uteri                                                                  1\n",
       "Name: PRIMSITE, dtype: int64"
      ]
     },
     "execution_count": 5,
     "metadata": {},
     "output_type": "execute_result"
    }
   ],
   "source": [
    "dfother.PRIMSITE.value_counts()"
   ]
  },
  {
   "cell_type": "code",
   "execution_count": 6,
   "metadata": {
    "collapsed": false,
    "slideshow": {
     "slide_type": "slide"
    }
   },
   "outputs": [
    {
     "data": {
      "text/plain": [
       "Nasopharynx, NOS                     8670\n",
       "Posterior wall of nasopharynx        1230\n",
       "Lateral wall of nasopharynx          1049\n",
       "Overlapping lesion of nasopharynx     604\n",
       "Superior wall of nasopharynx          212\n",
       "Anterior wall of nasopharynx          198\n",
       "Name: PRIMSITE, dtype: int64"
      ]
     },
     "execution_count": 6,
     "metadata": {},
     "output_type": "execute_result"
    }
   ],
   "source": [
    "dfnasoorig = dfother[dfother.PRIMSITE.str.contains('nasopharynx',case=False,na=False)]\n",
    "\n",
    "dfnasoorig.PRIMSITE.value_counts()\n"
   ]
  },
  {
   "cell_type": "code",
   "execution_count": 7,
   "metadata": {
    "collapsed": true,
    "slideshow": {
     "slide_type": "skip"
    }
   },
   "outputs": [],
   "source": [
    "mask = (dfnasoorig['CSTUMSIZ'] != \"Unknown; size not stated; not stated in patient record\") & \\\n",
    "(dfnasoorig['CSTUMSIZ'] != \"Microscopic focus or foci only; no size of focus is given\") & \\\n",
    "(dfnasoorig['CSTUMSIZ'] != \"989 millimeters or larger\") & \\\n",
    "(dfnasoorig['CSTUMSIZ'] != \"Not applicable\") & \\\n",
    "(dfnasoorig['AGE_DX'] != \"Unknown age\") & \\\n",
    "(dfnasoorig['srv_time_mon_flag'] == \"Complete dates are available and there are more than 0 days of survival\") & \\\n",
    "(dfnasoorig['YEAR_DX'] >= 2004) & \\\n",
    "(dfnasoorig['CSTUMSIZ'] != \"Described as less than 1 cm\") & \\\n",
    "(dfnasoorig['CSTUMSIZ'] != \"Described as less than 2 cm\") & \\\n",
    "(dfnasoorig['CSTUMSIZ'] != \"Described as less than 3 cm\") & \\\n",
    "(dfnasoorig['CSTUMSIZ'] != 'Indicates no msas or no tumor found; for example, when a tumor of a stated primary site is not found, but the tumor has metastasized') & \\\n",
    "(dfnasoorig['CSTUMSIZ'] != \"Described as less than 4 cm\") & \\\n",
    "(dfnasoorig['CSTUMSIZ'] != \"Described as less than 5 cm\") & \\\n",
    "(dfnasoorig['CSTUMSIZ'] != \"Not applicable\") & \\\n",
    "(dfnasoorig['YR_BRTH'] != 'Unknown year of birth') & \\\n",
    "(dfnasoorig['CSTUMSIZ'] != 'Not applicable') & \\\n",
    "(dfnasoorig['CSTUMSIZ'] != 996) & \\\n",
    "(dfnasoorig['CSTUMSIZ'] != 997) & \\\n",
    "(dfnasoorig['CSTUMSIZ'] != 998) & \\\n",
    "(dfnasoorig['REC_NO'] == 1) \n",
    "\n",
    "dfnaso = dfnasoorig[mask]\n",
    "\n"
   ]
  },
  {
   "cell_type": "code",
   "execution_count": null,
   "metadata": {
    "collapsed": true
   },
   "outputs": [],
   "source": []
  }
 ],
 "metadata": {
  "celltoolbar": "Slideshow",
  "kernelspec": {
   "display_name": "Python 3",
   "language": "python",
   "name": "python3"
  },
  "language_info": {
   "codemirror_mode": {
    "name": "ipython",
    "version": 3
   },
   "file_extension": ".py",
   "mimetype": "text/x-python",
   "name": "python",
   "nbconvert_exporter": "python",
   "pygments_lexer": "ipython3",
   "version": "3.5.1"
  },
  "widgets": {
   "state": {},
   "version": "1.1.2"
  }
 },
 "nbformat": 4,
 "nbformat_minor": 0
}
