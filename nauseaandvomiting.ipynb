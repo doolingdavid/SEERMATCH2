{
 "cells": [
  {
   "cell_type": "code",
   "execution_count": 2,
   "metadata": {
    "collapsed": true,
    "slideshow": {
     "slide_type": "slide"
    }
   },
   "outputs": [],
   "source": [
    "\n",
    "import math\n",
    "import copy\n",
    "import networkx as nx\n",
    "import matplotlib.pyplot as plot\n",
    "import matplotlib\n",
    "%matplotlib inline\n",
    "import pickle\n",
    "import os\n",
    "import json"
   ]
  },
  {
   "cell_type": "markdown",
   "metadata": {
    "slideshow": {
     "slide_type": "slide"
    }
   },
   "source": [
    "## <font color='teal'>The Data from the Word Document</font>\n",
    "\n",
    "```\n",
    "Nausea and Vomiting Pathway CH V1-updated\n",
    "\n",
    "Has your nausea lasted longer than 24 hours or have you had any vomiting?\n",
    "Yes О Schedule a same day appointment. Notify the infusion room of a possible patient add-on for hydration. If the patient refuses to be seen notify the physician and schedule a follow up call in 24 hours. The system should take you to 3.\n",
    "No  О  The system should take you to 2.\n",
    "\n",
    "2- Triage Nurse Instructions: \n",
    "0 Make sure the patient has antiemetics and verify how they are taking it. If the patient does not have a prescription, notify the physician.  Advise the patient on fluid intake (ginger ale), eat small frequent meals throughout the day. Avoid spicy, fatty or salty foods.  Tell the patient to call us back if they begin to feel worse; we want them to avoid having to go to the E.R. Call to check on the patient in 24 hours.  The system should take you to 3.\n",
    "\n",
    "3- What was the patient outcome?\n",
    "     (Dropdown)\n",
    "•    I scheduled a same day appointment. The system should take you to 4\n",
    "•    I scheduled a next day appointment. The system should take you to 4\n",
    "•    I scheduled an appointment in 2 or more days. The system should take you to 4\n",
    "•    I scheduled a STAT appointment. The system should take you to 4\n",
    "•    I scheduled a follow up call. The system should take you to 5\n",
    "•    I managed the patient over the phone. The system should take you to 5\n",
    "•    I followed the 911 protocol and notified the admitting/on-call physician. The system should take you to 5\n",
    "•    The patient refused ambulance through 911. Patient is going to the ER via private automobile. The system should take you to 5\n",
    "•    I notified the hospice nurse. The system should take you to 5\n",
    "•    Made an appointment/referral to an outside provider. The system should take you to 5\n",
    "•    The patient refused to be seen The system should take you to 5\n",
    "\n",
    "4- If an appointment was scheduled: What would the patient have done if they could not have been seen in the office? \n",
    "     (Dropdown)\n",
    "-The patient would have gone to an urgent care center. The system should take you to 5.\n",
    "-The patient would have gone to the emergency room. The system should take you to 5.\n",
    "-The patient would have stayed home and called the next morning. The system should take you to 5.\n",
    "-The patient would have called and asked to speak to the doctor on call. The system should take you to 5.\n",
    "-The patient would have called their other doctor (like PCP) for care. The system should take you to 5.\n",
    "-Other:________________________________ The system should take you to 5.\n",
    "\n",
    "5- 0 Document any necessary information, complete the encounter and save. . (The user completes the encounter.)\n",
    "```"
   ]
  },
  {
   "cell_type": "markdown",
   "metadata": {
    "slideshow": {
     "slide_type": "slide"
    }
   },
   "source": [
    "### Represent this information as a directed graph, visualize the graph, and output the graph in json format"
   ]
  },
  {
   "cell_type": "code",
   "execution_count": 3,
   "metadata": {
    "collapsed": true,
    "slideshow": {
     "slide_type": "fragment"
    }
   },
   "outputs": [],
   "source": [
    "MDG = nx.MultiDiGraph(name=\"Nausea and Vomiting Pathway CH V1\")\n"
   ]
  },
  {
   "cell_type": "code",
   "execution_count": 4,
   "metadata": {
    "collapsed": false,
    "slideshow": {
     "slide_type": "fragment"
    }
   },
   "outputs": [
    {
     "name": "stdout",
     "output_type": "stream",
     "text": [
      "Has the patient's nausea lasted longer than 24 hours or have they had any vomiting?\n",
      "Triage Nurse Instructions: Make sure the patient has antiemetics and determine if they are taking it correctly. If the patient does not have a prescription, notify the physician. Advise the patient on fluid intake (ginger ale) and to eat small frequent meals throughout the day. Advise the patient to avoid spicy, fatty or salty foods. Ask the patient to call back if they begin to feel worse; we want them to avoid unecessary visits to the E.R. Call to check on the patient in 24 hours.\n",
      "What was the patient outcome?\n",
      "If an appointment was scheduled: What would the patient have done if they could not have been seen in the office?\n",
      "Document any necessary information, complete the encounter and save.\n"
     ]
    }
   ],
   "source": [
    "mdgnodes = [\"\"\"Has the patient's nausea lasted longer than 24 hours or have they had any vomiting?\"\"\",\n",
    "            \"\"\"Triage Nurse Instructions: Make sure the patient has antiemetics and determine if \n",
    "            they are taking it correctly.\n",
    "            If the patient does not have a prescription, notify the \n",
    "            physician. Advise the patient on fluid intake (ginger ale) and to eat small frequent \n",
    "            meals throughout the day. Advise the patient to avoid spicy, fatty or salty foods.\n",
    "            Ask the patient to\n",
    "            call back if they begin to feel worse; we want them to avoid \n",
    "            unecessary visits to the\n",
    "            E.R. Call to check on the patient in 24 hours.\"\"\",\n",
    "            \"\"\"What was the patient outcome?\"\"\",\n",
    "            \"\"\"If an appointment was scheduled: What would the patient have done if they could\n",
    "            not have been seen in the office?\"\"\",\n",
    "            \"\"\"Document any necessary information, complete the encounter and save.\"\"\"]\n",
    "\n",
    "mdgnodes = [' '.join(m.split()) for m in mdgnodes]\n",
    "\n",
    "for m in mdgnodes:\n",
    "    print(m)"
   ]
  },
  {
   "cell_type": "markdown",
   "metadata": {
    "slideshow": {
     "slide_type": "slide"
    }
   },
   "source": [
    "### <font color='teal'>Add the nodes (questions)</font>"
   ]
  },
  {
   "cell_type": "code",
   "execution_count": 5,
   "metadata": {
    "collapsed": true,
    "slideshow": {
     "slide_type": "fragment"
    }
   },
   "outputs": [],
   "source": [
    "nodedict = dict(list(enumerate(mdgnodes)))\n",
    "for k in nodedict.keys():\n",
    "    MDG.add_node(k, label=nodedict[k])\n"
   ]
  },
  {
   "cell_type": "code",
   "execution_count": 6,
   "metadata": {
    "collapsed": false,
    "slideshow": {
     "slide_type": "slide"
    }
   },
   "outputs": [
    {
     "name": "stdout",
     "output_type": "stream",
     "text": [
      "(0, {'label': \"Has the patient's nausea lasted longer than 24 hours or have they had any vomiting?\"})\n",
      "(1, {'label': 'Triage Nurse Instructions: Make sure the patient has antiemetics and determine if they are taking it correctly. If the patient does not have a prescription, notify the physician. Advise the patient on fluid intake (ginger ale) and to eat small frequent meals throughout the day. Advise the patient to avoid spicy, fatty or salty foods. Ask the patient to call back if they begin to feel worse; we want them to avoid unecessary visits to the E.R. Call to check on the patient in 24 hours.'})\n",
      "(2, {'label': 'What was the patient outcome?'})\n",
      "(3, {'label': 'If an appointment was scheduled: What would the patient have done if they could not have been seen in the office?'})\n",
      "(4, {'label': 'Document any necessary information, complete the encounter and save.'})\n"
     ]
    }
   ],
   "source": [
    "for n in MDG.nodes(data=True):\n",
    "    print(n)"
   ]
  },
  {
   "cell_type": "markdown",
   "metadata": {
    "slideshow": {
     "slide_type": "slide"
    }
   },
   "source": [
    "### <font color='teal'>Add the edges (the possible paths between questions)</font> "
   ]
  },
  {
   "cell_type": "code",
   "execution_count": 7,
   "metadata": {
    "collapsed": true,
    "slideshow": {
     "slide_type": "fragment"
    }
   },
   "outputs": [],
   "source": [
    "\n",
    "mdgedges = [(0,2,{'label':\"\"\"Yes Schedule a same day appointment. Notify the infusion room\n",
    "of a possible patient add-on for hydration. If the patient refuses to be seen notify the \n",
    "physician and schedule a follow up call in 24hours.\"\"\"}),\n",
    "            (0,1,{'label':'No'}),\n",
    "            (1,2,{'label':\"\"\"Make sure the patient has antiemetics and determine if \n",
    "            they are taking it correctly.\n",
    "            If the patient does not have a prescription, notify the \n",
    "            physician. Advise the patient on fluid intake (ginger ale) and to eat small frequent \n",
    "            meals throughout the day. \n",
    "            Advise the patient to avoid spicy, fatty or salty foods.\n",
    "            Ask the patient to\n",
    "            call back if they begin to feel worse; we want\n",
    "            them to avoid visits to the\n",
    "            E.R. Call to check on the patient in 24 hours.\"\"\"}),\n",
    "            (2,3,{'label':\"\"\"I scheduled a same day appointment.\"\"\"}),\n",
    "            (2,3,{'label':\"\"\"I scheduled a next day appointment.\"\"\"}),\n",
    "            (2,3,{'label':\"\"\"I scheduled an appointment in 2 or more days.\"\"\"}),\n",
    "            (2,3,{'label':\"\"\"I scheuled a STAT appointment.\"\"\"}),\n",
    "            (2,4,{'label':\"\"\"I scheduled a follow up call.\"\"\"}),\n",
    "            (2,4,{'label':\"\"\"I managed the patient over the phone.\"\"\"}),\n",
    "            (2,4,{'label':\"\"\"I followed the 911 protocol and notified the admitting/on-call \n",
    "            physician.\"\"\"}),\n",
    "            (2,4,{'label':\"\"\"The patient refused ambulance through 911. The patient is going to \n",
    "            the ER via private automobile.\"\"\"}),\n",
    "            (2,4,{'label':\"\"\"I notified the hospice nurse.\"\"\"}),\n",
    "            (2,4,{'label':\"\"\"I Made an appointment/referral to an outside provider.\"\"\"}),\n",
    "            (2,4,{'label':\"\"\"The patient refused to be seen.\"\"\"}),\n",
    "            (3,4,{'label':\"\"\"The patient would have gone to an urgent care center.\"\"\"}),\n",
    "            (3,4,{'label':\"\"\"The patient would have gone to the emergency room.\"\"\"}),\n",
    "            (3,4,{'label':\"\"\"The patient would have stayed home and called the next morning.\"\"\"}),\n",
    "            (3,4,{'label':\"\"\"The patient would have called and asked to speak to the doctor on \n",
    "            call.\"\"\"}),\n",
    "            (3,4,{'label':\"\"\"The patient would have called another doctor \n",
    "            (e.g. PCP) for care.\"\"\"}),\n",
    "            (3,4,{'label':\"\"\"Other\"\"\"})]"
   ]
  },
  {
   "cell_type": "code",
   "execution_count": 8,
   "metadata": {
    "collapsed": false,
    "slideshow": {
     "slide_type": "slide"
    }
   },
   "outputs": [
    {
     "name": "stdout",
     "output_type": "stream",
     "text": [
      "(0, 1, {'label': 'No'})\n",
      "(0, 2, {'label': 'Yes Schedule a same day appointment. Notify the infusion room of a possible patient add-on for hydration. If the patient refuses to be seen notify the physician and schedule a follow up call in 24hours.'})\n",
      "(1, 2, {'label': 'Make sure the patient has antiemetics and determine if they are taking it correctly. If the patient does not have a prescription, notify the physician. Advise the patient on fluid intake (ginger ale) and to eat small frequent meals throughout the day. Advise the patient to avoid spicy, fatty or salty foods. Ask the patient to call back if they begin to feel worse; we want them to avoid visits to the E.R. Call to check on the patient in 24 hours.'})\n",
      "(2, 3, {'label': 'I scheduled a same day appointment.'})\n",
      "(2, 3, {'label': 'I scheduled a next day appointment.'})\n",
      "(2, 3, {'label': 'I scheduled an appointment in 2 or more days.'})\n",
      "(2, 3, {'label': 'I scheuled a STAT appointment.'})\n",
      "(2, 4, {'label': 'I scheduled a follow up call.'})\n",
      "(2, 4, {'label': 'I managed the patient over the phone.'})\n",
      "(2, 4, {'label': 'I followed the 911 protocol and notified the admitting/on-call physician.'})\n",
      "(2, 4, {'label': 'The patient refused ambulance through 911. The patient is going to the ER via private automobile.'})\n",
      "(2, 4, {'label': 'I notified the hospice nurse.'})\n",
      "(2, 4, {'label': 'I Made an appointment/referral to an outside provider.'})\n",
      "(2, 4, {'label': 'The patient refused to be seen.'})\n",
      "(3, 4, {'label': 'The patient would have gone to an urgent care center.'})\n",
      "(3, 4, {'label': 'The patient would have gone to the emergency room.'})\n",
      "(3, 4, {'label': 'The patient would have stayed home and called the next morning.'})\n",
      "(3, 4, {'label': 'The patient would have called and asked to speak to the doctor on call.'})\n",
      "(3, 4, {'label': 'The patient would have called another doctor (e.g. PCP) for care.'})\n",
      "(3, 4, {'label': 'Other'})\n"
     ]
    }
   ],
   "source": [
    "MDG.add_edges_from(mdgedges)\n",
    "for e in MDG.edges(data=True):\n",
    "    e[2]['label'] = ' '.join(e[2]['label'].split())\n",
    "    print(e)"
   ]
  },
  {
   "cell_type": "markdown",
   "metadata": {
    "slideshow": {
     "slide_type": "slide"
    }
   },
   "source": [
    "It can be useful for testing purposes to know all of the possible paths through a triage pathway.\n",
    "With this graph representation you can easily find all the possible paths (simple for this relatively small pathway, but his method is very useful for larger pathways)."
   ]
  },
  {
   "cell_type": "code",
   "execution_count": 9,
   "metadata": {
    "collapsed": false,
    "slideshow": {
     "slide_type": "fragment"
    }
   },
   "outputs": [],
   "source": [
    "def start_to_leaf(Dg,n,m):\n",
    "    \"\"\"Takes a graph Dg and a node n, and shows all of paths leading\n",
    "    from n down to a leaf node m.\"\"\"\n",
    "    paths = nx.all_simple_paths(Dg,n,m)\n",
    "    pathslist = list(paths)\n",
    "    pathshash = [tuple(i) for i in pathslist]\n",
    "    paths = list(set(pathshash))\n",
    "    print(\"There are \", len(paths), \" paths connecting \", n, \" to \", m)\n",
    "    for path in paths:   # need to get the edges with their data, not just the nodes\n",
    "        textpath = [Dg.nodes(data=True)[p][1]['label'] for p in path]\n",
    "        print(path, textpath)\n",
    "        for i in range(len(path)-1):\n",
    "            huh = Dg.get_edge_data(path[i], path[i+1])\n",
    "            for j in range(len(huh)):\n",
    "                print(path[i], path[i+1], huh[j])\n",
    "        print(\"------------------------------------------------\\n\")"
   ]
  },
  {
   "cell_type": "code",
   "execution_count": 10,
   "metadata": {
    "collapsed": false,
    "slideshow": {
     "slide_type": "fragment"
    }
   },
   "outputs": [],
   "source": [
    "def print_paths(Dg):\n",
    "    \"\"\"Takes a directed graph Dg as input and calls start_to_leaf\n",
    "    for all of the start-end pairs (0, the set of nodes with 0 \n",
    "    out-degree).\"\"\"\n",
    "    for n in Dg.nodes():\n",
    "        if Dg.out_degree(n) == 0:\n",
    "            start_to_leaf(Dg,0,n)\n",
    "            print(\"----------------------------\\n\")"
   ]
  },
  {
   "cell_type": "code",
   "execution_count": 11,
   "metadata": {
    "collapsed": false,
    "slideshow": {
     "slide_type": "slide"
    }
   },
   "outputs": [
    {
     "name": "stdout",
     "output_type": "stream",
     "text": [
      "There are  4  paths connecting  0  to  4\n",
      "(0, 1, 2, 4) [\"Has the patient's nausea lasted longer than 24 hours or have they had any vomiting?\", 'Triage Nurse Instructions: Make sure the patient has antiemetics and determine if they are taking it correctly. If the patient does not have a prescription, notify the physician. Advise the patient on fluid intake (ginger ale) and to eat small frequent meals throughout the day. Advise the patient to avoid spicy, fatty or salty foods. Ask the patient to call back if they begin to feel worse; we want them to avoid unecessary visits to the E.R. Call to check on the patient in 24 hours.', 'What was the patient outcome?', 'Document any necessary information, complete the encounter and save.']\n",
      "0 1 {'label': 'No'}\n",
      "1 2 {'label': 'Make sure the patient has antiemetics and determine if they are taking it correctly. If the patient does not have a prescription, notify the physician. Advise the patient on fluid intake (ginger ale) and to eat small frequent meals throughout the day. Advise the patient to avoid spicy, fatty or salty foods. Ask the patient to call back if they begin to feel worse; we want them to avoid visits to the E.R. Call to check on the patient in 24 hours.'}\n",
      "2 4 {'label': 'I scheduled a follow up call.'}\n",
      "2 4 {'label': 'I managed the patient over the phone.'}\n",
      "2 4 {'label': 'I followed the 911 protocol and notified the admitting/on-call physician.'}\n",
      "2 4 {'label': 'The patient refused ambulance through 911. The patient is going to the ER via private automobile.'}\n",
      "2 4 {'label': 'I notified the hospice nurse.'}\n",
      "2 4 {'label': 'I Made an appointment/referral to an outside provider.'}\n",
      "2 4 {'label': 'The patient refused to be seen.'}\n",
      "------------------------------------------------\n",
      "\n",
      "(0, 2, 3, 4) [\"Has the patient's nausea lasted longer than 24 hours or have they had any vomiting?\", 'What was the patient outcome?', 'If an appointment was scheduled: What would the patient have done if they could not have been seen in the office?', 'Document any necessary information, complete the encounter and save.']\n",
      "0 2 {'label': 'Yes Schedule a same day appointment. Notify the infusion room of a possible patient add-on for hydration. If the patient refuses to be seen notify the physician and schedule a follow up call in 24hours.'}\n",
      "2 3 {'label': 'I scheduled a same day appointment.'}\n",
      "2 3 {'label': 'I scheduled a next day appointment.'}\n",
      "2 3 {'label': 'I scheduled an appointment in 2 or more days.'}\n",
      "2 3 {'label': 'I scheuled a STAT appointment.'}\n",
      "3 4 {'label': 'The patient would have gone to an urgent care center.'}\n",
      "3 4 {'label': 'The patient would have gone to the emergency room.'}\n",
      "3 4 {'label': 'The patient would have stayed home and called the next morning.'}\n",
      "3 4 {'label': 'The patient would have called and asked to speak to the doctor on call.'}\n",
      "3 4 {'label': 'The patient would have called another doctor (e.g. PCP) for care.'}\n",
      "3 4 {'label': 'Other'}\n",
      "------------------------------------------------\n",
      "\n",
      "(0, 2, 4) [\"Has the patient's nausea lasted longer than 24 hours or have they had any vomiting?\", 'What was the patient outcome?', 'Document any necessary information, complete the encounter and save.']\n",
      "0 2 {'label': 'Yes Schedule a same day appointment. Notify the infusion room of a possible patient add-on for hydration. If the patient refuses to be seen notify the physician and schedule a follow up call in 24hours.'}\n",
      "2 4 {'label': 'I scheduled a follow up call.'}\n",
      "2 4 {'label': 'I managed the patient over the phone.'}\n",
      "2 4 {'label': 'I followed the 911 protocol and notified the admitting/on-call physician.'}\n",
      "2 4 {'label': 'The patient refused ambulance through 911. The patient is going to the ER via private automobile.'}\n",
      "2 4 {'label': 'I notified the hospice nurse.'}\n",
      "2 4 {'label': 'I Made an appointment/referral to an outside provider.'}\n",
      "2 4 {'label': 'The patient refused to be seen.'}\n",
      "------------------------------------------------\n",
      "\n",
      "(0, 1, 2, 3, 4) [\"Has the patient's nausea lasted longer than 24 hours or have they had any vomiting?\", 'Triage Nurse Instructions: Make sure the patient has antiemetics and determine if they are taking it correctly. If the patient does not have a prescription, notify the physician. Advise the patient on fluid intake (ginger ale) and to eat small frequent meals throughout the day. Advise the patient to avoid spicy, fatty or salty foods. Ask the patient to call back if they begin to feel worse; we want them to avoid unecessary visits to the E.R. Call to check on the patient in 24 hours.', 'What was the patient outcome?', 'If an appointment was scheduled: What would the patient have done if they could not have been seen in the office?', 'Document any necessary information, complete the encounter and save.']\n",
      "0 1 {'label': 'No'}\n",
      "1 2 {'label': 'Make sure the patient has antiemetics and determine if they are taking it correctly. If the patient does not have a prescription, notify the physician. Advise the patient on fluid intake (ginger ale) and to eat small frequent meals throughout the day. Advise the patient to avoid spicy, fatty or salty foods. Ask the patient to call back if they begin to feel worse; we want them to avoid visits to the E.R. Call to check on the patient in 24 hours.'}\n",
      "2 3 {'label': 'I scheduled a same day appointment.'}\n",
      "2 3 {'label': 'I scheduled a next day appointment.'}\n",
      "2 3 {'label': 'I scheduled an appointment in 2 or more days.'}\n",
      "2 3 {'label': 'I scheuled a STAT appointment.'}\n",
      "3 4 {'label': 'The patient would have gone to an urgent care center.'}\n",
      "3 4 {'label': 'The patient would have gone to the emergency room.'}\n",
      "3 4 {'label': 'The patient would have stayed home and called the next morning.'}\n",
      "3 4 {'label': 'The patient would have called and asked to speak to the doctor on call.'}\n",
      "3 4 {'label': 'The patient would have called another doctor (e.g. PCP) for care.'}\n",
      "3 4 {'label': 'Other'}\n",
      "------------------------------------------------\n",
      "\n",
      "----------------------------\n",
      "\n"
     ]
    }
   ],
   "source": [
    "print_paths(MDG)"
   ]
  },
  {
   "cell_type": "code",
   "execution_count": 12,
   "metadata": {
    "collapsed": false,
    "slideshow": {
     "slide_type": "slide"
    }
   },
   "outputs": [
    {
     "name": "stdout",
     "output_type": "stream",
     "text": [
      "{\n",
      "    \"graph\": {\n",
      "        \"name\": \"Nausea and Vomiting Pathway CH V1\"\n",
      "    },\n",
      "    \"directed\": true,\n",
      "    \"nodes\": [\n",
      "        {\n",
      "            \"id\": 0,\n",
      "            \"label\": \"Has the patient's nausea lasted longer than 24 hours or have they had any vomiting?\"\n",
      "        },\n",
      "        {\n",
      "            \"id\": 1,\n",
      "            \"label\": \"Triage Nurse Instructions: Make sure the patient has antiemetics and determine if they are taking it correctly. If the patient does not have a prescription, notify the physician. Advise the patient on fluid intake (ginger ale) and to eat small frequent meals throughout the day. Advise the patient to avoid spicy, fatty or salty foods. Ask the patient to call back if they begin to feel worse; we want them to avoid unecessary visits to the E.R. Call to check on the patient in 24 hours.\"\n",
      "        },\n",
      "        {\n",
      "            \"id\": 2,\n",
      "            \"label\": \"What was the patient outcome?\"\n",
      "        },\n",
      "        {\n",
      "            \"id\": 3,\n",
      "            \"label\": \"If an appointment was scheduled: What would the patient have done if they could not have been seen in the office?\"\n",
      "        },\n",
      "        {\n",
      "            \"id\": 4,\n",
      "            \"label\": \"Document any necessary information, complete the encounter and save.\"\n",
      "        }\n",
      "    ],\n",
      "    \"links\": [\n",
      "        {\n",
      "            \"target\": 1,\n",
      "            \"key\": 0,\n",
      "            \"source\": 0,\n",
      "            \"label\": \"No\"\n",
      "        },\n",
      "        {\n",
      "            \"target\": 2,\n",
      "            \"key\": 0,\n",
      "            \"source\": 0,\n",
      "            \"label\": \"Yes Schedule a same day appointment. Notify the infusion room of a possible patient add-on for hydration. If the patient refuses to be seen notify the physician and schedule a follow up call in 24hours.\"\n",
      "        },\n",
      "        {\n",
      "            \"target\": 2,\n",
      "            \"key\": 0,\n",
      "            \"source\": 1,\n",
      "            \"label\": \"Make sure the patient has antiemetics and determine if they are taking it correctly. If the patient does not have a prescription, notify the physician. Advise the patient on fluid intake (ginger ale) and to eat small frequent meals throughout the day. Advise the patient to avoid spicy, fatty or salty foods. Ask the patient to call back if they begin to feel worse; we want them to avoid visits to the E.R. Call to check on the patient in 24 hours.\"\n",
      "        },\n",
      "        {\n",
      "            \"target\": 3,\n",
      "            \"key\": 0,\n",
      "            \"source\": 2,\n",
      "            \"label\": \"I scheduled a same day appointment.\"\n",
      "        },\n",
      "        {\n",
      "            \"target\": 3,\n",
      "            \"key\": 1,\n",
      "            \"source\": 2,\n",
      "            \"label\": \"I scheduled a next day appointment.\"\n",
      "        },\n",
      "        {\n",
      "            \"target\": 3,\n",
      "            \"key\": 2,\n",
      "            \"source\": 2,\n",
      "            \"label\": \"I scheduled an appointment in 2 or more days.\"\n",
      "        },\n",
      "        {\n",
      "            \"target\": 3,\n",
      "            \"key\": 3,\n",
      "            \"source\": 2,\n",
      "            \"label\": \"I scheuled a STAT appointment.\"\n",
      "        },\n",
      "        {\n",
      "            \"target\": 4,\n",
      "            \"key\": 0,\n",
      "            \"source\": 2,\n",
      "            \"label\": \"I scheduled a follow up call.\"\n",
      "        },\n",
      "        {\n",
      "            \"target\": 4,\n",
      "            \"key\": 1,\n",
      "            \"source\": 2,\n",
      "            \"label\": \"I managed the patient over the phone.\"\n",
      "        },\n",
      "        {\n",
      "            \"target\": 4,\n",
      "            \"key\": 2,\n",
      "            \"source\": 2,\n",
      "            \"label\": \"I followed the 911 protocol and notified the admitting/on-call physician.\"\n",
      "        },\n",
      "        {\n",
      "            \"target\": 4,\n",
      "            \"key\": 3,\n",
      "            \"source\": 2,\n",
      "            \"label\": \"The patient refused ambulance through 911. The patient is going to the ER via private automobile.\"\n",
      "        },\n",
      "        {\n",
      "            \"target\": 4,\n",
      "            \"key\": 4,\n",
      "            \"source\": 2,\n",
      "            \"label\": \"I notified the hospice nurse.\"\n",
      "        },\n",
      "        {\n",
      "            \"target\": 4,\n",
      "            \"key\": 5,\n",
      "            \"source\": 2,\n",
      "            \"label\": \"I Made an appointment/referral to an outside provider.\"\n",
      "        },\n",
      "        {\n",
      "            \"target\": 4,\n",
      "            \"key\": 6,\n",
      "            \"source\": 2,\n",
      "            \"label\": \"The patient refused to be seen.\"\n",
      "        },\n",
      "        {\n",
      "            \"target\": 4,\n",
      "            \"key\": 0,\n",
      "            \"source\": 3,\n",
      "            \"label\": \"The patient would have gone to an urgent care center.\"\n",
      "        },\n",
      "        {\n",
      "            \"target\": 4,\n",
      "            \"key\": 1,\n",
      "            \"source\": 3,\n",
      "            \"label\": \"The patient would have gone to the emergency room.\"\n",
      "        },\n",
      "        {\n",
      "            \"target\": 4,\n",
      "            \"key\": 2,\n",
      "            \"source\": 3,\n",
      "            \"label\": \"The patient would have stayed home and called the next morning.\"\n",
      "        },\n",
      "        {\n",
      "            \"target\": 4,\n",
      "            \"key\": 3,\n",
      "            \"source\": 3,\n",
      "            \"label\": \"The patient would have called and asked to speak to the doctor on call.\"\n",
      "        },\n",
      "        {\n",
      "            \"target\": 4,\n",
      "            \"key\": 4,\n",
      "            \"source\": 3,\n",
      "            \"label\": \"The patient would have called another doctor (e.g. PCP) for care.\"\n",
      "        },\n",
      "        {\n",
      "            \"target\": 4,\n",
      "            \"key\": 5,\n",
      "            \"source\": 3,\n",
      "            \"label\": \"Other\"\n",
      "        }\n",
      "    ],\n",
      "    \"multigraph\": true\n",
      "}\n"
     ]
    }
   ],
   "source": [
    "from networkx.readwrite import json_graph\n",
    "mdgdata = json_graph.node_link_data(MDG)\n",
    "# The json.dumps() function (which means \"dump string,\" not \"dumps\")\n",
    "# will translate a Python value into a string of JSON-formatted data.\n",
    "mdgjasonstring = json.dumps(mdgdata, indent = 4)\n",
    "print(mdgjasonstring)"
   ]
  },
  {
   "cell_type": "code",
   "execution_count": 13,
   "metadata": {
    "collapsed": false,
    "slideshow": {
     "slide_type": "skip"
    }
   },
   "outputs": [
    {
     "name": "stdout",
     "output_type": "stream",
     "text": [
      "(0, {'label': \"Has the patient's nausea\\nlasted longer than 24 hours or\\nhave they had any vomiting?\"})\n",
      "(1, {'label': 'Triage Nurse Instructions<->\\nMake sure the patient has\\nantiemetics and determine if\\nthey are taking it correctly.\\nIf the patient does not have a\\nprescription, notify the\\nphysician. Advise the patient\\non fluid intake (ginger ale)\\nand to eat small frequent\\nmeals throughout the day.\\nAdvise the patient to avoid\\nspicy, fatty or salty foods.\\nAsk the patient to call back\\nif they begin to feel worse;\\nwe want them to avoid\\nunecessary visits to the E.R.\\nCall to check on the patient\\nin 24 hours.'})\n",
      "(2, {'label': 'What was the patient outcome?'})\n",
      "(3, {'label': 'If an appointment was\\nscheduled<-> What would the\\npatient have done if they\\ncould not have been seen in\\nthe office?'})\n",
      "(4, {'label': 'Document any necessary\\ninformation, complete the\\nencounter and save.'})\n"
     ]
    }
   ],
   "source": [
    "for n in MDG.nodes(data=True):\n",
    "    n[1]['label'] = n[1]['label'].replace(\":\", \"<->\")\n",
    "    \n",
    "for e in MDG.edges(data=True):\n",
    "    e[2]['label'] = e[2]['label'].replace(\":\", \"<->\")\n",
    "    \n",
    "import textwrap\n",
    "for n in MDG.nodes(data=True):\n",
    "    n[1]['label'] = textwrap.fill(n[1]['label'], width=30)\n",
    "    print(n)"
   ]
  },
  {
   "cell_type": "code",
   "execution_count": 14,
   "metadata": {
    "collapsed": false,
    "slideshow": {
     "slide_type": "skip"
    }
   },
   "outputs": [
    {
     "name": "stdout",
     "output_type": "stream",
     "text": [
      "(0, 1, {'label': 'No'})\n",
      "(0, 2, {'label': 'Yes Schedule a same day\\nappointment. Notify the\\ninfusion room of a\\npossible patient add-on\\nfor hydration. If the\\npatient refuses to be\\nseen notify the physician\\nand schedule a follow up\\ncall in 24hours.'})\n",
      "(1, 2, {'label': 'Make sure the patient has\\nantiemetics and determine\\nif they are taking it\\ncorrectly. If the patient\\ndoes not have a\\nprescription, notify the\\nphysician. Advise the\\npatient on fluid intake\\n(ginger ale) and to eat\\nsmall frequent meals\\nthroughout the day.\\nAdvise the patient to\\navoid spicy, fatty or\\nsalty foods. Ask the\\npatient to call back if\\nthey begin to feel worse;\\nwe want them to avoid\\nvisits to the E.R. Call\\nto check on the patient\\nin 24 hours.'})\n",
      "(2, 3, {'label': 'I scheduled a same day\\nappointment.'})\n",
      "(2, 3, {'label': 'I scheduled a next day\\nappointment.'})\n",
      "(2, 3, {'label': 'I scheduled an\\nappointment in 2 or more\\ndays.'})\n",
      "(2, 3, {'label': 'I scheuled a STAT\\nappointment.'})\n",
      "(2, 4, {'label': 'I scheduled a follow up\\ncall.'})\n",
      "(2, 4, {'label': 'I managed the patient\\nover the phone.'})\n",
      "(2, 4, {'label': 'I followed the 911\\nprotocol and notified the\\nadmitting/on-call\\nphysician.'})\n",
      "(2, 4, {'label': 'The patient refused\\nambulance through 911.\\nThe patient is going to\\nthe ER via private\\nautomobile.'})\n",
      "(2, 4, {'label': 'I notified the hospice\\nnurse.'})\n",
      "(2, 4, {'label': 'I Made an\\nappointment/referral to\\nan outside provider.'})\n",
      "(2, 4, {'label': 'The patient refused to be\\nseen.'})\n",
      "(3, 4, {'label': 'The patient would have\\ngone to an urgent care\\ncenter.'})\n",
      "(3, 4, {'label': 'The patient would have\\ngone to the emergency\\nroom.'})\n",
      "(3, 4, {'label': 'The patient would have\\nstayed home and called\\nthe next morning.'})\n",
      "(3, 4, {'label': 'The patient would have\\ncalled and asked to speak\\nto the doctor on call.'})\n",
      "(3, 4, {'label': 'The patient would have\\ncalled another doctor\\n(e.g. PCP) for care.'})\n",
      "(3, 4, {'label': 'Other'})\n"
     ]
    }
   ],
   "source": [
    "for e in MDG.edges(data=True):\n",
    "    e[2]['label'] = textwrap.fill(e[2]['label'], width=25)\n",
    "    print(e)"
   ]
  },
  {
   "cell_type": "code",
   "execution_count": 21,
   "metadata": {
    "collapsed": false,
    "slideshow": {
     "slide_type": "skip"
    }
   },
   "outputs": [],
   "source": [
    "#from networkx.drawing.nx_agraph import write_dot\n",
    "#nx.write_dot(MDG, \"nauseaandvomiting.dot\")\n",
    "#nx.drawing.nx_agraph.write_dot(MDG, 'nausaeaandvomiting.dot')\n",
    "\n",
    "#import codecs, re\n",
    "#contents = codecs.open(\"nauseaandvomiting.dot\", \n",
    "#                      encoding='utf-8').read()\n",
    "#print contents\n",
    "\n",
    "#newcontents = re.sub(r\"<->\",\":\",contents)\n",
    "#print newcontents\n",
    "\n",
    "#dot_file = open(\"nauseaandvomiting.dot\",\"w\")\n",
    "\n",
    "#dot_file.write(newcontents)\n",
    "\n",
    "#import os\n",
    " \n",
    "#os.system('dot -Tpng nauseaandvomiting.dot -o nauseaandvomiting.png')\n",
    "\n",
    "\n",
    "\n",
    "#from IPython.display import Image\n",
    "#Image(filename='nauseaandvomiting.png',width=10000, height=10000)"
   ]
  },
  {
   "cell_type": "code",
   "execution_count": null,
   "metadata": {
    "collapsed": true
   },
   "outputs": [],
   "source": []
  }
 ],
 "metadata": {
  "celltoolbar": "Slideshow",
  "kernelspec": {
   "display_name": "Python 3",
   "language": "python",
   "name": "python3"
  },
  "language_info": {
   "codemirror_mode": {
    "name": "ipython",
    "version": 3
   },
   "file_extension": ".py",
   "mimetype": "text/x-python",
   "name": "python",
   "nbconvert_exporter": "python",
   "pygments_lexer": "ipython3",
   "version": "3.5.1"
  },
  "widgets": {
   "state": {},
   "version": "1.1.2"
  }
 },
 "nbformat": 4,
 "nbformat_minor": 0
}
