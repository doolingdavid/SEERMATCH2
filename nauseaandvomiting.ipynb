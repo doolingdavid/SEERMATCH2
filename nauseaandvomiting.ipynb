{
 "cells": [
  {
   "cell_type": "code",
   "execution_count": 5,
   "metadata": {
    "collapsed": true,
    "slideshow": {
     "slide_type": "slide"
    }
   },
   "outputs": [],
   "source": [
    "\n",
    "import math\n",
    "import copy\n",
    "import networkx as nx\n",
    "import matplotlib.pyplot as plot\n",
    "import matplotlib\n",
    "%matplotlib inline\n",
    "import pickle\n",
    "import os\n",
    "import json"
   ]
  },
  {
   "cell_type": "markdown",
   "metadata": {
    "slideshow": {
     "slide_type": "slide"
    }
   },
   "source": [
    "## <font color='teal'>The Data from the Word Document</font>\n",
    "\n",
    "```\n",
    "Nausea and Vomiting Pathway CH V1-updated\n",
    "\n",
    "Has your nausea lasted longer than 24 hours or have you had any vomiting?\n",
    "Yes О Schedule a same day appointment. Notify the infusion room of a possible patient add-on for hydration. If the patient refuses to be seen notify the physician and schedule a follow up call in 24 hours. The system should take you to 3.\n",
    "No  О  The system should take you to 2.\n",
    "\n",
    "2- Triage Nurse Instructions: \n",
    "0 Make sure the patient has antiemetics and verify how they are taking it. If the patient does not have a prescription, notify the physician.  Advise the patient on fluid intake (ginger ale), eat small frequent meals throughout the day. Avoid spicy, fatty or salty foods.  Tell the patient to call us back if they begin to feel worse; we want them to avoid having to go to the E.R. Call to check on the patient in 24 hours.  The system should take you to 3.\n",
    "\n",
    "3- What was the patient outcome?\n",
    "     (Dropdown)\n",
    "•    I scheduled a same day appointment. The system should take you to 4\n",
    "•    I scheduled a next day appointment. The system should take you to 4\n",
    "•    I scheduled an appointment in 2 or more days. The system should take you to 4\n",
    "•    I scheduled a STAT appointment. The system should take you to 4\n",
    "•    I scheduled a follow up call. The system should take you to 5\n",
    "•    I managed the patient over the phone. The system should take you to 5\n",
    "•    I followed the 911 protocol and notified the admitting/on-call physician. The system should take you to 5\n",
    "•    The patient refused ambulance through 911. Patient is going to the ER via private automobile. The system should take you to 5\n",
    "•    I notified the hospice nurse. The system should take you to 5\n",
    "•    Made an appointment/referral to an outside provider. The system should take you to 5\n",
    "•    The patient refused to be seen The system should take you to 5\n",
    "\n",
    "4- If an appointment was scheduled: What would the patient have done if they could not have been seen in the office? \n",
    "     (Dropdown)\n",
    "-The patient would have gone to an urgent care center. The system should take you to 5.\n",
    "-The patient would have gone to the emergency room. The system should take you to 5.\n",
    "-The patient would have stayed home and called the next morning. The system should take you to 5.\n",
    "-The patient would have called and asked to speak to the doctor on call. The system should take you to 5.\n",
    "-The patient would have called their other doctor (like PCP) for care. The system should take you to 5.\n",
    "-Other:________________________________ The system should take you to 5.\n",
    "\n",
    "5- 0 Document any necessary information, complete the encounter and save. . (The user completes the encounter.)\n",
    "```"
   ]
  },
  {
   "cell_type": "markdown",
   "metadata": {
    "slideshow": {
     "slide_type": "slide"
    }
   },
   "source": [
    "### Represent this information as a directed graph, visualize the graph, and output the graph in json format"
   ]
  },
  {
   "cell_type": "code",
   "execution_count": 9,
   "metadata": {
    "collapsed": true,
    "slideshow": {
     "slide_type": "fragment"
    }
   },
   "outputs": [],
   "source": [
    "MDG = nx.MultiDiGraph(name=\"Nausea and Vomiting Pathway CH V1\")\n"
   ]
  },
  {
   "cell_type": "code",
   "execution_count": 10,
   "metadata": {
    "collapsed": false,
    "slideshow": {
     "slide_type": "fragment"
    }
   },
   "outputs": [
    {
     "name": "stdout",
     "output_type": "stream",
     "text": [
      "Has the patient's nausea lasted longer than 24 hours or have they had any vomiting?\n",
      "Triage Nurse Instructions: Make sure the patient has antiemetics and determine if they are taking it correctly. If the patient does not have a prescription, notify the physician. Advise the patient on fluid intake (ginger ale) and to eat small frequent meals throughout the day. Advise the patient to avoid spicy, fatty or salty foods. Ask the patient to call back if they begin to feel worse; we want them to avoid unecessary visits to the E.R. Call to check on the patient in 24 hours.\n",
      "What was the patient outcome?\n",
      "If an appointment was scheduled: What would the patient have done if they could not have been seen in the office?\n",
      "Document any necessary information, complete the encounter and save.\n"
     ]
    }
   ],
   "source": [
    "mdgnodes = [\"\"\"Has the patient's nausea lasted longer than 24 hours or have they had any vomiting?\"\"\",\n",
    "            \"\"\"Triage Nurse Instructions: Make sure the patient has antiemetics and determine if \n",
    "            they are taking it correctly.\n",
    "            If the patient does not have a prescription, notify the \n",
    "            physician. Advise the patient on fluid intake (ginger ale) and to eat small frequent \n",
    "            meals throughout the day. Advise the patient to avoid spicy, fatty or salty foods.\n",
    "            Ask the patient to\n",
    "            call back if they begin to feel worse; we want them to avoid \n",
    "            unecessary visits to the\n",
    "            E.R. Call to check on the patient in 24 hours.\"\"\",\n",
    "            \"\"\"What was the patient outcome?\"\"\",\n",
    "            \"\"\"If an appointment was scheduled: What would the patient have done if they could\n",
    "            not have been seen in the office?\"\"\",\n",
    "            \"\"\"Document any necessary information, complete the encounter and save.\"\"\"]\n",
    "\n",
    "mdgnodes = [' '.join(m.split()) for m in mdgnodes]\n",
    "\n",
    "for m in mdgnodes:\n",
    "    print(m)"
   ]
  },
  {
   "cell_type": "markdown",
   "metadata": {
    "slideshow": {
     "slide_type": "slide"
    }
   },
   "source": [
    "### <font color='teal'>Add the nodes (questions)</font>"
   ]
  },
  {
   "cell_type": "code",
   "execution_count": 11,
   "metadata": {
    "collapsed": true,
    "slideshow": {
     "slide_type": "fragment"
    }
   },
   "outputs": [],
   "source": [
    "nodedict = dict(list(enumerate(mdgnodes)))\n",
    "for k in nodedict.keys():\n",
    "    MDG.add_node(k, label=nodedict[k])\n"
   ]
  },
  {
   "cell_type": "code",
   "execution_count": 12,
   "metadata": {
    "collapsed": false,
    "slideshow": {
     "slide_type": "slide"
    }
   },
   "outputs": [
    {
     "name": "stdout",
     "output_type": "stream",
     "text": [
      "(0, {'label': \"Has the patient's nausea lasted longer than 24 hours or have they had any vomiting?\"})\n",
      "(1, {'label': 'Triage Nurse Instructions: Make sure the patient has antiemetics and determine if they are taking it correctly. If the patient does not have a prescription, notify the physician. Advise the patient on fluid intake (ginger ale) and to eat small frequent meals throughout the day. Advise the patient to avoid spicy, fatty or salty foods. Ask the patient to call back if they begin to feel worse; we want them to avoid unecessary visits to the E.R. Call to check on the patient in 24 hours.'})\n",
      "(2, {'label': 'What was the patient outcome?'})\n",
      "(3, {'label': 'If an appointment was scheduled: What would the patient have done if they could not have been seen in the office?'})\n",
      "(4, {'label': 'Document any necessary information, complete the encounter and save.'})\n"
     ]
    }
   ],
   "source": [
    "for n in MDG.nodes(data=True):\n",
    "    print(n)"
   ]
  },
  {
   "cell_type": "markdown",
   "metadata": {
    "slideshow": {
     "slide_type": "slide"
    }
   },
   "source": [
    "### <font color='teal'>Add the edges (the possible paths between questions)</font> "
   ]
  },
  {
   "cell_type": "code",
   "execution_count": 13,
   "metadata": {
    "collapsed": true,
    "slideshow": {
     "slide_type": "fragment"
    }
   },
   "outputs": [],
   "source": [
    "\n",
    "mdgedges = [(0,2,{'label':\"\"\"Yes Schedule a same day appointment. Notify the infusion room\n",
    "of a possible patient add-on for hydration. If the patient refuses to be seen notify the \n",
    "physician and schedule a follow up call in 24hours.\"\"\"}),\n",
    "            (0,1,{'label':'No'}),\n",
    "            (1,2,{'label':\"\"\"Make sure the patient has antiemetics and determine if \n",
    "            they are taking it correctly.\n",
    "            If the patient does not have a prescription, notify the \n",
    "            physician. Advise the patient on fluid intake (ginger ale) and to eat small frequent \n",
    "            meals throughout the day. \n",
    "            Advise the patient to avoid spicy, fatty or salty foods.\n",
    "            Ask the patient to\n",
    "            call back if they begin to feel worse; we want\n",
    "            them to avoid visits to the\n",
    "            E.R. Call to check on the patient in 24 hours.\"\"\"}),\n",
    "            (2,3,{'label':\"\"\"I scheduled a same day appointment.\"\"\"}),\n",
    "            (2,3,{'label':\"\"\"I scheduled a next day appointment.\"\"\"}),\n",
    "            (2,3,{'label':\"\"\"I scheduled an appointment in 2 or more days.\"\"\"}),\n",
    "            (2,3,{'label':\"\"\"I scheuled a STAT appointment.\"\"\"}),\n",
    "            (2,4,{'label':\"\"\"I scheduled a follow up call.\"\"\"}),\n",
    "            (2,4,{'label':\"\"\"I managed the patient over the phone.\"\"\"}),\n",
    "            (2,4,{'label':\"\"\"I followed the 911 protocol and notified the admitting/on-call \n",
    "            physician.\"\"\"}),\n",
    "            (2,4,{'label':\"\"\"The patient refused ambulance through 911. The patient is going to \n",
    "            the ER via private automobile.\"\"\"}),\n",
    "            (2,4,{'label':\"\"\"I notified the hospice nurse.\"\"\"}),\n",
    "            (2,4,{'label':\"\"\"I Made an appointment/referral to an outside provider.\"\"\"}),\n",
    "            (2,4,{'label':\"\"\"The patient refused to be seen.\"\"\"}),\n",
    "            (3,4,{'label':\"\"\"The patient would have gone to an urgent care center.\"\"\"}),\n",
    "            (3,4,{'label':\"\"\"The patient would have gone to the emergency room.\"\"\"}),\n",
    "            (3,4,{'label':\"\"\"The patient would have stayed home and called the next morning.\"\"\"}),\n",
    "            (3,4,{'label':\"\"\"The patient would have called and asked to speak to the doctor on \n",
    "            call.\"\"\"}),\n",
    "            (3,4,{'label':\"\"\"The patient would have called another doctor \n",
    "            (e.g. PCP) for care.\"\"\"}),\n",
    "            (3,4,{'label':\"\"\"Other\"\"\"})]"
   ]
  },
  {
   "cell_type": "code",
   "execution_count": 14,
   "metadata": {
    "collapsed": false,
    "slideshow": {
     "slide_type": "slide"
    }
   },
   "outputs": [
    {
     "name": "stdout",
     "output_type": "stream",
     "text": [
      "(0, 1, {'label': 'No'})\n",
      "(0, 2, {'label': 'Yes Schedule a same day appointment. Notify the infusion room of a possible patient add-on for hydration. If the patient refuses to be seen notify the physician and schedule a follow up call in 24hours.'})\n",
      "(1, 2, {'label': 'Make sure the patient has antiemetics and determine if they are taking it correctly. If the patient does not have a prescription, notify the physician. Advise the patient on fluid intake (ginger ale) and to eat small frequent meals throughout the day. Advise the patient to avoid spicy, fatty or salty foods. Ask the patient to call back if they begin to feel worse; we want them to avoid visits to the E.R. Call to check on the patient in 24 hours.'})\n",
      "(2, 3, {'label': 'I scheduled a same day appointment.'})\n",
      "(2, 3, {'label': 'I scheduled a next day appointment.'})\n",
      "(2, 3, {'label': 'I scheduled an appointment in 2 or more days.'})\n",
      "(2, 3, {'label': 'I scheuled a STAT appointment.'})\n",
      "(2, 4, {'label': 'I scheduled a follow up call.'})\n",
      "(2, 4, {'label': 'I managed the patient over the phone.'})\n",
      "(2, 4, {'label': 'I followed the 911 protocol and notified the admitting/on-call physician.'})\n",
      "(2, 4, {'label': 'The patient refused ambulance through 911. The patient is going to the ER via private automobile.'})\n",
      "(2, 4, {'label': 'I notified the hospice nurse.'})\n",
      "(2, 4, {'label': 'I Made an appointment/referral to an outside provider.'})\n",
      "(2, 4, {'label': 'The patient refused to be seen.'})\n",
      "(3, 4, {'label': 'The patient would have gone to an urgent care center.'})\n",
      "(3, 4, {'label': 'The patient would have gone to the emergency room.'})\n",
      "(3, 4, {'label': 'The patient would have stayed home and called the next morning.'})\n",
      "(3, 4, {'label': 'The patient would have called and asked to speak to the doctor on call.'})\n",
      "(3, 4, {'label': 'The patient would have called another doctor (e.g. PCP) for care.'})\n",
      "(3, 4, {'label': 'Other'})\n"
     ]
    }
   ],
   "source": [
    "MDG.add_edges_from(mdgedges)\n",
    "for e in MDG.edges(data=True):\n",
    "    e[2]['label'] = ' '.join(e[2]['label'].split())\n",
    "    print(e)"
   ]
  },
  {
   "cell_type": "markdown",
   "metadata": {
    "slideshow": {
     "slide_type": "slide"
    }
   },
   "source": [
    "It can be useful for testing purposes to know all of the possible paths through a triage pathway.\n",
    "With this graph representation you can easily find all the possible paths (simple for this relatively small pathway, but his method is very useful for larger pathways)."
   ]
  },
  {
   "cell_type": "code",
   "execution_count": 17,
   "metadata": {
    "collapsed": false,
    "slideshow": {
     "slide_type": "fragment"
    }
   },
   "outputs": [],
   "source": [
    "def start_to_leaf(Dg,n,m):\n",
    "    \"\"\"Takes a graph Dg and a node n, and shows all of paths leading\n",
    "    from n down to a leaf node m.\"\"\"\n",
    "    paths = nx.all_simple_paths(Dg,n,m)\n",
    "    pathslist = list(paths)\n",
    "    pathshash = [tuple(i) for i in pathslist]\n",
    "    paths = list(set(pathshash))\n",
    "    print(\"There are \", len(paths), \" paths connecting \", n, \" to \", m)\n",
    "    for path in paths:   # need to get the edges with their data, not just the nodes\n",
    "        textpath = [Dg.nodes(data=True)[p][1]['label'] for p in path]\n",
    "        print(path, textpath)\n",
    "        for i in range(len(path)-1):\n",
    "            huh = Dg.get_edge_data(path[i], path[i+1])\n",
    "            for j in range(len(huh)):\n",
    "                print(path[i], path[i+1], huh[j])\n",
    "        print(\"------------------------------------------------\\n\")"
   ]
  },
  {
   "cell_type": "code",
   "execution_count": 19,
   "metadata": {
    "collapsed": false,
    "slideshow": {
     "slide_type": "fragment"
    }
   },
   "outputs": [],
   "source": [
    "def print_paths(Dg):\n",
    "    \"\"\"Takes a directed graph Dg as input and calls start_to_leaf\n",
    "    for all of the start-end pairs (0, the set of nodes with 0 \n",
    "    out-degree).\"\"\"\n",
    "    for n in Dg.nodes():\n",
    "        if Dg.out_degree(n) == 0:\n",
    "            start_to_leaf(Dg,0,n)\n",
    "            print(\"----------------------------\\n\")"
   ]
  },
  {
   "cell_type": "code",
   "execution_count": null,
   "metadata": {
    "collapsed": true
   },
   "outputs": [],
   "source": []
  }
 ],
 "metadata": {
  "celltoolbar": "Slideshow",
  "kernelspec": {
   "display_name": "Python 3",
   "language": "python",
   "name": "python3"
  },
  "language_info": {
   "codemirror_mode": {
    "name": "ipython",
    "version": 3
   },
   "file_extension": ".py",
   "mimetype": "text/x-python",
   "name": "python",
   "nbconvert_exporter": "python",
   "pygments_lexer": "ipython3",
   "version": "3.5.1"
  },
  "widgets": {
   "state": {},
   "version": "1.1.2"
  }
 },
 "nbformat": 4,
 "nbformat_minor": 0
}
