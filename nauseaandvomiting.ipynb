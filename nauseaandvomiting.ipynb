{
 "cells": [
  {
   "cell_type": "code",
   "execution_count": 1,
   "metadata": {
    "collapsed": true,
    "slideshow": {
     "slide_type": "skip"
    }
   },
   "outputs": [],
   "source": [
    "\n",
    "import math\n",
    "import copy\n",
    "import networkx as nx\n",
    "import matplotlib.pyplot as plot\n",
    "import matplotlib\n",
    "%matplotlib inline\n",
    "import pickle\n",
    "import os\n",
    "import json"
   ]
  },
  {
   "cell_type": "code",
   "execution_count": 2,
   "metadata": {
    "collapsed": true,
    "slideshow": {
     "slide_type": "slide"
    }
   },
   "outputs": [],
   "source": [
    "MDG = nx.MultiDiGraph(name=\"Nausea and Vomiting Pathway CH V1\")\n"
   ]
  },
  {
   "cell_type": "code",
   "execution_count": 4,
   "metadata": {
    "collapsed": false,
    "slideshow": {
     "slide_type": "fragment"
    }
   },
   "outputs": [
    {
     "name": "stdout",
     "output_type": "stream",
     "text": [
      "Has the patient's nausea lasted longer than 24 hours or have they had any vomiting?\n",
      "Triage Nurse Instructions: Make sure the patient has antiemetics and determine if they are taking it correctly. If the patient does not have a prescription, notify the physician. Advise the patient on fluid intake (ginger ale) and to eat small frequent meals throughout the day. Advise the patient to avoid spicy, fatty or salty foods. Ask the patient to call back if they begin to feel worse; we want them to avoid unecessary visits to the E.R. Call to check on the patient in 24 hours.\n",
      "What was the patient outcome?\n",
      "If an appointment was scheduled: What would the patient have done if they could not have been seen in the office?\n",
      "Document any necessary information, complete the encounter and save.\n"
     ]
    }
   ],
   "source": [
    "mdgnodes = [\"\"\"Has the patient's nausea lasted longer than 24 hours or have they had any vomiting?\"\"\",\n",
    "            \"\"\"Triage Nurse Instructions: Make sure the patient has antiemetics and determine if \n",
    "            they are taking it correctly.\n",
    "            If the patient does not have a prescription, notify the \n",
    "            physician. Advise the patient on fluid intake (ginger ale) and to eat small frequent \n",
    "            meals throughout the day. Advise the patient to avoid spicy, fatty or salty foods.\n",
    "            Ask the patient to\n",
    "            call back if they begin to feel worse; we want them to avoid \n",
    "            unecessary visits to the\n",
    "            E.R. Call to check on the patient in 24 hours.\"\"\",\n",
    "            \"\"\"What was the patient outcome?\"\"\",\n",
    "            \"\"\"If an appointment was scheduled: What would the patient have done if they could\n",
    "            not have been seen in the office?\"\"\",\n",
    "            \"\"\"Document any necessary information, complete the encounter and save.\"\"\"]\n",
    "\n",
    "mdgnodes = [' '.join(m.split()) for m in mdgnodes]\n",
    "\n",
    "for m in mdgnodes:\n",
    "    print(m)"
   ]
  },
  {
   "cell_type": "code",
   "execution_count": null,
   "metadata": {
    "collapsed": true
   },
   "outputs": [],
   "source": []
  }
 ],
 "metadata": {
  "celltoolbar": "Slideshow",
  "kernelspec": {
   "display_name": "Python 3",
   "language": "python",
   "name": "python3"
  },
  "language_info": {
   "codemirror_mode": {
    "name": "ipython",
    "version": 3
   },
   "file_extension": ".py",
   "mimetype": "text/x-python",
   "name": "python",
   "nbconvert_exporter": "python",
   "pygments_lexer": "ipython3",
   "version": "3.5.1"
  },
  "widgets": {
   "state": {},
   "version": "1.1.2"
  }
 },
 "nbformat": 4,
 "nbformat_minor": 0
}
