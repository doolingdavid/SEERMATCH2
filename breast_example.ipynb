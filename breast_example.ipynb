{
 "cells": [
  {
   "cell_type": "code",
   "execution_count": 1,
   "metadata": {
    "collapsed": false,
    "slideshow": {
     "slide_type": "skip"
    }
   },
   "outputs": [
    {
     "data": {
      "text/html": [
       "<script>\n",
       "code_show=true; \n",
       "function code_toggle() {\n",
       " if (code_show){\n",
       " $('div.input').hide();\n",
       " } else {\n",
       " $('div.input').show();\n",
       " }\n",
       " code_show = !code_show\n",
       "} \n",
       "$( document ).ready(code_toggle);\n",
       "</script>\n",
       "<form action=\"javascript:code_toggle()\"><input type=\"submit\" value=\"Click here to toggle on/off the raw code.\"></form>"
      ],
      "text/plain": [
       "<IPython.core.display.HTML object>"
      ]
     },
     "execution_count": 1,
     "metadata": {},
     "output_type": "execute_result"
    }
   ],
   "source": [
    "from IPython.display import HTML\n",
    "\n",
    "HTML('''<script>\n",
    "code_show=true; \n",
    "function code_toggle() {\n",
    " if (code_show){\n",
    " $('div.input').hide();\n",
    " } else {\n",
    " $('div.input').show();\n",
    " }\n",
    " code_show = !code_show\n",
    "} \n",
    "$( document ).ready(code_toggle);\n",
    "</script>\n",
    "<form action=\"javascript:code_toggle()\"><input type=\"submit\" value=\"Click here to toggle on/off the raw code.\"></form>''')  "
   ]
  },
  {
   "cell_type": "code",
   "execution_count": 2,
   "metadata": {
    "collapsed": true,
    "slideshow": {
     "slide_type": "skip"
    }
   },
   "outputs": [],
   "source": [
    "import numpy as np\n",
    "import pandas as pd\n",
    "import matplotlib.pyplot as plt\n",
    "from pandas import Series, DataFrame\n",
    "import pytz\n",
    "from pytz import common_timezones, all_timezones\n",
    "import matplotlib\n",
    "matplotlib.style.use('ggplot')\n",
    "%matplotlib inline\n",
    "from datetime import datetime\n",
    "import scipy as sp\n",
    "import statsmodels.api as sm\n",
    "import statsmodels.formula.api as smf\n",
    "matplotlib.style.use('fivethirtyeight')\n",
    "matplotlib.style.use('seaborn-talk')"
   ]
  },
  {
   "cell_type": "markdown",
   "metadata": {
    "slideshow": {
     "slide_type": "slide"
    }
   },
   "source": [
    "This ipython notebook will illustrate the matching methodology we will use to match patients in the SEER-Medicare linked database. The comparison between patient outcomes between those patients who receive proton beam therapy vs traditional radiation therapy requires as a first step a matching of the two different groups. One method to perform this matching is to use Propensity Score Matching. Here we are going to illustrate a more direct method of matching using KDTrees, a data structure that allows for efficient finding of nearest neighbors in high-dimenional space."
   ]
  },
  {
   "cell_type": "markdown",
   "metadata": {
    "slideshow": {
     "slide_type": "slide"
    }
   },
   "source": [
    "We will first identify all patients with left-sided breast cancer, using the following primary site codes:\n",
    "(C500-506, C508-C509) AND only consider left breast cases: LATERALITY == \"Left: origin of primary\" coded as 2.\n",
    "Then we will split the above patient population into two groups as follows: The treatment group, defined as the patients receiving any form of radiation the control group, defined as the patients who did not receive any form of radiation Operationally, these groups are defined by looking at the column RADIATN, which has values:"
   ]
  },
  {
   "cell_type": "markdown",
   "metadata": {
    "slideshow": {
     "slide_type": "slide"
    }
   },
   "source": [
    "\n",
    "| Code\t| Description |\n",
    "|:---------:|:--------------:|\n",
    "|0\t| None; diagnosed at autopsy |\n",
    "|1\t|Beam radiation |\n",
    "|2\t|Radioacative implants|\n",
    "|3\t|Radioisotopes|\n",
    "|4\t|Combination of 1 with 2 or 3|\n",
    "|5\t|Radiation, NOS - method or source not specified|\n",
    "|6\t|Other radiation (1973-1987 cases only)|\n",
    "|7\t|Patient or patient's guardian refused radiation therapy|\n",
    "|8\t|Radiation recommened, unknown if administered|\n",
    "|9\t|Unknown if radiation administered|\n",
    "\n",
    "\n",
    "So that a value of 0 defines the control group, and the values (1,2,3,4,5,6) define the treatment group. We will then perform matching between the resulting treatment and control groups."
   ]
  },
  {
   "cell_type": "code",
   "execution_count": 3,
   "metadata": {
    "collapsed": false,
    "slideshow": {
     "slide_type": "skip"
    }
   },
   "outputs": [
    {
     "data": {
      "text/plain": [
       "['SEER_1973_2013_TEXTDATA\\\\incidence\\\\yr1973_2013.seer9\\\\BREAST.TXT',\n",
       " 'SEER_1973_2013_TEXTDATA\\\\incidence\\\\yr1992_2013.sj_la_rg_ak\\\\BREAST.TXT',\n",
       " 'SEER_1973_2013_TEXTDATA\\\\incidence\\\\yr2000_2013.ca_ky_lo_nj_ga\\\\BREAST.TXT',\n",
       " 'SEER_1973_2013_TEXTDATA\\\\incidence\\\\yr2005.lo_2nd_half\\\\BREAST.txt']"
      ]
     },
     "execution_count": 3,
     "metadata": {},
     "output_type": "execute_result"
    }
   ],
   "source": [
    "import seerhelp\n",
    "breastfiles = seerhelp.get_breastfiles()\n",
    "breastfiles"
   ]
  },
  {
   "cell_type": "code",
   "execution_count": 4,
   "metadata": {
    "collapsed": false,
    "slideshow": {
     "slide_type": "skip"
    }
   },
   "outputs": [
    {
     "name": "stdout",
     "output_type": "stream",
     "text": [
      "(1448798, 141)\n"
     ]
    }
   ],
   "source": [
    "import seerhelp\n",
    "breastfiles = seerhelp.get_breastfiles()\n",
    "breastfiles\n",
    "\n",
    "dfbreast0 = seerhelp.make_clean_dataframe(breastfiles[0])\n",
    "dfbreast1 = seerhelp.make_clean_dataframe(breastfiles[1])\n",
    "dfbreast2 = seerhelp.make_clean_dataframe(breastfiles[2])\n",
    "dfbreast3 = seerhelp.make_clean_dataframe(breastfiles[3])\n",
    "\n",
    "dfbreast = pd.concat([dfbreast0, dfbreast1, dfbreast2,\n",
    "                     dfbreast3], ignore_index=True)\n",
    "\n",
    "#dfother = pd.concat([dfother0, dfother1,dfother3], ignore_index=True)\n",
    "\n",
    "print(dfbreast.shape)\n",
    "\n",
    "del dfbreast0\n",
    "del dfbreast1\n",
    "del dfbreast2\n",
    "del dfbreast3"
   ]
  },
  {
   "cell_type": "code",
   "execution_count": 5,
   "metadata": {
    "collapsed": false,
    "slideshow": {
     "slide_type": "skip"
    }
   },
   "outputs": [
    {
     "data": {
      "text/plain": [
       "Left origin of primary                                                        730569\n",
       "Right origin of primary                                                       702454\n",
       "Paired site, but no information concerning laterality; midline tumor           12729\n",
       "Only one side involved, right or left origin unspecified                        1667\n",
       "Bilateral involvement, lateral origin unknown; stated to be single primary      1379\n",
       "Name: LATERAL, dtype: int64"
      ]
     },
     "execution_count": 5,
     "metadata": {},
     "output_type": "execute_result"
    }
   ],
   "source": [
    "dfbreast.LATERAL.value_counts()"
   ]
  },
  {
   "cell_type": "code",
   "execution_count": 7,
   "metadata": {
    "collapsed": false,
    "slideshow": {
     "slide_type": "skip"
    }
   },
   "outputs": [
    {
     "data": {
      "text/plain": [
       "730569"
      ]
     },
     "execution_count": 7,
     "metadata": {},
     "output_type": "execute_result"
    }
   ],
   "source": [
    "leftfilter = dfbreast.LATERAL.str.contains('left origin of primary',case=False,na=False)\n",
    "leftfilter.sum()"
   ]
  },
  {
   "cell_type": "code",
   "execution_count": 8,
   "metadata": {
    "collapsed": true,
    "slideshow": {
     "slide_type": "skip"
    }
   },
   "outputs": [],
   "source": [
    "mask = (dfbreast['CSTUMSIZ'] != \"Unknown; size not stated; not stated in patient record\") & \\\n",
    "(dfbreast['CSTUMSIZ'] != \"Microscopic focus or foci only; no size of focus is given\") & \\\n",
    "(dfbreast['CSTUMSIZ'] != \"989 millimeters or larger\") & \\\n",
    "(dfbreast['CSTUMSIZ'] != \"Not applicable\") & \\\n",
    "(dfbreast['AGE_DX'] != \"Unknown age\") & \\\n",
    "(dfbreast['srv_time_mon_flag'] == \"Complete dates are available and there are more than 0 days of survival\") & \\\n",
    "(dfbreast['YEAR_DX'] >= 2004) & \\\n",
    "(dfbreast['CSTUMSIZ'] != \"Described as less than 1 cm\") & \\\n",
    "(dfbreast['CSTUMSIZ'] != \"Described as less than 2 cm\") & \\\n",
    "(dfbreast['CSTUMSIZ'] != \"Described as less than 3 cm\") & \\\n",
    "(dfbreast['CSTUMSIZ'] != 'Indicates no msas or no tumor found; for example, when a tumor of a stated primary site is not found, but the tumor has metastasized') & \\\n",
    "(dfbreast['CSTUMSIZ'] != \"Described as less than 4 cm\") & \\\n",
    "(dfbreast['CSTUMSIZ'] != \"Described as less than 5 cm\") & \\\n",
    "(dfbreast['CSTUMSIZ'] != \"Not applicable\") & \\\n",
    "(dfbreast['YR_BRTH'] != 'Unknown year of birth') & \\\n",
    "(dfbreast['CSTUMSIZ'] != 'Not applicable') & \\\n",
    "(dfbreast['CSTUMSIZ'] != 996) & \\\n",
    "(dfbreast['CSTUMSIZ'] != 997) & \\\n",
    "(dfbreast['CSTUMSIZ'] != 998) & \\\n",
    "(dfbreast['REC_NO'] == 1) & \\\n",
    "(leftfilter)\n",
    "\n",
    "dfbreast = dfbreast[mask]\n",
    "\n",
    "\n"
   ]
  },
  {
   "cell_type": "code",
   "execution_count": 11,
   "metadata": {
    "collapsed": false,
    "slideshow": {
     "slide_type": "skip"
    }
   },
   "outputs": [],
   "source": [
    "non_rad = dfbreast.RADIATN.str.contains('None',case=False,na=False)\n",
    "refused_rad = dfbreast.RADIATN.str.contains('refused',case=False,na=False)\n",
    "unknown_rad = dfbreast.RADIATN.str.contains('Unknown',case=False,na=False)"
   ]
  },
  {
   "cell_type": "code",
   "execution_count": null,
   "metadata": {
    "collapsed": true
   },
   "outputs": [],
   "source": []
  }
 ],
 "metadata": {
  "celltoolbar": "Slideshow",
  "kernelspec": {
   "display_name": "Python 3",
   "language": "python",
   "name": "python3"
  },
  "language_info": {
   "codemirror_mode": {
    "name": "ipython",
    "version": 3
   },
   "file_extension": ".py",
   "mimetype": "text/x-python",
   "name": "python",
   "nbconvert_exporter": "python",
   "pygments_lexer": "ipython3",
   "version": "3.5.1"
  },
  "widgets": {
   "state": {},
   "version": "1.1.2"
  }
 },
 "nbformat": 4,
 "nbformat_minor": 0
}
