{
 "cells": [
  {
   "cell_type": "code",
   "execution_count": 1,
   "metadata": {
    "collapsed": false,
    "slideshow": {
     "slide_type": "skip"
    }
   },
   "outputs": [
    {
     "data": {
      "text/html": [
       "<script>\n",
       "code_show=true; \n",
       "function code_toggle() {\n",
       " if (code_show){\n",
       " $('div.input').hide();\n",
       " } else {\n",
       " $('div.input').show();\n",
       " }\n",
       " code_show = !code_show\n",
       "} \n",
       "$( document ).ready(code_toggle);\n",
       "</script>\n",
       "<form action=\"javascript:code_toggle()\"><input type=\"submit\" value=\"Click here to toggle on/off the raw code.\"></form>"
      ],
      "text/plain": [
       "<IPython.core.display.HTML object>"
      ]
     },
     "execution_count": 1,
     "metadata": {},
     "output_type": "execute_result"
    }
   ],
   "source": [
    "from IPython.display import HTML\n",
    "\n",
    "HTML('''<script>\n",
    "code_show=true; \n",
    "function code_toggle() {\n",
    " if (code_show){\n",
    " $('div.input').hide();\n",
    " } else {\n",
    " $('div.input').show();\n",
    " }\n",
    " code_show = !code_show\n",
    "} \n",
    "$( document ).ready(code_toggle);\n",
    "</script>\n",
    "<form action=\"javascript:code_toggle()\"><input type=\"submit\" value=\"Click here to toggle on/off the raw code.\"></form>''')  "
   ]
  },
  {
   "cell_type": "code",
   "execution_count": 2,
   "metadata": {
    "collapsed": true,
    "slideshow": {
     "slide_type": "skip"
    }
   },
   "outputs": [],
   "source": [
    "import numpy as np\n",
    "import pandas as pd\n",
    "import matplotlib.pyplot as plt\n",
    "from pandas import Series, DataFrame\n",
    "import pytz\n",
    "from pytz import common_timezones, all_timezones\n",
    "import matplotlib\n",
    "matplotlib.style.use('ggplot')\n",
    "%matplotlib inline\n",
    "from datetime import datetime\n",
    "import scipy as sp\n",
    "import statsmodels.api as sm\n",
    "import statsmodels.formula.api as smf\n",
    "matplotlib.style.use('fivethirtyeight')\n",
    "matplotlib.style.use('seaborn-talk')"
   ]
  },
  {
   "cell_type": "markdown",
   "metadata": {
    "slideshow": {
     "slide_type": "slide"
    }
   },
   "source": [
    "This ipython notebook will illustrate the matching methodology we will use to match patients in the SEER-Medicare linked database. The comparison between patient outcomes for those patients who receive proton beam therapy vs traditional radiation therapy requires as a first step a matching of the two different groups. One method to perform this matching is to use Propensity Score Matching. Here we are going to illustrate a more direct method of matching using KDTrees, a data structure that allows for efficient finding of nearest neighbors in high-dimenional space."
   ]
  },
  {
   "cell_type": "markdown",
   "metadata": {
    "slideshow": {
     "slide_type": "slide"
    }
   },
   "source": [
    "We will first identify all patients with left-sided breast cancer, using the following primary site codes:\n",
    "(C500-506, C508-C509) AND only consider left breast cases: LATERALITY == \"Left: origin of primary\" coded as 2.\n",
    "Then we will split the above patient population into two groups as follows: The treatment group, defined as the patients receiving any form of radiation; and the control group, defined as the patients who did not receive any form of radiation. Operationally, these groups are defined by looking at the column RADIATN, which has values:"
   ]
  },
  {
   "cell_type": "markdown",
   "metadata": {
    "slideshow": {
     "slide_type": "slide"
    }
   },
   "source": [
    "\n",
    "| Code\t| Description |\n",
    "|:---------:|:--------------:|\n",
    "|0\t| None; diagnosed at autopsy |\n",
    "|1\t|Beam radiation |\n",
    "|2\t|Radioacative implants|\n",
    "|3\t|Radioisotopes|\n",
    "|4\t|Combination of 1 with 2 or 3|\n",
    "|5\t|Radiation, NOS - method or source not specified|\n",
    "|6\t|Other radiation (1973-1987 cases only)|\n",
    "|7\t|Patient or patient's guardian refused radiation therapy|\n",
    "|8\t|Radiation recommened, unknown if administered|\n",
    "|9\t|Unknown if radiation administered|\n",
    "\n",
    "\n",
    "So that a value of 0 defines the control group, and the values (1,2,3,4,5,6) define the treatment group. We will then perform matching between the resulting treatment and control groups."
   ]
  },
  {
   "cell_type": "code",
   "execution_count": 3,
   "metadata": {
    "collapsed": false,
    "slideshow": {
     "slide_type": "skip"
    }
   },
   "outputs": [
    {
     "data": {
      "text/plain": [
       "['SEER_1973_2013_TEXTDATA\\\\incidence\\\\yr1973_2013.seer9\\\\BREAST.TXT',\n",
       " 'SEER_1973_2013_TEXTDATA\\\\incidence\\\\yr1992_2013.sj_la_rg_ak\\\\BREAST.TXT',\n",
       " 'SEER_1973_2013_TEXTDATA\\\\incidence\\\\yr2000_2013.ca_ky_lo_nj_ga\\\\BREAST.TXT',\n",
       " 'SEER_1973_2013_TEXTDATA\\\\incidence\\\\yr2005.lo_2nd_half\\\\BREAST.txt']"
      ]
     },
     "execution_count": 3,
     "metadata": {},
     "output_type": "execute_result"
    }
   ],
   "source": [
    "import seerhelp\n",
    "breastfiles = seerhelp.get_breastfiles()\n",
    "breastfiles"
   ]
  },
  {
   "cell_type": "code",
   "execution_count": 4,
   "metadata": {
    "collapsed": false,
    "slideshow": {
     "slide_type": "skip"
    }
   },
   "outputs": [
    {
     "name": "stdout",
     "output_type": "stream",
     "text": [
      "(1448798, 141)\n"
     ]
    }
   ],
   "source": [
    "import seerhelp\n",
    "breastfiles = seerhelp.get_breastfiles()\n",
    "breastfiles\n",
    "\n",
    "dfbreast0 = seerhelp.make_clean_dataframe(breastfiles[0])\n",
    "dfbreast1 = seerhelp.make_clean_dataframe(breastfiles[1])\n",
    "dfbreast2 = seerhelp.make_clean_dataframe(breastfiles[2])\n",
    "dfbreast3 = seerhelp.make_clean_dataframe(breastfiles[3])\n",
    "\n",
    "dfbreast = pd.concat([dfbreast0, dfbreast1, dfbreast2,\n",
    "                     dfbreast3], ignore_index=True)\n",
    "\n",
    "#dfother = pd.concat([dfother0, dfother1,dfother3], ignore_index=True)\n",
    "\n",
    "print(dfbreast.shape)\n",
    "\n",
    "del dfbreast0\n",
    "del dfbreast1\n",
    "del dfbreast2\n",
    "del dfbreast3"
   ]
  },
  {
   "cell_type": "code",
   "execution_count": 5,
   "metadata": {
    "collapsed": false,
    "slideshow": {
     "slide_type": "skip"
    }
   },
   "outputs": [
    {
     "data": {
      "text/plain": [
       "Left origin of primary                                                        730569\n",
       "Right origin of primary                                                       702454\n",
       "Paired site, but no information concerning laterality; midline tumor           12729\n",
       "Only one side involved, right or left origin unspecified                        1667\n",
       "Bilateral involvement, lateral origin unknown; stated to be single primary      1379\n",
       "Name: LATERAL, dtype: int64"
      ]
     },
     "execution_count": 5,
     "metadata": {},
     "output_type": "execute_result"
    }
   ],
   "source": [
    "dfbreast.LATERAL.value_counts()"
   ]
  },
  {
   "cell_type": "code",
   "execution_count": 7,
   "metadata": {
    "collapsed": false,
    "slideshow": {
     "slide_type": "skip"
    }
   },
   "outputs": [
    {
     "data": {
      "text/plain": [
       "730569"
      ]
     },
     "execution_count": 7,
     "metadata": {},
     "output_type": "execute_result"
    }
   ],
   "source": [
    "leftfilter = dfbreast.LATERAL.str.contains('left origin of primary',case=False,na=False)\n",
    "leftfilter.sum()"
   ]
  },
  {
   "cell_type": "code",
   "execution_count": 8,
   "metadata": {
    "collapsed": true,
    "slideshow": {
     "slide_type": "skip"
    }
   },
   "outputs": [],
   "source": [
    "mask = (dfbreast['CSTUMSIZ'] != \"Unknown; size not stated; not stated in patient record\") & \\\n",
    "(dfbreast['CSTUMSIZ'] != \"Microscopic focus or foci only; no size of focus is given\") & \\\n",
    "(dfbreast['CSTUMSIZ'] != \"989 millimeters or larger\") & \\\n",
    "(dfbreast['CSTUMSIZ'] != \"Not applicable\") & \\\n",
    "(dfbreast['AGE_DX'] != \"Unknown age\") & \\\n",
    "(dfbreast['srv_time_mon_flag'] == \"Complete dates are available and there are more than 0 days of survival\") & \\\n",
    "(dfbreast['YEAR_DX'] >= 2004) & \\\n",
    "(dfbreast['CSTUMSIZ'] != \"Described as less than 1 cm\") & \\\n",
    "(dfbreast['CSTUMSIZ'] != \"Described as less than 2 cm\") & \\\n",
    "(dfbreast['CSTUMSIZ'] != \"Described as less than 3 cm\") & \\\n",
    "(dfbreast['CSTUMSIZ'] != 'Indicates no msas or no tumor found; for example, when a tumor of a stated primary site is not found, but the tumor has metastasized') & \\\n",
    "(dfbreast['CSTUMSIZ'] != \"Described as less than 4 cm\") & \\\n",
    "(dfbreast['CSTUMSIZ'] != \"Described as less than 5 cm\") & \\\n",
    "(dfbreast['CSTUMSIZ'] != \"Not applicable\") & \\\n",
    "(dfbreast['YR_BRTH'] != 'Unknown year of birth') & \\\n",
    "(dfbreast['CSTUMSIZ'] != 'Not applicable') & \\\n",
    "(dfbreast['CSTUMSIZ'] != 996) & \\\n",
    "(dfbreast['CSTUMSIZ'] != 997) & \\\n",
    "(dfbreast['CSTUMSIZ'] != 998) & \\\n",
    "(dfbreast['REC_NO'] == 1) & \\\n",
    "(leftfilter)\n",
    "\n",
    "dfbreast = dfbreast[mask]\n",
    "\n",
    "\n"
   ]
  },
  {
   "cell_type": "code",
   "execution_count": 11,
   "metadata": {
    "collapsed": false,
    "slideshow": {
     "slide_type": "skip"
    }
   },
   "outputs": [],
   "source": [
    "non_rad = dfbreast.RADIATN.str.contains('None',case=False,na=False)\n",
    "refused_rad = dfbreast.RADIATN.str.contains('refused',case=False,na=False)\n",
    "unknown_rad = dfbreast.RADIATN.str.contains('Unknown',case=False,na=False)"
   ]
  },
  {
   "cell_type": "code",
   "execution_count": 13,
   "metadata": {
    "collapsed": false,
    "slideshow": {
     "slide_type": "skip"
    }
   },
   "outputs": [],
   "source": [
    "dfbreastcontrol = dfbreast[non_rad | refused_rad].copy()\n",
    "dfbreasttreatment = dfbreast[~(non_rad) & ~(refused_rad) & ~(unknown_rad)].copy()"
   ]
  },
  {
   "cell_type": "code",
   "execution_count": 14,
   "metadata": {
    "collapsed": false,
    "slideshow": {
     "slide_type": "skip"
    }
   },
   "outputs": [
    {
     "name": "stdout",
     "output_type": "stream",
     "text": [
      "(125038, 141) (129497, 141)\n"
     ]
    }
   ],
   "source": [
    "print(dfbreastcontrol.shape, dfbreasttreatment.shape)"
   ]
  },
  {
   "cell_type": "markdown",
   "metadata": {
    "slideshow": {
     "slide_type": "slide"
    }
   },
   "source": [
    "## <font color='steelblue'>So we are going to match patients in the control group with their nearest neighbors in the treatment group</font>\n",
    "\n",
    "In order to find the nearest neighbors in the high-dimensional feature space, we need to first do some preprocessing of the data. The first step is to \"one-hot-encode\" the categorical features."
   ]
  },
  {
   "cell_type": "code",
   "execution_count": 15,
   "metadata": {
    "collapsed": true,
    "slideshow": {
     "slide_type": "skip"
    }
   },
   "outputs": [],
   "source": [
    "dfbreastcontrol.set_index('PUBCSNUM', inplace=True)\n",
    "dfbreasttreatment.set_index('PUBCSNUM', inplace=True)\n",
    "\n",
    "controlindices = dfbreastcontrol.index\n",
    "treatmentindices = dfbreasttreatment.index\n",
    "\n",
    "catcols = ['SEX','MAR_STAT','RACEIV','NHIADE','GRADE','PRIMSITE',\n",
    "          'LATERAL','HST_STGA','HISTREC','MDXRECMP','STAT_REC']\n",
    "\n",
    "goodcols = ['SEX','MAR_STAT','RACEIV','NHIADE','GRADE','PRIMSITE',\n",
    "          'LATERAL','HST_STGA','HISTREC','MDXRECMP','STAT_REC',\n",
    "           'YR_BRTH','AGE_DX','YEAR_DX','CSTUMSIZ',\n",
    "           'lat','lng']\n",
    "\n",
    "\n",
    "dfpop = pd.concat([dfbreastcontrol, dfbreasttreatment],verify_integrity=True)"
   ]
  },
  {
   "cell_type": "markdown",
   "metadata": {
    "slideshow": {
     "slide_type": "slide"
    }
   },
   "source": [
    "## <font color='steelblue'>Before matching, let's look at the Kaplan-Meier curves</font>"
   ]
  },
  {
   "cell_type": "code",
   "execution_count": 16,
   "metadata": {
    "collapsed": true,
    "slideshow": {
     "slide_type": "skip"
    }
   },
   "outputs": [],
   "source": [
    "resgoodcontrol = pd.concat([pd.get_dummies(dfbreastcontrol[col],prefix=col) for col in catcols], axis=1)\n",
    "\n",
    "resgoodtreatment = pd.concat([pd.get_dummies(dfbreasttreatment[col],prefix=col) for col in catcols], axis=1)\n",
    "\n",
    "resgoodpop = pd.concat([pd.get_dummies(dfpop[col],prefix=col) for col in catcols], axis=1)\n",
    "\n",
    "resgoodcontrol['YR_BRTH'] = dfbreastcontrol['YR_BRTH']\n",
    "resgoodcontrol['AGE_DX'] = dfbreastcontrol['AGE_DX']#resgood['sequence_number_central'] = dfsmall['sequence_number_central']\n",
    "resgoodcontrol['YEAR_DX'] = dfbreastcontrol['YEAR_DX']\n",
    "resgoodcontrol['CSTUMSIZ'] = dfbreastcontrol['CSTUMSIZ']\n",
    "resgoodcontrol['lat'] = dfbreastcontrol['lat']\n",
    "resgoodcontrol['lng'] = dfbreastcontrol['lng']\n",
    "resgoodcontrol['srv_time_mon'] = dfbreastcontrol['srv_time_mon']\n",
    "\n",
    "\n",
    "resgoodtreatment['YR_BRTH'] = dfbreasttreatment['YR_BRTH']\n",
    "resgoodtreatment['AGE_DX'] = dfbreasttreatment['AGE_DX']#resgood['sequence_number_central'] = dfsmall['sequence_number_central']\n",
    "resgoodtreatment['YEAR_DX'] = dfbreasttreatment['YEAR_DX']\n",
    "resgoodtreatment['CSTUMSIZ'] = dfbreasttreatment['CSTUMSIZ']\n",
    "resgoodtreatment['lat'] = dfbreasttreatment['lat']\n",
    "resgoodtreatment['lng'] = dfbreasttreatment['lng']\n",
    "resgoodtreatment['srv_time_mon'] = dfbreasttreatment['srv_time_mon']\n",
    "\n",
    "\n",
    "resgoodpop['YR_BRTH'] = dfpop['YR_BRTH']\n",
    "resgoodpop['AGE_DX'] = dfpop['AGE_DX']#resgood['sequence_number_central'] = dfsmall['sequence_number_central']\n",
    "resgoodpop['YEAR_DX'] = dfpop['YEAR_DX']\n",
    "resgoodpop['CSTUMSIZ'] = dfpop['CSTUMSIZ']\n",
    "resgoodpop['lat'] = dfpop['lat']\n",
    "resgoodpop['lng'] = dfpop['lng']\n",
    "resgoodpop['srv_time_mon'] = dfpop['srv_time_mon']"
   ]
  },
  {
   "cell_type": "markdown",
   "metadata": {
    "slideshow": {
     "slide_type": "fragment"
    }
   },
   "source": [
    "### <font color='steelblue'>After performing the matching between the control and treatment groups, we can see how the Kaplan-Meier curves differ</font>\n",
    "\n",
    "Below is how it looks **before** matching patients in the control and treatment groups together in pairs."
   ]
  },
  {
   "cell_type": "code",
   "execution_count": 17,
   "metadata": {
    "collapsed": false,
    "slideshow": {
     "slide_type": "skip"
    }
   },
   "outputs": [
    {
     "data": {
      "text/plain": [
       "<lifelines.KaplanMeierFitter: fitted with 129497 observations, 116669 censored>"
      ]
     },
     "execution_count": 17,
     "metadata": {},
     "output_type": "execute_result"
    }
   ],
   "source": [
    "from lifelines import KaplanMeierFitter\n",
    "\n",
    "kmfpop = KaplanMeierFitter()\n",
    "kmfcontrol = KaplanMeierFitter()\n",
    "kmftreatment = KaplanMeierFitter()\n",
    "\n",
    "Tcontrol = resgoodpop.loc[controlindices][\"srv_time_mon\"]\n",
    "Econtrol = resgoodpop.loc[controlindices][\"STAT_REC_Dead\"]\n",
    "\n",
    "Ttreatment = resgoodpop.loc[treatmentindices][\"srv_time_mon\"]\n",
    "Etreatment = resgoodpop.loc[treatmentindices][\"STAT_REC_Dead\"]\n",
    "\n",
    "Tpop = resgoodpop[\"srv_time_mon\"]\n",
    "Epop = resgoodpop[\"STAT_REC_Dead\"]\n",
    "\n",
    "kmfpop.fit(Tpop, event_observed=Epop,label='All left-sided breast');\n",
    "kmfcontrol.fit(Tcontrol, event_observed=Econtrol,label='No Radiation Group (control group)')\n",
    "kmftreatment.fit(Ttreatment, event_observed=Etreatment, label='Radiation Group (treatment group)')\n",
    "#ax = kmfpop.plot()\n",
    "#ax = kmfcontrol.plot()\n",
    "#kmftreatment.plot(ax=ax)\n",
    "#plt.title(\"Left-sided breast cancer patients Kaplan-Meier Curve (95% CI) \\n Pre-Matching\");"
   ]
  },
  {
   "cell_type": "code",
   "execution_count": 18,
   "metadata": {
    "collapsed": false,
    "slideshow": {
     "slide_type": "slide"
    }
   },
   "outputs": [
    {
     "data": {
      "image/png": "[encoded data removed]",
      "text/plain": [
       "<matplotlib.figure.Figure at 0xc22d5a58>"
      ]
     },
     "metadata": {},
     "output_type": "display_data"
    }
   ],
   "source": [
    "ax = kmfcontrol.plot()\n",
    "kmftreatment.plot(ax=ax)\n",
    "plt.title(\"Left-sided breast cancer Kaplan-Meier Curve (95% CI) \\n Pre-Matching\");"
   ]
  },
  {
   "cell_type": "markdown",
   "metadata": {
    "slideshow": {
     "slide_type": "slide"
    }
   },
   "source": [
    "## <font color='steelblue'>Clearly, there is a huge benefit to receiving radiation</font>\n",
    "\n",
    "However, one could logically argue that it is not radiation treatment that is leading to the better survival prognosis, but rather some other feature that leads to better prognosis is also leading to a greater likelihood of receiving radiation therapy. So that we are not really comparing apples to apples when we calculate these two survival curves. To answer this objection, we need to perform patient matching, so that we are really comparing apples to apples and that any marked difference in the survival curves can be confidently attributed to the posistive effects of radiation."
   ]
  },
  {
   "cell_type": "code",
   "execution_count": 19,
   "metadata": {
    "collapsed": true,
    "slideshow": {
     "slide_type": "skip"
    }
   },
   "outputs": [],
   "source": [
    "resgoodpop['YR_BRTH'] = resgoodpop['YR_BRTH'].astype('int')\n",
    "resgoodpop['AGE_DX'] = resgoodpop['AGE_DX'].astype('int')\n",
    "resgoodpop['CSTUMSIZ'] = resgoodpop['CSTUMSIZ'].astype('float')\n",
    "resgoodpop['lat'] = resgoodpop['lat'].astype('float')\n",
    "resgoodpop['lng'] = resgoodpop['lng'].astype('float')\n",
    "resgoodpop['srv_time_mon'] = resgoodpop['srv_time_mon'].astype('float')\n",
    "\n",
    "newcolumns = list(resgoodpop.columns)\n",
    "\n",
    "\n",
    "newcolumns.remove('srv_time_mon')\n",
    "newcolumns.remove('STAT_REC_Alive')\n",
    "newcolumns.remove('STAT_REC_Dead')\n",
    "newcolumns.remove('SEX_Female')\n",
    "\n",
    "resgreatpop = resgoodpop[newcolumns].copy()"
   ]
  },
  {
   "cell_type": "code",
   "execution_count": 20,
   "metadata": {
    "collapsed": true,
    "slideshow": {
     "slide_type": "skip"
    }
   },
   "outputs": [],
   "source": [
    "resgreatpop['PUBCSNUM'] = resgreatpop.index\n",
    "leaguefilter = (resgreatpop['PUBCSNUM'].loc[treatmentindices])\n",
    "resgreatpop['League'] = resgreatpop['PUBCSNUM'].isin(treatmentindices).astype('int')\n",
    "del resgreatpop['PUBCSNUM']\n",
    "dftree = resgreatpop.copy()\n",
    "\n",
    "y = dftree['League'].copy()\n",
    "del dftree['League']"
   ]
  },
  {
   "cell_type": "code",
   "execution_count": 21,
   "metadata": {
    "collapsed": true,
    "slideshow": {
     "slide_type": "skip"
    }
   },
   "outputs": [],
   "source": [
    "from sklearn.metrics import roc_curve, auc\n",
    "from sklearn.preprocessing import label_binarize, StandardScaler\n",
    "from sklearn.multiclass import OneVsRestClassifier\n",
    "\n",
    "import numpy as np\n",
    "import pandas as pd\n",
    "import datetime\n",
    "import matplotlib.pyplot as plot\n",
    "#import psycopg2\n",
    "import random\n",
    "from sklearn import ensemble\n",
    "from sklearn.metrics import mean_squared_error, mean_absolute_error\n",
    "from sklearn.cross_validation import StratifiedShuffleSplit\n",
    "import pylab as plot\n",
    "from pandas import DataFrame, Series\n",
    "from sklearn import metrics\n",
    "from sklearn.neighbors import KNeighborsClassifier\n",
    "from sklearn.cross_validation import KFold\n",
    "from sklearn.feature_extraction import DictVectorizer\n",
    "from sklearn import feature_extraction\n",
    "from sklearn.cross_validation import train_test_split\n",
    "from sklearn.feature_extraction import DictVectorizer as DV\n",
    "from sklearn.linear_model import LinearRegression\n",
    "from sklearn.cross_validation import cross_val_score\n",
    "from sklearn.preprocessing import StandardScaler\n",
    "from sklearn.linear_model import SGDRegressor\n",
    "from sklearn.linear_model.logistic import LogisticRegression\n",
    "from sklearn.metrics import confusion_matrix\n",
    "from sklearn.metrics import accuracy_score\n",
    "from sklearn.metrics import roc_curve, auc\n",
    "from sklearn.tree import DecisionTreeClassifier\n",
    "from sklearn.metrics import classification_report\n",
    "from sklearn.pipeline import Pipeline\n",
    "from sklearn.grid_search import GridSearchCV\n",
    "from sklearn.grid_search import ParameterGrid\n",
    "from sklearn.decomposition import PCA\n",
    "from mpl_toolkits.mplot3d import Axes3D\n",
    "#from sklearn.neural_network import MultilayerPerceptronClassifier\n",
    "from sklearn.neural_network import BernoulliRBM\n",
    "from sklearn.svm import SVC\n",
    "import pylab as pl\n",
    "from sklearn.decomposition import RandomizedPCA\n",
    "from itertools import cycle\n",
    "from sklearn.cross_validation import ShuffleSplit\n",
    "from scipy.stats import sem\n",
    "from pprint import pprint\n",
    "from math import sqrt, fabs, exp\n",
    "import matplotlib.pyplot as plot\n",
    "from sklearn.cross_validation import train_test_split\n",
    "from sklearn import ensemble\n",
    "from sklearn.metrics import roc_auc_score, roc_curve\n",
    "import numpy\n",
    "from sklearn.preprocessing import OneHotEncoder\n",
    "from sklearn.preprocessing import LabelEncoder\n",
    "from pandas.tools.plotting import lag_plot"
   ]
  },
  {
   "cell_type": "markdown",
   "metadata": {
    "slideshow": {
     "slide_type": "slide"
    }
   },
   "source": [
    "This brute force method of finding similar patients characterized by points in a high-dimensional space is possible for this data set as well as for Big Data sized data sets thanks to a data structure called a KDTree. In order to construct the KDTree, we first need to transform the numeric data so that all of the different features contribute equally to the euclidean distance between patients/records. For example, **AGE_DX** is on the order of 60 or so, while **YR_BRTH** is around 1960. Without standardization, **YR_BRTH** would contribute much more to the distance between patients than **AGE_DX**. the result of standardization (or Z-score normalization) is that features will be rescaled so that they will have the properties of a standard normal distribution with\n",
    "\n",
    "$\n",
    "\\mu = 0$ and $\\sigma = 1$\n",
    "\n",
    "where $\\mu$ is the mean (average) and $\\sigma$ is the standard deviation from the mean; standard deviation scores (also called z-scores) are then calculated as follows:\n",
    "\n",
    "$\n",
    "z_{i} = \\frac{x_{i} -\\mu}{\\sigma}\n",
    "$"
   ]
  },
  {
   "cell_type": "code",
   "execution_count": 22,
   "metadata": {
    "collapsed": false,
    "slideshow": {
     "slide_type": "slide"
    }
   },
   "outputs": [
    {
     "name": "stdout",
     "output_type": "stream",
     "text": [
      "[[-0.08351446 -0.34425379  0.88890672 ..., -0.44205836  0.84332737\n",
      "   1.4115178 ]\n",
      " [-0.08351446 -0.34425379  0.88890672 ..., -0.39939058  0.85793605\n",
      "   1.43914214]\n",
      " [-0.08351446 -0.34425379 -1.12497744 ..., -0.3567228   0.84332737\n",
      "   1.4115178 ]\n",
      " ..., \n",
      " [-0.08351446 -0.34425379  0.88890672 ..., -0.05804836 -1.51397547\n",
      "   0.44581432]\n",
      " [-0.08351446 -0.34425379  0.88890672 ...,  0.83797497 -1.50646777\n",
      "   0.63377969]\n",
      " [-0.08351446 -0.34425379 -1.12497744 ..., -0.69806502 -1.39163386\n",
      "   0.6043983 ]]\n"
     ]
    }
   ],
   "source": [
    "xTrain = dftree.values\n",
    "xTrain = StandardScaler().fit_transform(xTrain)\n",
    "from sklearn.neighbors import KDTree\n",
    "print(xTrain)"
   ]
  },
  {
   "cell_type": "code",
   "execution_count": 23,
   "metadata": {
    "collapsed": true,
    "slideshow": {
     "slide_type": "skip"
    }
   },
   "outputs": [],
   "source": [
    "from sklearn.neighbors import KDTree\n",
    "kdt = KDTree(xTrain, leaf_size=30)"
   ]
  },
  {
   "cell_type": "markdown",
   "metadata": {
    "slideshow": {
     "slide_type": "slide"
    }
   },
   "source": [
    "## <font color='steelblue'>Here is a video explaining the construction of a KDTree</font>"
   ]
  },
  {
   "cell_type": "code",
   "execution_count": 24,
   "metadata": {
    "collapsed": false,
    "slideshow": {
     "slide_type": "fragment"
    }
   },
   "outputs": [
    {
     "data": {
      "image/jpeg": "[encoded data removed]",
      "text/html": [
       "\n",
       "        <iframe\n",
       "            width=\"400\"\n",
       "            height=\"300\"\n",
       "            src=\"https://www.youtube.com/embed/LdaL-l2S76c\"\n",
       "            frameborder=\"0\"\n",
       "            allowfullscreen\n",
       "        ></iframe>\n",
       "        "
      ],
      "text/plain": [
       "<IPython.lib.display.YouTubeVideo at 0x14964f0b8>"
      ]
     },
     "execution_count": 24,
     "metadata": {},
     "output_type": "execute_result"
    }
   ],
   "source": [
    "from IPython.display import YouTubeVideo\n",
    "YouTubeVideo('LdaL-l2S76c')"
   ]
  },
  {
   "cell_type": "code",
   "execution_count": 25,
   "metadata": {
    "collapsed": true,
    "slideshow": {
     "slide_type": "skip"
    }
   },
   "outputs": [],
   "source": [
    "dftreeleague = dftree.copy()\n",
    "dftreeleague['League'] = y\n",
    "\n",
    "def get_league(x):\n",
    "    return dftreeleague['League'].loc[x]\n",
    "\n",
    "dist4, ind4 = kdt.query(xTrain, k=4, return_distance=True)"
   ]
  },
  {
   "cell_type": "markdown",
   "metadata": {
    "slideshow": {
     "slide_type": "slide"
    }
   },
   "source": [
    "### <font color='steelblue'>Finding the distances to all of the 4 nearest neighbors for each patient took about one hour. That may sound like a long time, but is nothing compared to a brute force method."
   ]
  },
  {
   "cell_type": "code",
   "execution_count": 68,
   "metadata": {
    "collapsed": true,
    "slideshow": {
     "slide_type": "skip"
    }
   },
   "outputs": [],
   "source": [
    "\n",
    "dftreeleague['nearest'] = pd.Series(ind4[:,0],index=dftreeleague.index)\n",
    "dftreeleague['neighbor_1'] = pd.Series(ind4[:,1],index=dftreeleague.index)\n",
    "dftreeleague['neighbor_2'] = pd.Series(ind4[:,2],index=dftreeleague.index)\n",
    "dftreeleague['neighbor_3'] = pd.Series(ind4[:,3],index=dftreeleague.index)\n",
    "dftreeleague['distance_1'] = pd.Series(dist4[:,1],index=dftreeleague.index)\n",
    "dftreeleague['distance_2'] = pd.Series(dist4[:,2],index=dftreeleague.index)\n",
    "dftreeleague['distance_3'] = pd.Series(dist4[:,3],index=dftreeleague.index)\n",
    "\n",
    "dfmap = {v: dftreeleague.index[v] for v in range(dftreeleague.shape[0])}"
   ]
  },
  {
   "cell_type": "code",
   "execution_count": 69,
   "metadata": {
    "collapsed": false,
    "slideshow": {
     "slide_type": "skip"
    }
   },
   "outputs": [
    {
     "data": {
      "text/html": [
       "<div>\n",
       "<table border=\"1\" class=\"dataframe\">\n",
       "  <thead>\n",
       "    <tr style=\"text-align: right;\">\n",
       "      <th></th>\n",
       "      <th>neighbor_1</th>\n",
       "      <th>distance_1</th>\n",
       "      <th>neighbor_1_League</th>\n",
       "    </tr>\n",
       "    <tr>\n",
       "      <th>PUBCSNUM</th>\n",
       "      <th></th>\n",
       "      <th></th>\n",
       "      <th></th>\n",
       "    </tr>\n",
       "  </thead>\n",
       "  <tbody>\n",
       "    <tr>\n",
       "      <th>7006495</th>\n",
       "      <td>93416670</td>\n",
       "      <td>0.449665</td>\n",
       "      <td>1</td>\n",
       "    </tr>\n",
       "    <tr>\n",
       "      <th>8361617</th>\n",
       "      <td>93386866</td>\n",
       "      <td>0.489732</td>\n",
       "      <td>1</td>\n",
       "    </tr>\n",
       "    <tr>\n",
       "      <th>11734799</th>\n",
       "      <td>92034674</td>\n",
       "      <td>0.172058</td>\n",
       "      <td>1</td>\n",
       "    </tr>\n",
       "    <tr>\n",
       "      <th>11735426</th>\n",
       "      <td>11738703</td>\n",
       "      <td>0.313372</td>\n",
       "      <td>1</td>\n",
       "    </tr>\n",
       "    <tr>\n",
       "      <th>11735672</th>\n",
       "      <td>11741966</td>\n",
       "      <td>0.301413</td>\n",
       "      <td>1</td>\n",
       "    </tr>\n",
       "    <tr>\n",
       "      <th>11735974</th>\n",
       "      <td>11734918</td>\n",
       "      <td>0.056895</td>\n",
       "      <td>1</td>\n",
       "    </tr>\n",
       "    <tr>\n",
       "      <th>11736143</th>\n",
       "      <td>11743779</td>\n",
       "      <td>0.335930</td>\n",
       "      <td>1</td>\n",
       "    </tr>\n",
       "    <tr>\n",
       "      <th>11736154</th>\n",
       "      <td>92012002</td>\n",
       "      <td>0.456247</td>\n",
       "      <td>1</td>\n",
       "    </tr>\n",
       "    <tr>\n",
       "      <th>11737673</th>\n",
       "      <td>92065220</td>\n",
       "      <td>0.314939</td>\n",
       "      <td>1</td>\n",
       "    </tr>\n",
       "    <tr>\n",
       "      <th>11737698</th>\n",
       "      <td>11739319</td>\n",
       "      <td>0.407031</td>\n",
       "      <td>1</td>\n",
       "    </tr>\n",
       "  </tbody>\n",
       "</table>\n",
       "</div>"
      ],
      "text/plain": [
       "          neighbor_1  distance_1  neighbor_1_League\n",
       "PUBCSNUM                                           \n",
       "7006495     93416670    0.449665                  1\n",
       "8361617     93386866    0.489732                  1\n",
       "11734799    92034674    0.172058                  1\n",
       "11735426    11738703    0.313372                  1\n",
       "11735672    11741966    0.301413                  1\n",
       "11735974    11734918    0.056895                  1\n",
       "11736143    11743779    0.335930                  1\n",
       "11736154    92012002    0.456247                  1\n",
       "11737673    92065220    0.314939                  1\n",
       "11737698    11739319    0.407031                  1"
      ]
     },
     "execution_count": 69,
     "metadata": {},
     "output_type": "execute_result"
    }
   ],
   "source": [
    "def get_pubcsnum(x,transformationdict = dfmap):\n",
    "    return dfmap[x]\n",
    "\n",
    "\n",
    "dftreeleague['neighbor_1'] = dftreeleague['neighbor_1'].apply(get_pubcsnum)\n",
    "dftreeleague['neighbor_2'] = dftreeleague['neighbor_2'].apply(get_pubcsnum)\n",
    "dftreeleague['neighbor_3'] = dftreeleague['neighbor_3'].apply(get_pubcsnum)\n",
    "\n",
    "def get_league(x):\n",
    "    return dftreeleague['League'].loc[x]\n",
    "\n",
    "dftreeleague['neighbor_1_League'] = dftreeleague['neighbor_1'].apply(get_league)\n",
    "dftreeleague['neighbor_2_League'] = dftreeleague['neighbor_2'].apply(get_league)\n",
    "dftreeleague['neighbor_3_League'] = dftreeleague['neighbor_3'].apply(get_league)\n",
    "\n",
    "neighbor_1_match = (dftreeleague['neighbor_1_League'] == 1)\n",
    "\n",
    "dist1filter = (dftreeleague['distance_1'] <= .5)\n",
    "dist2filter = (dftreeleague['distance_2'] <= .5)\n",
    "dist3filter = (dftreeleague['distance_3'] <= .5)\n",
    "\n",
    "one = dftreeleague[['neighbor_1','distance_1',\n",
    "                  'neighbor_1_League'\n",
    "]][(dftreeleague['neighbor_1_League'] != dftreeleague['League']) & (neighbor_1_match) & (dist1filter)].copy()\n",
    "\n",
    "\n",
    "neighbor_2_match = (dftreeleague['neighbor_2_League'] == 1)\n",
    "\n",
    "two = dftreeleague[['neighbor_2','distance_2',\n",
    "                  'neighbor_2_League'\n",
    "]][(dftreeleague['neighbor_2_League'] != dftreeleague['League']) & (neighbor_2_match) & (dist2filter)].copy()\n",
    "\n",
    "\n",
    "neighbor_3_match = (dftreeleague['neighbor_3_League'] == 1)\n",
    "\n",
    "three = dftreeleague[['neighbor_3','distance_3',\n",
    "                  'neighbor_3_League'\n",
    "]][(dftreeleague['neighbor_3_League'] != dftreeleague['League']) & (neighbor_3_match) & (dist3filter) ].copy()\n",
    "\n",
    "one.head(10)"
   ]
  },
  {
   "cell_type": "code",
   "execution_count": 70,
   "metadata": {
    "collapsed": false,
    "slideshow": {
     "slide_type": "skip"
    }
   },
   "outputs": [
    {
     "name": "stdout",
     "output_type": "stream",
     "text": [
      "10000\n",
      "9521\n"
     ]
    }
   ],
   "source": [
    "\n",
    "onedict = one['neighbor_1'].to_dict()\n",
    "twodict = two['neighbor_2'].to_dict()\n",
    "threedict = three['neighbor_3'].to_dict()\n",
    "\n",
    "from collections import defaultdict\n",
    "\n",
    "dd = defaultdict(list)\n",
    "\n",
    "for d in (onedict, twodict):\n",
    "    for key, value in d.items():\n",
    "        dd[key].append(value)\n",
    "        \n",
    "        \n",
    "\n",
    "goodcontrolteams = list(dd.keys())\n",
    "\n",
    "goodtreatmentteams = list(dd.values())\n",
    "matches = list(set([item for sublist in goodtreatmentteams for item in sublist]))\n",
    "\n",
    "treatmentindices = matches\n",
    "controlindices = goodcontrolteams\n",
    "print(len(treatmentindices))\n",
    "print(len(controlindices))"
   ]
  },
  {
   "cell_type": "markdown",
   "metadata": {
    "slideshow": {
     "slide_type": "slide"
    }
   },
   "source": [
    "## <font color='steelblue'>Need to do a one-to-one matching (where each member of the control group is matched to one and only one member of the treatment group, and vice-versa)</font>"
   ]
  },
  {
   "cell_type": "code",
   "execution_count": 71,
   "metadata": {
    "collapsed": true,
    "slideshow": {
     "slide_type": "skip"
    }
   },
   "outputs": [],
   "source": [
    "d_one_to_one = {k: dd[k][0] for k in dd}\n",
    "d_c_t = {}\n",
    "\n",
    "for key, value in d_one_to_one.items():\n",
    "    if value not in d_c_t.values():\n",
    "        d_c_t[key] = value\n",
    "        \n",
    "controlindices = list(d_c_t.keys())\n",
    "treatmentindices = list(d_c_t.values())     "
   ]
  },
  {
   "cell_type": "code",
   "execution_count": 72,
   "metadata": {
    "collapsed": false,
    "slideshow": {
     "slide_type": "fragment"
    }
   },
   "outputs": [
    {
     "name": "stdout",
     "output_type": "stream",
     "text": [
      "8568 8568\n"
     ]
    }
   ],
   "source": [
    "controlindices = list(d_c_t.keys())\n",
    "treatmentindices = list(d_c_t.values())\n",
    "\n",
    "print(len(controlindices), len(treatmentindices))"
   ]
  },
  {
   "cell_type": "markdown",
   "metadata": {
    "slideshow": {
     "slide_type": "fragment"
    }
   },
   "source": [
    "So we have 8568 control patients matched very closely (distance less than .5 in the high-dimensional space) to 8568 treatment patients. This is a good-sized group and will allow us to draw definitive statistical inferences."
   ]
  },
  {
   "cell_type": "markdown",
   "metadata": {
    "slideshow": {
     "slide_type": "slide"
    }
   },
   "source": [
    "## <font color='steelblue'>Now here is the Kaplan-Meier plot for the post-matching treatment and control groups</font>\n",
    "\n"
   ]
  },
  {
   "cell_type": "code",
   "execution_count": 73,
   "metadata": {
    "collapsed": false,
    "slideshow": {
     "slide_type": "skip"
    }
   },
   "outputs": [
    {
     "data": {
      "text/plain": [
       "<lifelines.KaplanMeierFitter: fitted with 8568 observations, 8014 censored>"
      ]
     },
     "execution_count": 73,
     "metadata": {},
     "output_type": "execute_result"
    }
   ],
   "source": [
    "from lifelines import KaplanMeierFitter\n",
    "\n",
    "#kmfpop = KaplanMeierFitter()\n",
    "kmfcontrolpost = KaplanMeierFitter()\n",
    "kmftreatmentpost = KaplanMeierFitter()\n",
    "\n",
    "Tcontrol = resgoodpop.loc[controlindices][\"srv_time_mon\"]\n",
    "Econtrol = resgoodpop.loc[controlindices][\"STAT_REC_Dead\"]\n",
    "\n",
    "Ttreatment = resgoodpop.loc[treatmentindices][\"srv_time_mon\"]\n",
    "Etreatment = resgoodpop.loc[treatmentindices][\"STAT_REC_Dead\"]\n",
    "\n",
    "Tpop = resgoodpop[\"srv_time_mon\"]\n",
    "Epop = resgoodpop[\"STAT_REC_Dead\"]\n",
    "\n",
    "#kmfpop.fit(Tpop, event_observed=Epop,label='All Nasopharynx');\n",
    "kmfcontrolpost.fit(Tcontrol, event_observed=Econtrol,label='No Radiation Group (control group; post-matching)')\n",
    "kmftreatmentpost.fit(Ttreatment, event_observed=Etreatment, label='Radiation Group (treatment group; post-matching)')\n",
    "#ax = kmfpop.plot()\n",
    "###ax = kmfcontrol.plot()\n",
    "###kmftreatment.plot(ax=ax)\n",
    "###plt.title(\"Nasopharynx Kaplan-Meier Curve (95% CI) \\n Post-Matching\");"
   ]
  },
  {
   "cell_type": "code",
   "execution_count": 74,
   "metadata": {
    "collapsed": false,
    "slideshow": {
     "slide_type": "slide"
    }
   },
   "outputs": [
    {
     "data": {
      "image/png": "[encoded data removed]",
      "text/plain": [
       "<matplotlib.figure.Figure at 0xc22e4c18>"
      ]
     },
     "metadata": {},
     "output_type": "display_data"
    }
   ],
   "source": [
    "ax = kmfcontrolpost.plot()\n",
    "kmftreatmentpost.plot(ax=ax)\n",
    "#kmfcontrol.plot(ax=ax)\n",
    "#kmftreatment.plot(ax=ax)\n",
    "plt.title(\"Left-sided breast cancer Kaplan-Meier Curve (95% CI) \\n Post-Matching\");"
   ]
  },
  {
   "cell_type": "markdown",
   "metadata": {
    "slideshow": {
     "slide_type": "slide"
    }
   },
   "source": [
    "## <font color='steelblue'>Because of the matching, the observed differences in the Kaplan-Meier estimates of the survival curves for the control and treatment groups clearly show that there is a real effect and real benefit to having radiation for left-sided breast cancer survival.</font>\n",
    "\n",
    "### <font color='steelblue'>Now let's perform some paired t-tests to see if there is any demonstrable difference for some characteristics of interest</font>\n",
    "\n",
    "You may suspect that some of the patients in the control group may have opted out of radiation because they may have already been near the end of life and did not want to go through with the treatment (but our matching should have taken care of and accounted for this possibility; let's see if a t-test based on **AGE_DX** can show that this is **not** the case)."
   ]
  },
  {
   "cell_type": "code",
   "execution_count": 75,
   "metadata": {
    "collapsed": true,
    "slideshow": {
     "slide_type": "skip"
    }
   },
   "outputs": [],
   "source": [
    "control_age_dx = resgoodpop['AGE_DX'].loc[controlindices]\n",
    "treatment_age_dx = resgoodpop['AGE_DX'].loc[treatmentindices]\n",
    "dfage_comp = pd.DataFrame({'control_id': control_age_dx.index,\n",
    "                          'control_age_dx': control_age_dx.values,\n",
    "                          'treatment_id': treatment_age_dx.index,\n",
    "                          'treatment_age_dx':treatment_age_dx.values })\n",
    "dfage_comp['c_minus_t_age'] = dfage_comp.control_age_dx - dfage_comp.treatment_age_dx"
   ]
  },
  {
   "cell_type": "markdown",
   "metadata": {
    "slideshow": {
     "slide_type": "slide"
    }
   },
   "source": [
    "## <font color='steelblue'>Two-sample T-test</font>\n",
    "\n",
    "A two-sample t-test investigates whether the means of two independent data samples differ from one another. In a two-sample test, the null hypothesis is that the means of both groups are the same. "
   ]
  },
  {
   "cell_type": "code",
   "execution_count": 76,
   "metadata": {
    "collapsed": false,
    "slideshow": {
     "slide_type": "fragment"
    }
   },
   "outputs": [
    {
     "data": {
      "text/plain": [
       "Ttest_indResult(statistic=0.051834781232340976, pvalue=0.95866094571478966)"
      ]
     },
     "execution_count": 76,
     "metadata": {},
     "output_type": "execute_result"
    }
   ],
   "source": [
    "import scipy.stats as stats\n",
    "stats.ttest_ind(a=dfage_comp.control_age_dx.as_matrix(), \n",
    "               b=dfage_comp.treatment_age_dx.as_matrix(),\n",
    "               equal_var=False)   # assume samples have equal variance?"
   ]
  },
  {
   "cell_type": "markdown",
   "metadata": {
    "slideshow": {
     "slide_type": "fragment"
    }
   },
   "source": [
    "The test yields a p-value of 0.958, which means that there is a 95.8% chance we'd see sample data this far apart if the two groups actually have identical **AGE_DX** distributions. We certaintly cannot reject the null hypothesis; our matching worked and we can guarantee that the differing survival curves for the groups are not influenced by **AGE_DX**."
   ]
  },
  {
   "cell_type": "markdown",
   "metadata": {
    "slideshow": {
     "slide_type": "slide"
    }
   },
   "source": [
    "## <font color='steelblue'>Paired T-Test</font>\n",
    "\n",
    "The basic two sample t-test is designed for testing differences beween independent groups. In some cases, you might be interested in testing differences between samples of the same group at different points in time. In observational studies like those using the SEER data, the matched pairs in the control and treatment groups are considered for the purposes of paired t-tests to represent the same entity. Let's now see if there is any significant difference in **AGE_DX** between the treatment and control groups using a paired t-test"
   ]
  },
  {
   "cell_type": "code",
   "execution_count": 77,
   "metadata": {
    "collapsed": false,
    "slideshow": {
     "slide_type": "fragment"
    }
   },
   "outputs": [
    {
     "data": {
      "text/plain": [
       "Ttest_relResult(statistic=0.4125728369528634, pvalue=0.67992992990682377)"
      ]
     },
     "execution_count": 77,
     "metadata": {},
     "output_type": "execute_result"
    }
   ],
   "source": [
    "stats.ttest_rel(a = dfage_comp.control_age_dx.as_matrix(),\n",
    "                b = dfage_comp.treatment_age_dx.as_matrix())"
   ]
  },
  {
   "cell_type": "markdown",
   "metadata": {
    "slideshow": {
     "slide_type": "fragment"
    }
   },
   "source": [
    "## <font color='steelblue'>The paired T-Test also indicates that we actually do not have enough evidence to reject the null hypothesis.</font>"
   ]
  },
  {
   "cell_type": "code",
   "execution_count": 78,
   "metadata": {
    "collapsed": true,
    "slideshow": {
     "slide_type": "skip"
    }
   },
   "outputs": [],
   "source": [
    "apost = dftreeleague['AGE_DX'][treatmentindices]\n",
    "bpost = dftreeleague['AGE_DX'][controlindices]"
   ]
  },
  {
   "cell_type": "code",
   "execution_count": 109,
   "metadata": {
    "collapsed": false,
    "slideshow": {
     "slide_type": "slide"
    }
   },
   "outputs": [
    {
     "data": {
      "image/png": "[encoded data removed]",
      "text/plain": [
       "<matplotlib.figure.Figure at 0x1658d630>"
      ]
     },
     "metadata": {},
     "output_type": "display_data"
    }
   ],
   "source": [
    "\n",
    "ax = bpost.hist(bins=15,color='LightSteelBlue',normed=True,label='Radiation (treatment group)')\n",
    "bpost.plot(kind='kde',lw=3, color='LightSteelBlue', ax=ax, label='Treatment group KDE')\n",
    "apost.hist(bins=15,color='yellow',normed=True,alpha=.5,label='NonRad (control group)')\n",
    "apost.plot(kind='kde',lw=3, color='yellow', ax=ax, label='Control group KDE')\n",
    "plt.title('Histogram and KDE for age at dx for the control group and treatment group')\n",
    "plt.xlabel('age at dx (yr)')\n",
    "plt.legend();"
   ]
  },
  {
   "cell_type": "code",
   "execution_count": 80,
   "metadata": {
    "collapsed": false,
    "slideshow": {
     "slide_type": "slide"
    }
   },
   "outputs": [
    {
     "data": {
      "text/plain": [
       "count    8568.000000\n",
       "mean       60.562092\n",
       "std        11.265470\n",
       "min        27.000000\n",
       "25%        52.000000\n",
       "50%        60.000000\n",
       "75%        68.000000\n",
       "max        91.000000\n",
       "Name: control_age_dx, dtype: float64"
      ]
     },
     "execution_count": 80,
     "metadata": {},
     "output_type": "execute_result"
    }
   ],
   "source": [
    "dfage_comp.control_age_dx.describe()"
   ]
  },
  {
   "cell_type": "code",
   "execution_count": 81,
   "metadata": {
    "collapsed": false,
    "slideshow": {
     "slide_type": "slide"
    }
   },
   "outputs": [
    {
     "data": {
      "text/plain": [
       "count    8568.000000\n",
       "mean       60.553221\n",
       "std        11.135160\n",
       "min        28.000000\n",
       "25%        52.000000\n",
       "50%        60.000000\n",
       "75%        68.000000\n",
       "max        92.000000\n",
       "Name: treatment_age_dx, dtype: float64"
      ]
     },
     "execution_count": 81,
     "metadata": {},
     "output_type": "execute_result"
    }
   ],
   "source": [
    "dfage_comp.treatment_age_dx.describe()"
   ]
  },
  {
   "cell_type": "markdown",
   "metadata": {
    "slideshow": {
     "slide_type": "slide"
    }
   },
   "source": [
    "## <font color='steelblue'>Who is more likely to have insurance: Treatment (treated with rad) or Control (not treated with rad) left-sided breast cancer patients</font>\n",
    "\n",
    "Silly question!!! Just illustrating the methodology\n",
    "\n",
    "We will answer this question using Bayesian A/B testing.\n",
    "\n",
    "We can use Bayesian A/B testing for all questions with a binary outcome, where either the desired event occured or not, or where  the desired feature is present or not."
   ]
  },
  {
   "cell_type": "code",
   "execution_count": 82,
   "metadata": {
    "collapsed": false,
    "slideshow": {
     "slide_type": "skip"
    }
   },
   "outputs": [
    {
     "data": {
      "text/plain": [
       "Insured                     5156\n",
       "Insured/No specifics         786\n",
       "Any Medicaid                 253\n",
       "Insurance status unknown      62\n",
       "Uninsured                     45\n",
       "Name: INSREC_PUB, dtype: int64"
      ]
     },
     "execution_count": 82,
     "metadata": {},
     "output_type": "execute_result"
    }
   ],
   "source": [
    "dfbayes = dfbreast.set_index('PUBCSNUM').copy()\n",
    "\n",
    "# the matched treatment patients insurance status; ignores the missing values\n",
    "dfbayes['INSREC_PUB'][treatmentindices].value_counts()\n",
    "# so the probability a treatment patient is insured is"
   ]
  },
  {
   "cell_type": "code",
   "execution_count": 83,
   "metadata": {
    "collapsed": false,
    "slideshow": {
     "slide_type": "slide"
    }
   },
   "outputs": [
    {
     "data": {
      "text/plain": [
       "0.81815296731196441"
      ]
     },
     "execution_count": 83,
     "metadata": {},
     "output_type": "execute_result"
    }
   ],
   "source": [
    "treatmentinsured = dfbayes['INSREC_PUB'][treatmentindices].value_counts()['Insured']\n",
    "treatmenttotal = dfbayes['INSREC_PUB'][treatmentindices].value_counts().sum()\n",
    "probtreatment = treatmentinsured/treatmenttotal\n",
    "probtreatment"
   ]
  },
  {
   "cell_type": "code",
   "execution_count": 84,
   "metadata": {
    "collapsed": false,
    "slideshow": {
     "slide_type": "slide"
    }
   },
   "outputs": [
    {
     "data": {
      "text/plain": [
       "0.7973337565465799"
      ]
     },
     "execution_count": 84,
     "metadata": {},
     "output_type": "execute_result"
    }
   ],
   "source": [
    "\n",
    "controlinsured = dfbayes['INSREC_PUB'][controlindices].value_counts()['Insured']\n",
    "controltotal = dfbayes['INSREC_PUB'][controlindices].value_counts().sum()\n",
    "probcontrol = controlinsured/controltotal\n",
    "probcontrol"
   ]
  },
  {
   "cell_type": "markdown",
   "metadata": {
    "slideshow": {
     "slide_type": "slide"
    }
   },
   "source": [
    "## <font color='steelblue'>Can use Bayesian A/B testing to see if we hvae enough data to see if the probability difference of having insurance between treatment and control groups for left-sided breast cancer patients is significant or not (a real effect or dur to chance and small numbers).</font>"
   ]
  },
  {
   "cell_type": "code",
   "execution_count": 85,
   "metadata": {
    "collapsed": false,
    "slideshow": {
     "slide_type": "slide"
    }
   },
   "outputs": [
    {
     "data": {
      "text/plain": [
       "0.99852249999999998"
      ]
     },
     "execution_count": 85,
     "metadata": {},
     "output_type": "execute_result"
    }
   ],
   "source": [
    "TREATMENT_INSURED = treatmentinsured\n",
    "CONTROL_INSURED = controlinsured\n",
    "TREATMENT_TOTAL = treatmenttotal\n",
    "CONTROL_TOTAL = controltotal\n",
    "\n",
    "from scipy.stats import beta\n",
    "alpha_prior = 1\n",
    "beta_prior = 1\n",
    "\n",
    "posterior_treatment = beta(alpha_prior + TREATMENT_INSURED, beta_prior + TREATMENT_TOTAL - TREATMENT_INSURED)\n",
    "\n",
    "posterior_control = beta(alpha_prior + CONTROL_INSURED, beta_prior + CONTROL_TOTAL - CONTROL_INSURED)\n",
    "\n",
    "\n",
    "samples = 2000000\n",
    "\n",
    "samples_posterior_treatment = posterior_treatment.rvs(samples)\n",
    "\n",
    "samples_posterior_control = posterior_control.rvs(samples)\n",
    "\n",
    "(samples_posterior_treatment > samples_posterior_control).mean()"
   ]
  },
  {
   "cell_type": "markdown",
   "metadata": {
    "slideshow": {
     "slide_type": "slide"
    }
   },
   "source": [
    "## <font color='steelblue'>So we can say that we are 99.8% certain that patients receiving radiation (as a group) are more likely than patients that do not receive radiation (as a group) to have health insurance.</font>\n",
    "\n",
    "Shameful. If the patients  that did not have health insurance had in fact been insured, it is almost certain that their prognosis would have been better (they likely would have opted for radiation treatment). Infuriating."
   ]
  },
  {
   "cell_type": "code",
   "execution_count": 87,
   "metadata": {
    "collapsed": false,
    "slideshow": {
     "slide_type": "slide"
    }
   },
   "outputs": [
    {
     "data": {
      "image/png": "[encoded data removed]",
      "text/plain": [
       "<matplotlib.figure.Figure at 0xc2126d30>"
      ]
     },
     "metadata": {},
     "output_type": "display_data"
    }
   ],
   "source": [
    "x = np.linspace(0,1, 50000)\n",
    "plt.plot(x, posterior_treatment.pdf(x), label='posterior of treatment')\n",
    "plt.plot(x, posterior_control.pdf(x), label='posterior of control');\n",
    "plt.xlabel('Value')\n",
    "plt.ylabel('Density')\n",
    "plt.title(\"\"\"Posterior distributions of the treatment and control \\n \n",
    "left-sided breast cancer patients probablities of being insured\"\"\")\n",
    "plt.legend();\n"
   ]
  },
  {
   "cell_type": "code",
   "execution_count": 89,
   "metadata": {
    "collapsed": false,
    "slideshow": {
     "slide_type": "skip"
    }
   },
   "outputs": [
    {
     "name": "stdout",
     "output_type": "stream",
     "text": [
      "(1448798, 141)\n"
     ]
    }
   ],
   "source": [
    "import seerhelp\n",
    "breastfiles = seerhelp.get_breastfiles()\n",
    "breastfiles\n",
    "\n",
    "dfbreast0 = seerhelp.make_clean_dataframe(breastfiles[0])\n",
    "dfbreast1 = seerhelp.make_clean_dataframe(breastfiles[1])\n",
    "dfbreast2 = seerhelp.make_clean_dataframe(breastfiles[2])\n",
    "dfbreast3 = seerhelp.make_clean_dataframe(breastfiles[3])\n",
    "\n",
    "dfbreastorig = pd.concat([dfbreast0, dfbreast1, dfbreast2,\n",
    "                     dfbreast3], ignore_index=True)\n",
    "\n",
    "#dfother = pd.concat([dfother0, dfother1,dfother3], ignore_index=True)\n",
    "\n",
    "print(dfbreastorig.shape)\n",
    "\n",
    "del dfbreast0\n",
    "del dfbreast1\n",
    "del dfbreast2\n",
    "del dfbreast3"
   ]
  },
  {
   "cell_type": "code",
   "execution_count": 90,
   "metadata": {
    "collapsed": true,
    "slideshow": {
     "slide_type": "skip"
    }
   },
   "outputs": [],
   "source": [
    "dfbreastorig = dfbreastorig.set_index('PUBCSNUM',drop=False)"
   ]
  },
  {
   "cell_type": "markdown",
   "metadata": {
    "slideshow": {
     "slide_type": "slide"
    }
   },
   "source": [
    "## <font color='steelblue'>Another question we can ask:</font>\n",
    "\n",
    "Are left-sided breast cancer patients receiving radiation more likely than their non-radiation matched control patients to have secondary malignancies? Interesting question."
   ]
  },
  {
   "cell_type": "code",
   "execution_count": 91,
   "metadata": {
    "collapsed": false,
    "slideshow": {
     "slide_type": "fragment"
    }
   },
   "outputs": [
    {
     "data": {
      "text/plain": [
       "1    8568\n",
       "2     310\n",
       "3      14\n",
       "Name: REC_NO, dtype: int64"
      ]
     },
     "execution_count": 91,
     "metadata": {},
     "output_type": "execute_result"
    }
   ],
   "source": [
    "dfbreastorig['REC_NO'].loc[treatmentindices].value_counts()"
   ]
  },
  {
   "cell_type": "code",
   "execution_count": 92,
   "metadata": {
    "collapsed": false,
    "slideshow": {
     "slide_type": "fragment"
    }
   },
   "outputs": [
    {
     "data": {
      "text/plain": [
       "1    8568\n",
       "2     591\n",
       "3      23\n",
       "Name: REC_NO, dtype: int64"
      ]
     },
     "execution_count": 92,
     "metadata": {},
     "output_type": "execute_result"
    }
   ],
   "source": [
    "dfbreastorig['REC_NO'].loc[controlindices].value_counts()"
   ]
  },
  {
   "cell_type": "markdown",
   "metadata": {
    "slideshow": {
     "slide_type": "slide"
    }
   },
   "source": [
    "## <font color='steelblue'>Chi-Squared Goodness-of-Fit Tests</font>\n",
    "\n",
    "The chi-squared goodness-of-fit test is an analog of the one-way t-test for categorical variables: it tests whether the distribution of sample categorical data matches an expected distribution. Tests dealing with categorical variables are based on variable counts instead of the actual value of the variables themselves."
   ]
  },
  {
   "cell_type": "code",
   "execution_count": 93,
   "metadata": {
    "collapsed": false,
    "slideshow": {
     "slide_type": "fragment"
    }
   },
   "outputs": [
    {
     "data": {
      "text/plain": [
       "Power_divergenceResult(statistic=137.12749209151769, pvalue=1.6716426137575116e-30)"
      ]
     },
     "execution_count": 93,
     "metadata": {},
     "output_type": "execute_result"
    }
   ],
   "source": [
    "recnotreatment = dfbreastorig['REC_NO'].loc[treatmentindices].value_counts()\n",
    "recnocontrol = dfbreastorig['REC_NO'].loc[controlindices].value_counts()\n",
    "\n",
    "\n",
    "stats.chisquare(recnotreatment.as_matrix(), recnocontrol.as_matrix())"
   ]
  },
  {
   "cell_type": "code",
   "execution_count": 94,
   "metadata": {
    "collapsed": false,
    "slideshow": {
     "slide_type": "slide"
    }
   },
   "outputs": [
    {
     "data": {
      "text/plain": [
       "Power_divergenceResult(statistic=260.49861751152076, pvalue=2.7129634051959643e-57)"
      ]
     },
     "execution_count": 94,
     "metadata": {},
     "output_type": "execute_result"
    }
   ],
   "source": [
    "stats.chisquare(recnocontrol.as_matrix(), recnotreatment.as_matrix())"
   ]
  },
  {
   "cell_type": "markdown",
   "metadata": {
    "slideshow": {
     "slide_type": "slide"
    }
   },
   "source": [
    "## <font color='steelblue'>So left-sided breast cancer patients who do not receive radiation are more likely to develop secondary malignancies</font>"
   ]
  },
  {
   "cell_type": "markdown",
   "metadata": {
    "slideshow": {
     "slide_type": "slide"
    }
   },
   "source": [
    "## <font color='steelblue'>Let's revisit the insurance question; this time for differences in the total distribution of possible values"
   ]
  },
  {
   "cell_type": "code",
   "execution_count": 104,
   "metadata": {
    "collapsed": false,
    "slideshow": {
     "slide_type": "fragment"
    }
   },
   "outputs": [
    {
     "data": {
      "text/plain": [
       "Insured                     5156\n",
       "Insured/No specifics         786\n",
       "Any Medicaid                 253\n",
       "Insurance status unknown      62\n",
       "Uninsured                     45\n",
       "Name: INSREC_PUB, dtype: int64"
      ]
     },
     "execution_count": 104,
     "metadata": {},
     "output_type": "execute_result"
    }
   ],
   "source": [
    "insrectreatment = dfbayes['INSREC_PUB'][treatmentindices].value_counts()\n",
    "insrectreatment"
   ]
  },
  {
   "cell_type": "code",
   "execution_count": 105,
   "metadata": {
    "collapsed": false,
    "slideshow": {
     "slide_type": "fragment"
    }
   },
   "outputs": [
    {
     "data": {
      "text/plain": [
       "Insured                     5024\n",
       "Insured/No specifics         847\n",
       "Any Medicaid                 311\n",
       "Insurance status unknown      66\n",
       "Uninsured                     53\n",
       "Name: INSREC_PUB, dtype: int64"
      ]
     },
     "execution_count": 105,
     "metadata": {},
     "output_type": "execute_result"
    }
   ],
   "source": [
    "insreccontrol = dfbayes['INSREC_PUB'][controlindices].value_counts()\n",
    "insreccontrol"
   ]
  },
  {
   "cell_type": "markdown",
   "metadata": {
    "slideshow": {
     "slide_type": "slide"
    }
   },
   "source": [
    "## <font color='steelblue'>The Chi-squared testing confirms the results of the Bayesian A/B testing</font>"
   ]
  },
  {
   "cell_type": "code",
   "execution_count": 106,
   "metadata": {
    "collapsed": false,
    "slideshow": {
     "slide_type": "fragment"
    }
   },
   "outputs": [
    {
     "data": {
      "text/plain": [
       "Power_divergenceResult(statistic=20.127996837955539, pvalue=0.0004711651127547437)"
      ]
     },
     "execution_count": 106,
     "metadata": {},
     "output_type": "execute_result"
    }
   ],
   "source": [
    "stats.chisquare(insrectreatment.as_matrix(), insreccontrol.as_matrix())"
   ]
  },
  {
   "cell_type": "code",
   "execution_count": 107,
   "metadata": {
    "collapsed": false,
    "slideshow": {
     "slide_type": "fragment"
    }
   },
   "outputs": [
    {
     "data": {
      "text/plain": [
       "Power_divergenceResult(statistic=23.090189966154387, pvalue=0.00012147947592285698)"
      ]
     },
     "execution_count": 107,
     "metadata": {},
     "output_type": "execute_result"
    }
   ],
   "source": [
    "stats.chisquare(insreccontrol.as_matrix(), insrectreatment.as_matrix())"
   ]
  },
  {
   "cell_type": "code",
   "execution_count": null,
   "metadata": {
    "collapsed": true
   },
   "outputs": [],
   "source": []
  }
 ],
 "metadata": {
  "celltoolbar": "Slideshow",
  "kernelspec": {
   "display_name": "Python 3",
   "language": "python",
   "name": "python3"
  },
  "language_info": {
   "codemirror_mode": {
    "name": "ipython",
    "version": 3
   },
   "file_extension": ".py",
   "mimetype": "text/x-python",
   "name": "python",
   "nbconvert_exporter": "python",
   "pygments_lexer": "ipython3",
   "version": "3.5.1"
  },
  "widgets": {
   "state": {},
   "version": "1.1.2"
  }
 },
 "nbformat": 4,
 "nbformat_minor": 0
}
