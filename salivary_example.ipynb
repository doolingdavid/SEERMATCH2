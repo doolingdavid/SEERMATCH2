{
 "cells": [
  {
   "cell_type": "code",
   "execution_count": 1,
   "metadata": {
    "collapsed": false,
    "slideshow": {
     "slide_type": "skip"
    }
   },
   "outputs": [
    {
     "data": {
      "text/html": [
       "<script>\n",
       "code_show=true; \n",
       "function code_toggle() {\n",
       " if (code_show){\n",
       " $('div.input').hide();\n",
       " } else {\n",
       " $('div.input').show();\n",
       " }\n",
       " code_show = !code_show\n",
       "} \n",
       "$( document ).ready(code_toggle);\n",
       "</script>\n",
       "<form action=\"javascript:code_toggle()\"><input type=\"submit\" value=\"Click here to toggle on/off the raw code.\"></form>"
      ],
      "text/plain": [
       "<IPython.core.display.HTML object>"
      ]
     },
     "execution_count": 1,
     "metadata": {},
     "output_type": "execute_result"
    }
   ],
   "source": [
    "from IPython.display import HTML\n",
    "\n",
    "HTML('''<script>\n",
    "code_show=true; \n",
    "function code_toggle() {\n",
    " if (code_show){\n",
    " $('div.input').hide();\n",
    " } else {\n",
    " $('div.input').show();\n",
    " }\n",
    " code_show = !code_show\n",
    "} \n",
    "$( document ).ready(code_toggle);\n",
    "</script>\n",
    "<form action=\"javascript:code_toggle()\"><input type=\"submit\" value=\"Click here to toggle on/off the raw code.\"></form>''')  "
   ]
  },
  {
   "cell_type": "code",
   "execution_count": 2,
   "metadata": {
    "collapsed": true,
    "slideshow": {
     "slide_type": "skip"
    }
   },
   "outputs": [],
   "source": [
    "import numpy as np\n",
    "import pandas as pd\n",
    "import matplotlib.pyplot as plt\n",
    "from pandas import Series, DataFrame\n",
    "import pytz\n",
    "from pytz import common_timezones, all_timezones\n",
    "import matplotlib\n",
    "matplotlib.style.use('ggplot')\n",
    "%matplotlib inline\n",
    "from datetime import datetime\n",
    "import scipy as sp\n",
    "import statsmodels.api as sm\n",
    "import statsmodels.formula.api as smf\n",
    "matplotlib.style.use('fivethirtyeight')\n",
    "matplotlib.style.use('seaborn-talk')\n"
   ]
  },
  {
   "cell_type": "markdown",
   "metadata": {
    "slideshow": {
     "slide_type": "slide"
    }
   },
   "source": [
    "This ipython notebook will illustrate the matching methodology we will use to match patients in the SEER-Medicare linked database. The comparison between patient outcomes between those patients who receive proton beam therapy vs traditional radiation therapy requires as a first step a matching of the two different groups. One method to perform this matching is to use Propensity Score Matching. Here we are going to illustrate a more direct method of matching using KDTrees, a data structure that allows for efficient finding of nearest neighbors in high-dimenional space."
   ]
  },
  {
   "cell_type": "markdown",
   "metadata": {
    "slideshow": {
     "slide_type": "slide"
    }
   },
   "source": [
    "We will first identify all patients that have been diagonised with some type of head and neck cancer as defined by the following primary site codes: Nasopharunx: (C110, C111, C112, C113, C118, C119) Oropharynx: (C091, C098, C099, C100, C101, C102, C103, C104, C108, C109) Salivary gland: (C079-C081, C088-C089) Pituitary gland: (C751) We will illustrate the methodology by using it on the latest release of the SEER data. We will identify all the patients with the above primary site codes. Then we will split the above patient population into two groups as follows: The treatment group, defined as the patients receiving any form of radiation the control group, defined as the patients who did not receive any form of radiation Operationally, these groups are defined by looking at the column RADIATN, which has values:"
   ]
  },
  {
   "cell_type": "markdown",
   "metadata": {
    "slideshow": {
     "slide_type": "slide"
    }
   },
   "source": [
    "| Code\t| Description |\n",
    "|:-----------:|:-----------:|\n",
    "| 0\t | None; diagnosed at autopsy |\n",
    "| 1|\tBeam radiation |\n",
    "| 2\t| Radioacative implants |\n",
    "| 3\t| Radioisotopes |\n",
    "| 4\t| Combination of 1 with 2 or 3 |\n",
    "| 5\t| Radiation, NOS - method or source not specified |\n",
    "| 6\t| Other radiation (1973-1987 cases only) |\n",
    "| 7 |\tPatient or patient's guardian refused radiation therapy |\n",
    "| 8|\tRadiation recommened, unknown if administered |\n",
    "| 9 |\tUnknown if radiation administered |"
   ]
  },
  {
   "cell_type": "markdown",
   "metadata": {
    "slideshow": {
     "slide_type": "slide"
    }
   },
   "source": [
    "So that a value of 0 defines the control group, and the values (1,2,3,4,5,6) define the treatment group. We will then perform matching between the resulting treatment and control groups.The difference between treatment patients predicted probability and the control patient's predicted probablity will then be used as the (signed) measurement for performing paired t-tests, so that any observed differences can be classed as statistically significant (or not)."
   ]
  },
  {
   "cell_type": "code",
   "execution_count": 3,
   "metadata": {
    "collapsed": false,
    "slideshow": {
     "slide_type": "skip"
    }
   },
   "outputs": [
    {
     "name": "stdout",
     "output_type": "stream",
     "text": [
      "(1581838, 141)\n"
     ]
    }
   ],
   "source": [
    "import seerhelp\n",
    "otherfiles = seerhelp.get_otherfiles()\n",
    "otherfiles\n",
    "\n",
    "dfother0 = seerhelp.make_clean_dataframe(otherfiles[0])\n",
    "dfother1 = seerhelp.make_clean_dataframe(otherfiles[1])\n",
    "dfother2 = seerhelp.make_clean_dataframe(otherfiles[2])\n",
    "dfother3 = seerhelp.make_clean_dataframe(otherfiles[3])\n",
    "\n",
    "dfother = pd.concat([dfother0, dfother1, dfother2,\n",
    "                     dfother3], ignore_index=True)\n",
    "\n",
    "#dfother = pd.concat([dfother0, dfother1,dfother3], ignore_index=True)\n",
    "\n",
    "print(dfother.shape)\n",
    "\n",
    "del dfother0\n",
    "del dfother1\n",
    "del dfother2\n",
    "del dfother3"
   ]
  },
  {
   "cell_type": "code",
   "execution_count": 4,
   "metadata": {
    "collapsed": true,
    "slideshow": {
     "slide_type": "skip"
    }
   },
   "outputs": [],
   "source": [
    "pharynxfilter = dfother.PRIMSITE.str.contains('pharynx',case=False,na=False)\n",
    "pituitaryfilter = dfother.PRIMSITE.str.contains('pituitary',na=False,case=False)\n",
    "salivaryfilter = dfother.PRIMSITE.str.contains('salivary',na=False,case=False)\n",
    "\n",
    "dfheadandneck = dfother[pharynxfilter | pituitaryfilter | salivaryfilter].copy()\n",
    "\n",
    "mask = (dfheadandneck['CSTUMSIZ'] != \"Unknown; size not stated; not stated in patient record\") & \\\n",
    "(dfheadandneck['CSTUMSIZ'] != \"Microscopic focus or foci only; no size of focus is given\") & \\\n",
    "(dfheadandneck['CSTUMSIZ'] != \"989 millimeters or larger\") & \\\n",
    "(dfheadandneck['CSTUMSIZ'] != \"Not applicable\") & \\\n",
    "(dfheadandneck['AGE_DX'] != \"Unknown age\") & \\\n",
    "(dfheadandneck['srv_time_mon_flag'] == \"Complete dates are available and there are more than 0 days of survival\") & \\\n",
    "(dfheadandneck['YEAR_DX'] >= 2004) & \\\n",
    "(dfheadandneck['CSTUMSIZ'] != \"Described as less than 1 cm\") & \\\n",
    "(dfheadandneck['CSTUMSIZ'] != \"Described as less than 2 cm\") & \\\n",
    "(dfheadandneck['CSTUMSIZ'] != \"Described as less than 3 cm\") & \\\n",
    "(dfheadandneck['CSTUMSIZ'] != 'Indicates no msas or no tumor found; for example, when a tumor of a stated primary site is not found, but the tumor has metastasized') & \\\n",
    "(dfheadandneck['CSTUMSIZ'] != \"Described as less than 4 cm\") & \\\n",
    "(dfheadandneck['CSTUMSIZ'] != \"Described as less than 5 cm\") & \\\n",
    "(dfheadandneck['CSTUMSIZ'] != \"Not applicable\") & \\\n",
    "(dfheadandneck['YR_BRTH'] != 'Unknown year of birth') & \\\n",
    "(dfheadandneck['CSTUMSIZ'] != 'Not applicable') & \\\n",
    "(dfheadandneck['CSTUMSIZ'] != 996) & \\\n",
    "(dfheadandneck['CSTUMSIZ'] != 997) & \\\n",
    "(dfheadandneck['CSTUMSIZ'] != 998) & \\\n",
    "(dfheadandneck['REC_NO'] == 1)\n",
    "\n",
    "dfheadandneck = dfheadandneck[mask]\n",
    "\n",
    "non_rad = dfheadandneck.RADIATN.str.contains('None',case=False,na=False)\n",
    "refused_rad = dfheadandneck.RADIATN.str.contains('refused',case=False,na=False)\n",
    "unknown_rad = dfheadandneck.RADIATN.str.contains('Unknown',case=False,na=False)"
   ]
  },
  {
   "cell_type": "code",
   "execution_count": 5,
   "metadata": {
    "collapsed": true,
    "slideshow": {
     "slide_type": "skip"
    }
   },
   "outputs": [],
   "source": [
    "dfcontrol = dfheadandneck[non_rad | refused_rad]\n",
    "dftreatment = dfheadandneck[~(non_rad) & ~(refused_rad) & ~(unknown_rad)]\n",
    "\n",
    "salivaryfiltercontrol = dfcontrol.PRIMSITE.str.contains('salivary',na=False,case=False)\n",
    "\n",
    "salivaryfiltertreatment = dftreatment.PRIMSITE.str.contains('salivary',na=False,case=False)\n",
    "\n",
    "dfsalicontrol = dfcontrol[salivaryfiltercontrol].copy()\n",
    "dfsalitreatment = dftreatment[salivaryfiltertreatment].copy()"
   ]
  },
  {
   "cell_type": "markdown",
   "metadata": {
    "slideshow": {
     "slide_type": "slide"
    }
   },
   "source": [
    "## <font color='steelblue'>Let's look at just the salivary cases</font>\n",
    "\n"
   ]
  },
  {
   "cell_type": "code",
   "execution_count": 6,
   "metadata": {
    "collapsed": false,
    "slideshow": {
     "slide_type": "fragment"
    }
   },
   "outputs": [
    {
     "name": "stdout",
     "output_type": "stream",
     "text": [
      "(120, 141) (111, 141)\n"
     ]
    }
   ],
   "source": [
    "print(dfsalicontrol.shape, dfsalitreatment.shape)"
   ]
  },
  {
   "cell_type": "markdown",
   "metadata": {
    "slideshow": {
     "slide_type": "slide"
    }
   },
   "source": [
    "## <font color='steelblue'>So we are going to match patients in the control group with their nearest neighbors in the treatment group</font>\n",
    "\n",
    "In order to find the nearest neighbors in the high-dimensional feature space, we need to first do some preprocessing of the data. The first step is to \"one-hot-encode\" the categorical features."
   ]
  },
  {
   "cell_type": "code",
   "execution_count": 7,
   "metadata": {
    "collapsed": true,
    "slideshow": {
     "slide_type": "skip"
    }
   },
   "outputs": [],
   "source": [
    "dfsalicontrol.set_index('PUBCSNUM', inplace=True)\n",
    "dfsalitreatment.set_index('PUBCSNUM', inplace=True)\n",
    "\n",
    "controlindices = dfsalicontrol.index\n",
    "treatmentindices = dfsalitreatment.index\n",
    "\n",
    "catcols = ['SEX','MAR_STAT','RACEIV','NHIADE','GRADE','PRIMSITE',\n",
    "          'LATERAL','HST_STGA','HISTREC','MDXRECMP','STAT_REC']\n",
    "\n",
    "goodcols = ['SEX','MAR_STAT','RACEIV','NHIADE','GRADE','PRIMSITE',\n",
    "          'LATERAL','HST_STGA','HISTREC','MDXRECMP','STAT_REC',\n",
    "           'YR_BRTH','AGE_DX','YEAR_DX','CSTUMSIZ',\n",
    "           'lat','lng']\n",
    "\n",
    "\n",
    "dfpop = pd.concat([dfsalicontrol, dfsalitreatment],verify_integrity=True)"
   ]
  },
  {
   "cell_type": "markdown",
   "metadata": {
    "slideshow": {
     "slide_type": "slide"
    }
   },
   "source": [
    "## <font color='steelblue'>Before matching, let's look at the Kaplan-Meier curves</font>"
   ]
  },
  {
   "cell_type": "code",
   "execution_count": 8,
   "metadata": {
    "collapsed": true,
    "slideshow": {
     "slide_type": "skip"
    }
   },
   "outputs": [],
   "source": [
    "resgoodcontrol = pd.concat([pd.get_dummies(dfsalicontrol[col],prefix=col) for col in catcols], axis=1)\n",
    "\n",
    "resgoodtreatment = pd.concat([pd.get_dummies(dfsalitreatment[col],prefix=col) for col in catcols], axis=1)\n",
    "\n",
    "resgoodpop = pd.concat([pd.get_dummies(dfpop[col],prefix=col) for col in catcols], axis=1)\n",
    "\n",
    "resgoodcontrol['YR_BRTH'] = dfsalicontrol['YR_BRTH']\n",
    "resgoodcontrol['AGE_DX'] = dfsalicontrol['AGE_DX']#resgood['sequence_number_central'] = dfsmall['sequence_number_central']\n",
    "resgoodcontrol['YEAR_DX'] = dfsalicontrol['YEAR_DX']\n",
    "resgoodcontrol['CSTUMSIZ'] = dfsalicontrol['CSTUMSIZ']\n",
    "resgoodcontrol['lat'] = dfsalicontrol['lat']\n",
    "resgoodcontrol['lng'] = dfsalicontrol['lng']\n",
    "resgoodcontrol['srv_time_mon'] = dfsalicontrol['srv_time_mon']\n",
    "\n",
    "\n",
    "resgoodtreatment['YR_BRTH'] = dfsalitreatment['YR_BRTH']\n",
    "resgoodtreatment['AGE_DX'] = dfsalitreatment['AGE_DX']#resgood['sequence_number_central'] = dfsmall['sequence_number_central']\n",
    "resgoodtreatment['YEAR_DX'] = dfsalitreatment['YEAR_DX']\n",
    "resgoodtreatment['CSTUMSIZ'] = dfsalitreatment['CSTUMSIZ']\n",
    "resgoodtreatment['lat'] = dfsalitreatment['lat']\n",
    "resgoodtreatment['lng'] = dfsalitreatment['lng']\n",
    "resgoodtreatment['srv_time_mon'] = dfsalitreatment['srv_time_mon']\n",
    "\n",
    "\n",
    "resgoodpop['YR_BRTH'] = dfpop['YR_BRTH']\n",
    "resgoodpop['AGE_DX'] = dfpop['AGE_DX']#resgood['sequence_number_central'] = dfsmall['sequence_number_central']\n",
    "resgoodpop['YEAR_DX'] = dfpop['YEAR_DX']\n",
    "resgoodpop['CSTUMSIZ'] = dfpop['CSTUMSIZ']\n",
    "resgoodpop['lat'] = dfpop['lat']\n",
    "resgoodpop['lng'] = dfpop['lng']\n",
    "resgoodpop['srv_time_mon'] = dfpop['srv_time_mon']"
   ]
  },
  {
   "cell_type": "code",
   "execution_count": null,
   "metadata": {
    "collapsed": true
   },
   "outputs": [],
   "source": []
  }
 ],
 "metadata": {
  "celltoolbar": "Slideshow",
  "kernelspec": {
   "display_name": "Python 3",
   "language": "python",
   "name": "python3"
  },
  "language_info": {
   "codemirror_mode": {
    "name": "ipython",
    "version": 3
   },
   "file_extension": ".py",
   "mimetype": "text/x-python",
   "name": "python",
   "nbconvert_exporter": "python",
   "pygments_lexer": "ipython3",
   "version": "3.5.1"
  },
  "widgets": {
   "state": {},
   "version": "1.1.2"
  }
 },
 "nbformat": 4,
 "nbformat_minor": 0
}
