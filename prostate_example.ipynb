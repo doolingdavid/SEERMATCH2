{
 "cells": [
  {
   "cell_type": "code",
   "execution_count": 1,
   "metadata": {
    "collapsed": false,
    "slideshow": {
     "slide_type": "skip"
    }
   },
   "outputs": [
    {
     "data": {
      "text/html": [
       "<script>\n",
       "code_show=true; \n",
       "function code_toggle() {\n",
       " if (code_show){\n",
       " $('div.input').hide();\n",
       " } else {\n",
       " $('div.input').show();\n",
       " }\n",
       " code_show = !code_show\n",
       "} \n",
       "$( document ).ready(code_toggle);\n",
       "</script>\n",
       "<form action=\"javascript:code_toggle()\"><input type=\"submit\" value=\"Click here to toggle on/off the raw code.\"></form>"
      ],
      "text/plain": [
       "<IPython.core.display.HTML object>"
      ]
     },
     "execution_count": 1,
     "metadata": {},
     "output_type": "execute_result"
    }
   ],
   "source": [
    "from IPython.display import HTML\n",
    "\n",
    "HTML('''<script>\n",
    "code_show=true; \n",
    "function code_toggle() {\n",
    " if (code_show){\n",
    " $('div.input').hide();\n",
    " } else {\n",
    " $('div.input').show();\n",
    " }\n",
    " code_show = !code_show\n",
    "} \n",
    "$( document ).ready(code_toggle);\n",
    "</script>\n",
    "<form action=\"javascript:code_toggle()\"><input type=\"submit\" value=\"Click here to toggle on/off the raw code.\"></form>''')  "
   ]
  },
  {
   "cell_type": "code",
   "execution_count": 2,
   "metadata": {
    "collapsed": true,
    "slideshow": {
     "slide_type": "skip"
    }
   },
   "outputs": [],
   "source": [
    "import numpy as np\n",
    "import pandas as pd\n",
    "import matplotlib.pyplot as plt\n",
    "from pandas import Series, DataFrame\n",
    "import pytz\n",
    "from pytz import common_timezones, all_timezones\n",
    "import matplotlib\n",
    "matplotlib.style.use('ggplot')\n",
    "%matplotlib inline\n",
    "from datetime import datetime\n",
    "import scipy as sp\n",
    "import statsmodels.api as sm\n",
    "import statsmodels.formula.api as smf\n",
    "matplotlib.style.use('fivethirtyeight')\n",
    "matplotlib.style.use('seaborn-talk')"
   ]
  },
  {
   "cell_type": "markdown",
   "metadata": {
    "slideshow": {
     "slide_type": "slide"
    }
   },
   "source": [
    "This ipython notebook will illustrate the matching methodology we will use to match patients in the SEER-Medicare linked database. The comparison between patient outcomes for those patients who receive proton beam therapy vs traditional radiation therapy requires as a first step a matching of the two different groups. One method to perform this matching is to use Propensity Score Matching. Here we are going to illustrate a more direct method of matching using KDTrees, a data structure that allows for efficient finding of nearest neighbors in high-dimenional space."
   ]
  },
  {
   "cell_type": "markdown",
   "metadata": {
    "slideshow": {
     "slide_type": "slide"
    }
   },
   "source": [
    "We will first identify all patients with prostate cancer (using the primary site code C619). Then we will split the above patient population into two groups as follows: The treatment group, defined as the patients receiving any form of radiation; and the control group, defined as the patients who did not receive any form of radiation. Operationally, these groups are defined by looking at the column RADIATN, which has values:"
   ]
  },
  {
   "cell_type": "markdown",
   "metadata": {
    "slideshow": {
     "slide_type": "slide"
    }
   },
   "source": [
    "| Code\t| Description |\n",
    "|:---------:|:-------------:|\n",
    "|0|\tNone; diagnosed at autopsy |\n",
    "|1|\tBeam radiation |\n",
    "|2|\tRadioacative implants |\n",
    "|3|\tRadioisotopes |\n",
    "|4|\tCombination of 1 with 2 or 3 |\n",
    "|5|\tRadiation, NOS - method or source not specified |\n",
    "|6|\tOther radiation (1973-1987 cases only) |\n",
    "|7|\tPatient or patient's guardian refused radiation therapy |\n",
    "|8|\tRadiation recommened, unknown if administered |\n",
    "|9|\tUnknown if radiation administered |\n",
    "\n",
    "So that a value of 0 defines the control group, and teh values (1,2,3,4,5,6) define the treatment group. We will then perform matching between the resulting treatment and control groups."
   ]
  },
  {
   "cell_type": "code",
   "execution_count": 4,
   "metadata": {
    "collapsed": false,
    "slideshow": {
     "slide_type": "skip"
    }
   },
   "outputs": [
    {
     "data": {
      "text/plain": [
       "['SEER_1973_2013_TEXTDATA\\\\incidence\\\\yr1973_2013.seer9\\\\MALEGEN.TXT',\n",
       " 'SEER_1973_2013_TEXTDATA\\\\incidence\\\\yr1992_2013.sj_la_rg_ak\\\\MALEGEN.TXT',\n",
       " 'SEER_1973_2013_TEXTDATA\\\\incidence\\\\yr2000_2013.ca_ky_lo_nj_ga\\\\MALEGEN.TXT',\n",
       " 'SEER_1973_2013_TEXTDATA\\\\incidence\\\\yr2005.lo_2nd_half\\\\MALEGEN.txt']"
      ]
     },
     "execution_count": 4,
     "metadata": {},
     "output_type": "execute_result"
    }
   ],
   "source": [
    "import seerhelp\n",
    "malegenfiles = seerhelp.get_malegenfiles()\n",
    "malegenfiles"
   ]
  },
  {
   "cell_type": "code",
   "execution_count": 5,
   "metadata": {
    "collapsed": false,
    "slideshow": {
     "slide_type": "skip"
    }
   },
   "outputs": [
    {
     "name": "stdout",
     "output_type": "stream",
     "text": [
      "(1214943, 141)\n"
     ]
    }
   ],
   "source": [
    "import seerhelp\n",
    "malegenfiles = seerhelp.get_malegenfiles()\n",
    "\n",
    "\n",
    "dfmalegen0 = seerhelp.make_clean_dataframe(malegenfiles[0])\n",
    "dfmalegen1 = seerhelp.make_clean_dataframe(malegenfiles[1])\n",
    "dfmalegen2 = seerhelp.make_clean_dataframe(malegenfiles[2])\n",
    "dfmalegen3 = seerhelp.make_clean_dataframe(malegenfiles[3])\n",
    "\n",
    "dfmalegen = pd.concat([dfmalegen0, dfmalegen1, dfmalegen2,\n",
    "                     dfmalegen3], ignore_index=True)\n",
    "\n",
    "#dfother = pd.concat([dfother0, dfother1,dfother3], ignore_index=True)\n",
    "\n",
    "print(dfmalegen.shape)\n",
    "\n",
    "del dfmalegen0\n",
    "del dfmalegen1\n",
    "del dfmalegen2\n",
    "del dfmalegen3"
   ]
  },
  {
   "cell_type": "code",
   "execution_count": 6,
   "metadata": {
    "collapsed": false,
    "slideshow": {
     "slide_type": "skip"
    }
   },
   "outputs": [
    {
     "data": {
      "text/plain": [
       "Prostate gland                                  1152617\n",
       "Testis, NOS                                       32028\n",
       "Descended testis                                  16107\n",
       "Penis, NOS                                         6139\n",
       "Glans penis                                        2526\n",
       "Scrotum, NOS                                       1756\n",
       "Prepuce                                            1346\n",
       "Undescended testis                                  883\n",
       "Body of penis                                       512\n",
       "Spermatic cord                                      500\n",
       "Overlapping lesion of penis                         267\n",
       "Overlapping lesion of male genital organs            91\n",
       "Male genital organs, NOS                             83\n",
       "Epididymis                                           59\n",
       "Other specified parts of male genital organs         29\n",
       "Name: PRIMSITE, dtype: int64"
      ]
     },
     "execution_count": 6,
     "metadata": {},
     "output_type": "execute_result"
    }
   ],
   "source": [
    "dfmalegen.PRIMSITE.value_counts()"
   ]
  },
  {
   "cell_type": "code",
   "execution_count": 8,
   "metadata": {
    "collapsed": false,
    "slideshow": {
     "slide_type": "skip"
    }
   },
   "outputs": [
    {
     "data": {
      "text/plain": [
       "Prostate gland    1152617\n",
       "Name: PRIMSITE, dtype: int64"
      ]
     },
     "execution_count": 8,
     "metadata": {},
     "output_type": "execute_result"
    }
   ],
   "source": [
    "dfprostateorig = dfmalegen[dfmalegen.PRIMSITE.str.contains('prostate',case=False)]\n",
    "dfprostateorig.PRIMSITE.value_counts()"
   ]
  },
  {
   "cell_type": "code",
   "execution_count": 10,
   "metadata": {
    "collapsed": false,
    "slideshow": {
     "slide_type": "skip"
    }
   },
   "outputs": [],
   "source": [
    "mask = (dfprostateorig['CSTUMSIZ'] != \"Unknown; size not stated; not stated in patient record\") & \\\n",
    "(dfprostateorig['CSTUMSIZ'] != \"Microscopic focus or foci only; no size of focus is given\") & \\\n",
    "(dfprostateorig['CSTUMSIZ'] != \"989 millimeters or larger\") & \\\n",
    "(dfprostateorig['CSTUMSIZ'] != \"Not applicable\") & \\\n",
    "(dfprostateorig['AGE_DX'] != \"Unknown age\") & \\\n",
    "(dfprostateorig['srv_time_mon_flag'] == \"Complete dates are available and there are more than 0 days of survival\") & \\\n",
    "(dfprostateorig['YEAR_DX'] >= 2004) & \\\n",
    "(dfprostateorig['CSTUMSIZ'] != \"Described as less than 1 cm\") & \\\n",
    "(dfprostateorig['CSTUMSIZ'] != \"Described as less than 2 cm\") & \\\n",
    "(dfprostateorig['CSTUMSIZ'] != \"Described as less than 3 cm\") & \\\n",
    "(dfprostateorig['CSTUMSIZ'] != 'Indicates no msas or no tumor found; for example, when a tumor of a stated primary site is not found, but the tumor has metastasized') & \\\n",
    "(dfprostateorig['CSTUMSIZ'] != \"Described as less than 4 cm\") & \\\n",
    "(dfprostateorig['CSTUMSIZ'] != \"Described as less than 5 cm\") & \\\n",
    "(dfprostateorig['CSTUMSIZ'] != \"Not applicable\") & \\\n",
    "(dfprostateorig['YR_BRTH'] != 'Unknown year of birth') & \\\n",
    "(dfprostateorig['CSTUMSIZ'] != 'Not applicable') & \\\n",
    "(dfprostateorig['CSTUMSIZ'] != 996) & \\\n",
    "(dfprostateorig['CSTUMSIZ'] != 997) & \\\n",
    "(dfprostateorig['CSTUMSIZ'] != 998) & \\\n",
    "(dfprostateorig['REC_NO'] == 1) \n",
    "\n",
    "dfprostate = dfprostateorig[mask]\n",
    "\n"
   ]
  },
  {
   "cell_type": "code",
   "execution_count": 11,
   "metadata": {
    "collapsed": true,
    "slideshow": {
     "slide_type": "skip"
    }
   },
   "outputs": [],
   "source": [
    "non_rad = dfprostate.RADIATN.str.contains('None',case=False,na=False)\n",
    "refused_rad = dfprostate.RADIATN.str.contains('refused',case=False,na=False)\n",
    "unknown_rad = dfprostate.RADIATN.str.contains('Unknown',case=False,na=False)"
   ]
  },
  {
   "cell_type": "code",
   "execution_count": 12,
   "metadata": {
    "collapsed": true,
    "slideshow": {
     "slide_type": "skip"
    }
   },
   "outputs": [],
   "source": [
    "dfprostatecontrol = dfprostate[non_rad | refused_rad].copy()\n",
    "dfprostatetreatment = dfprostate[~(non_rad) & ~(refused_rad) & ~(unknown_rad)].copy()"
   ]
  },
  {
   "cell_type": "code",
   "execution_count": 13,
   "metadata": {
    "collapsed": false,
    "slideshow": {
     "slide_type": "skip"
    }
   },
   "outputs": [
    {
     "name": "stdout",
     "output_type": "stream",
     "text": [
      "(51588, 141) (7261, 141)\n"
     ]
    }
   ],
   "source": [
    "print(dfprostatecontrol.shape, dfprostatetreatment.shape)\n"
   ]
  },
  {
   "cell_type": "markdown",
   "metadata": {
    "slideshow": {
     "slide_type": "slide"
    }
   },
   "source": [
    "## <font color='steelblue'>So we are going to match patients in the treatment group with their nearest neighbors in the control group</font>\n",
    "\n",
    "In order to find the nearest neighbors in the high-dimensional feature space, we need to first do some preprocessing of the data. The first step is to \"one-hot-encode\" the categorical features."
   ]
  },
  {
   "cell_type": "code",
   "execution_count": 14,
   "metadata": {
    "collapsed": true,
    "slideshow": {
     "slide_type": "skip"
    }
   },
   "outputs": [],
   "source": [
    "dfprostatecontrol.set_index('PUBCSNUM', inplace=True)\n",
    "dfprostatetreatment.set_index('PUBCSNUM', inplace=True)\n",
    "\n",
    "controlindices = dfprostatecontrol.index\n",
    "treatmentindices = dfprostatetreatment.index\n",
    "\n",
    "catcols = ['SEX','MAR_STAT','RACEIV','NHIADE','GRADE','PRIMSITE',\n",
    "          'LATERAL','HST_STGA','HISTREC','MDXRECMP','STAT_REC']\n",
    "\n",
    "goodcols = ['SEX','MAR_STAT','RACEIV','NHIADE','GRADE','PRIMSITE',\n",
    "          'LATERAL','HST_STGA','HISTREC','MDXRECMP','STAT_REC',\n",
    "           'YR_BRTH','AGE_DX','YEAR_DX','CSTUMSIZ',\n",
    "           'lat','lng']\n",
    "\n",
    "\n",
    "dfpop = pd.concat([dfprostatecontrol, dfprostatetreatment],verify_integrity=True)"
   ]
  },
  {
   "cell_type": "markdown",
   "metadata": {
    "slideshow": {
     "slide_type": "slide"
    }
   },
   "source": [
    "## <font color='steelblue'>Before matching, let's look at the Kaplan-Meier curves</font>"
   ]
  },
  {
   "cell_type": "code",
   "execution_count": 15,
   "metadata": {
    "collapsed": true,
    "slideshow": {
     "slide_type": "skip"
    }
   },
   "outputs": [],
   "source": [
    "resgoodcontrol = pd.concat([pd.get_dummies(dfprostatecontrol[col],prefix=col) for col in catcols], axis=1)\n",
    "\n",
    "resgoodtreatment = pd.concat([pd.get_dummies(dfprostatetreatment[col],prefix=col) for col in catcols], axis=1)\n",
    "\n",
    "resgoodpop = pd.concat([pd.get_dummies(dfpop[col],prefix=col) for col in catcols], axis=1)\n",
    "\n",
    "resgoodcontrol['YR_BRTH'] = dfprostatecontrol['YR_BRTH']\n",
    "resgoodcontrol['AGE_DX'] = dfprostatecontrol['AGE_DX']#resgood['sequence_number_central'] = dfsmall['sequence_number_central']\n",
    "resgoodcontrol['YEAR_DX'] = dfprostatecontrol['YEAR_DX']\n",
    "resgoodcontrol['CSTUMSIZ'] = dfprostatecontrol['CSTUMSIZ']\n",
    "resgoodcontrol['lat'] = dfprostatecontrol['lat']\n",
    "resgoodcontrol['lng'] = dfprostatecontrol['lng']\n",
    "resgoodcontrol['srv_time_mon'] = dfprostatecontrol['srv_time_mon']\n",
    "\n",
    "\n",
    "resgoodtreatment['YR_BRTH'] = dfprostatetreatment['YR_BRTH']\n",
    "resgoodtreatment['AGE_DX'] = dfprostatetreatment['AGE_DX']#resgood['sequence_number_central'] = dfsmall['sequence_number_central']\n",
    "resgoodtreatment['YEAR_DX'] = dfprostatetreatment['YEAR_DX']\n",
    "resgoodtreatment['CSTUMSIZ'] = dfprostatetreatment['CSTUMSIZ']\n",
    "resgoodtreatment['lat'] = dfprostatetreatment['lat']\n",
    "resgoodtreatment['lng'] = dfprostatetreatment['lng']\n",
    "resgoodtreatment['srv_time_mon'] = dfprostatetreatment['srv_time_mon']\n",
    "\n",
    "\n",
    "resgoodpop['YR_BRTH'] = dfpop['YR_BRTH']\n",
    "resgoodpop['AGE_DX'] = dfpop['AGE_DX']#resgood['sequence_number_central'] = dfsmall['sequence_number_central']\n",
    "resgoodpop['YEAR_DX'] = dfpop['YEAR_DX']\n",
    "resgoodpop['CSTUMSIZ'] = dfpop['CSTUMSIZ']\n",
    "resgoodpop['lat'] = dfpop['lat']\n",
    "resgoodpop['lng'] = dfpop['lng']\n",
    "resgoodpop['srv_time_mon'] = dfpop['srv_time_mon']"
   ]
  },
  {
   "cell_type": "markdown",
   "metadata": {
    "slideshow": {
     "slide_type": "slide"
    }
   },
   "source": [
    "## <font color='steelblue'>After performing the matching between the control and treatment groups, we can see how the Kaplan-Meier curves differ</font>\n",
    "\n",
    "Below is how it looks **before** matching patients in the control and trreatment groups together in pairs. "
   ]
  },
  {
   "cell_type": "code",
   "execution_count": 16,
   "metadata": {
    "collapsed": false,
    "slideshow": {
     "slide_type": "skip"
    }
   },
   "outputs": [
    {
     "data": {
      "text/plain": [
       "<lifelines.KaplanMeierFitter: fitted with 7261 observations, 6424 censored>"
      ]
     },
     "execution_count": 16,
     "metadata": {},
     "output_type": "execute_result"
    }
   ],
   "source": [
    "from lifelines import KaplanMeierFitter\n",
    "\n",
    "kmfpop = KaplanMeierFitter()\n",
    "kmfcontrol = KaplanMeierFitter()\n",
    "kmftreatment = KaplanMeierFitter()\n",
    "\n",
    "Tcontrol = resgoodpop.loc[controlindices][\"srv_time_mon\"]\n",
    "Econtrol = resgoodpop.loc[controlindices][\"STAT_REC_Dead\"]\n",
    "\n",
    "Ttreatment = resgoodpop.loc[treatmentindices][\"srv_time_mon\"]\n",
    "Etreatment = resgoodpop.loc[treatmentindices][\"STAT_REC_Dead\"]\n",
    "\n",
    "Tpop = resgoodpop[\"srv_time_mon\"]\n",
    "Epop = resgoodpop[\"STAT_REC_Dead\"]\n",
    "\n",
    "kmfpop.fit(Tpop, event_observed=Epop,label='All left-sided breast');\n",
    "kmfcontrol.fit(Tcontrol, event_observed=Econtrol,label='No Radiation Group (control group)')\n",
    "kmftreatment.fit(Ttreatment, event_observed=Etreatment, label='Radiation Group (treatment group)')\n",
    "#ax = kmfpop.plot()\n",
    "#ax = kmfcontrol.plot()\n",
    "#kmftreatment.plot(ax=ax)\n",
    "#plt.title(\"Left-sided breast cancer patients Kaplan-Meier Curve (95% CI) \\n Pre-Matching\");"
   ]
  },
  {
   "cell_type": "code",
   "execution_count": 17,
   "metadata": {
    "collapsed": false,
    "slideshow": {
     "slide_type": "slide"
    }
   },
   "outputs": [
    {
     "data": {
      "image/png": "[encoded data removed]",
      "text/plain": [
       "<matplotlib.figure.Figure at 0x38586518>"
      ]
     },
     "metadata": {},
     "output_type": "display_data"
    }
   ],
   "source": [
    "ax = kmfcontrol.plot()\n",
    "kmftreatment.plot(ax=ax)\n",
    "plt.title(\"Prostate cancer Kaplan-Meier Curve (95% CI) \\n Pre-Matching\");"
   ]
  },
  {
   "cell_type": "code",
   "execution_count": null,
   "metadata": {
    "collapsed": true
   },
   "outputs": [],
   "source": []
  }
 ],
 "metadata": {
  "celltoolbar": "Slideshow",
  "kernelspec": {
   "display_name": "Python 3",
   "language": "python",
   "name": "python3"
  },
  "language_info": {
   "codemirror_mode": {
    "name": "ipython",
    "version": 3
   },
   "file_extension": ".py",
   "mimetype": "text/x-python",
   "name": "python",
   "nbconvert_exporter": "python",
   "pygments_lexer": "ipython3",
   "version": "3.5.1"
  },
  "widgets": {
   "state": {},
   "version": "1.1.2"
  }
 },
 "nbformat": 4,
 "nbformat_minor": 0
}
