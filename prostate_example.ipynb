{
 "cells": [
  {
   "cell_type": "code",
   "execution_count": 1,
   "metadata": {
    "collapsed": false,
    "slideshow": {
     "slide_type": "skip"
    }
   },
   "outputs": [
    {
     "data": {
      "text/html": [
       "<script>\n",
       "code_show=true; \n",
       "function code_toggle() {\n",
       " if (code_show){\n",
       " $('div.input').hide();\n",
       " } else {\n",
       " $('div.input').show();\n",
       " }\n",
       " code_show = !code_show\n",
       "} \n",
       "$( document ).ready(code_toggle);\n",
       "</script>\n",
       "<form action=\"javascript:code_toggle()\"><input type=\"submit\" value=\"Click here to toggle on/off the raw code.\"></form>"
      ],
      "text/plain": [
       "<IPython.core.display.HTML object>"
      ]
     },
     "execution_count": 1,
     "metadata": {},
     "output_type": "execute_result"
    }
   ],
   "source": [
    "from IPython.display import HTML\n",
    "\n",
    "HTML('''<script>\n",
    "code_show=true; \n",
    "function code_toggle() {\n",
    " if (code_show){\n",
    " $('div.input').hide();\n",
    " } else {\n",
    " $('div.input').show();\n",
    " }\n",
    " code_show = !code_show\n",
    "} \n",
    "$( document ).ready(code_toggle);\n",
    "</script>\n",
    "<form action=\"javascript:code_toggle()\"><input type=\"submit\" value=\"Click here to toggle on/off the raw code.\"></form>''')  "
   ]
  },
  {
   "cell_type": "code",
   "execution_count": 2,
   "metadata": {
    "collapsed": true,
    "slideshow": {
     "slide_type": "skip"
    }
   },
   "outputs": [],
   "source": [
    "import numpy as np\n",
    "import pandas as pd\n",
    "import matplotlib.pyplot as plt\n",
    "from pandas import Series, DataFrame\n",
    "import pytz\n",
    "from pytz import common_timezones, all_timezones\n",
    "import matplotlib\n",
    "matplotlib.style.use('ggplot')\n",
    "%matplotlib inline\n",
    "from datetime import datetime\n",
    "import scipy as sp\n",
    "import statsmodels.api as sm\n",
    "import statsmodels.formula.api as smf\n",
    "matplotlib.style.use('fivethirtyeight')\n",
    "matplotlib.style.use('seaborn-talk')"
   ]
  },
  {
   "cell_type": "markdown",
   "metadata": {
    "slideshow": {
     "slide_type": "slide"
    }
   },
   "source": [
    "This ipython notebook will illustrate the matching methodology we will use to match patients in the SEER-Medicare linked database. The comparison between patient outcomes for those patients who receive proton beam therapy vs traditional radiation therapy requires as a first step a matching of the two different groups. One method to perform this matching is to use Propensity Score Matching. Here we are going to illustrate a more direct method of matching using KDTrees, a data structure that allows for efficient finding of nearest neighbors in high-dimenional space."
   ]
  },
  {
   "cell_type": "markdown",
   "metadata": {
    "slideshow": {
     "slide_type": "slide"
    }
   },
   "source": [
    "We will first identify all patients with prostate cancer (using the primary site code C619). Then we will split the above patient population into two groups as follows: The treatment group, defined as the patients receiving any form of radiation; and the control group, defined as the patients who did not receive any form of radiation. Operationally, these groups are defined by looking at the column RADIATN, which has values:"
   ]
  },
  {
   "cell_type": "markdown",
   "metadata": {
    "slideshow": {
     "slide_type": "slide"
    }
   },
   "source": [
    "| Code\t| Description |\n",
    "|:---------:|:-------------:|\n",
    "|0|\tNone; diagnosed at autopsy |\n",
    "|1|\tBeam radiation |\n",
    "|2|\tRadioacative implants |\n",
    "|3|\tRadioisotopes |\n",
    "|4|\tCombination of 1 with 2 or 3 |\n",
    "|5|\tRadiation, NOS - method or source not specified |\n",
    "|6|\tOther radiation (1973-1987 cases only) |\n",
    "|7|\tPatient or patient's guardian refused radiation therapy |\n",
    "|8|\tRadiation recommened, unknown if administered |\n",
    "|9|\tUnknown if radiation administered |\n",
    "\n",
    "So that a value of 0 defines the control group, and teh values (1,2,3,4,5,6) define the treatment group. We will then perform matching between the resulting treatment and control groups."
   ]
  },
  {
   "cell_type": "code",
   "execution_count": 4,
   "metadata": {
    "collapsed": false,
    "slideshow": {
     "slide_type": "skip"
    }
   },
   "outputs": [
    {
     "data": {
      "text/plain": [
       "['SEER_1973_2013_TEXTDATA\\\\incidence\\\\yr1973_2013.seer9\\\\MALEGEN.TXT',\n",
       " 'SEER_1973_2013_TEXTDATA\\\\incidence\\\\yr1992_2013.sj_la_rg_ak\\\\MALEGEN.TXT',\n",
       " 'SEER_1973_2013_TEXTDATA\\\\incidence\\\\yr2000_2013.ca_ky_lo_nj_ga\\\\MALEGEN.TXT',\n",
       " 'SEER_1973_2013_TEXTDATA\\\\incidence\\\\yr2005.lo_2nd_half\\\\MALEGEN.txt']"
      ]
     },
     "execution_count": 4,
     "metadata": {},
     "output_type": "execute_result"
    }
   ],
   "source": [
    "import seerhelp\n",
    "malegenfiles = seerhelp.get_malegenfiles()\n",
    "malegenfiles"
   ]
  },
  {
   "cell_type": "code",
   "execution_count": 5,
   "metadata": {
    "collapsed": false,
    "slideshow": {
     "slide_type": "skip"
    }
   },
   "outputs": [
    {
     "name": "stdout",
     "output_type": "stream",
     "text": [
      "(1214943, 141)\n"
     ]
    }
   ],
   "source": [
    "import seerhelp\n",
    "malegenfiles = seerhelp.get_malegenfiles()\n",
    "\n",
    "\n",
    "dfmalegen0 = seerhelp.make_clean_dataframe(malegenfiles[0])\n",
    "dfmalegen1 = seerhelp.make_clean_dataframe(malegenfiles[1])\n",
    "dfmalegen2 = seerhelp.make_clean_dataframe(malegenfiles[2])\n",
    "dfmalegen3 = seerhelp.make_clean_dataframe(malegenfiles[3])\n",
    "\n",
    "dfmalegen = pd.concat([dfmalegen0, dfmalegen1, dfmalegen2,\n",
    "                     dfmalegen3], ignore_index=True)\n",
    "\n",
    "#dfother = pd.concat([dfother0, dfother1,dfother3], ignore_index=True)\n",
    "\n",
    "print(dfmalegen.shape)\n",
    "\n",
    "del dfmalegen0\n",
    "del dfmalegen1\n",
    "del dfmalegen2\n",
    "del dfmalegen3"
   ]
  },
  {
   "cell_type": "code",
   "execution_count": 6,
   "metadata": {
    "collapsed": false,
    "slideshow": {
     "slide_type": "skip"
    }
   },
   "outputs": [
    {
     "data": {
      "text/plain": [
       "Prostate gland                                  1152617\n",
       "Testis, NOS                                       32028\n",
       "Descended testis                                  16107\n",
       "Penis, NOS                                         6139\n",
       "Glans penis                                        2526\n",
       "Scrotum, NOS                                       1756\n",
       "Prepuce                                            1346\n",
       "Undescended testis                                  883\n",
       "Body of penis                                       512\n",
       "Spermatic cord                                      500\n",
       "Overlapping lesion of penis                         267\n",
       "Overlapping lesion of male genital organs            91\n",
       "Male genital organs, NOS                             83\n",
       "Epididymis                                           59\n",
       "Other specified parts of male genital organs         29\n",
       "Name: PRIMSITE, dtype: int64"
      ]
     },
     "execution_count": 6,
     "metadata": {},
     "output_type": "execute_result"
    }
   ],
   "source": [
    "dfmalegen.PRIMSITE.value_counts()"
   ]
  },
  {
   "cell_type": "code",
   "execution_count": 7,
   "metadata": {
    "collapsed": false,
    "slideshow": {
     "slide_type": "skip"
    }
   },
   "outputs": [
    {
     "data": {
      "text/plain": [
       "Prostate gland    1152617\n",
       "Name: PRIMSITE, dtype: int64"
      ]
     },
     "execution_count": 7,
     "metadata": {},
     "output_type": "execute_result"
    }
   ],
   "source": [
    "dfprostate = dfmalegen[dfmalegen.PRIMSITE.str.contains('prostate',case=False)]\n",
    "dfprostate.PRIMSITE.value_counts()"
   ]
  },
  {
   "cell_type": "code",
   "execution_count": null,
   "metadata": {
    "collapsed": true
   },
   "outputs": [],
   "source": []
  }
 ],
 "metadata": {
  "celltoolbar": "Slideshow",
  "kernelspec": {
   "display_name": "Python 3",
   "language": "python",
   "name": "python3"
  },
  "language_info": {
   "codemirror_mode": {
    "name": "ipython",
    "version": 3
   },
   "file_extension": ".py",
   "mimetype": "text/x-python",
   "name": "python",
   "nbconvert_exporter": "python",
   "pygments_lexer": "ipython3",
   "version": "3.5.1"
  },
  "widgets": {
   "state": {},
   "version": "1.1.2"
  }
 },
 "nbformat": 4,
 "nbformat_minor": 0
}
